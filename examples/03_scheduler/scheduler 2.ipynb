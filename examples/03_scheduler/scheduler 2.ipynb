{
 "cells": [
  {
   "cell_type": "markdown",
   "metadata": {},
   "source": [
    "# redun's scheduler walk through\n",
    "\n",
    "In this notebook, we'll walk through how redun's scheduler implements workflow execution. Briefly, redun represents workflows as computional expressions that are iteratively evaluated by a scheduler using a technique called [graph reduction](https://en.wikipedia.org/wiki/Graph_reduction). This approach allows users to specify large computational workflows in a very natural and expressive style.\n",
    "\n",
    "If you haven't already please see the first two examples for an introduction to redun's basic features. Those examples executed workflows using the `redun` CLI (command-line interface), which is the most common way to execute a workflow. In this notebook, we will run workflows programmatically using the `Scheduler` class in order to inspect the execution process more closely. The redun CLI is just a thin wrapper around the `Scheduler`."
   ]
  },
  {
   "cell_type": "code",
   "execution_count": 1,
   "metadata": {},
   "outputs": [],
   "source": [
    "# Imports.\n",
    "import logging, time\n",
    "\n",
    "from redun import Scheduler, task"
   ]
  },
  {
   "cell_type": "code",
   "execution_count": 2,
   "metadata": {},
   "outputs": [
    {
     "name": "stderr",
     "output_type": "stream",
     "text": [
      "[redun] Upgrading db from version -1.0 to 3.1...\n"
     ]
    }
   ],
   "source": [
    "# Create a minimal Scheduler that uses in-memory cache.\n",
    "\n",
    "scheduler = Scheduler()\n",
    "scheduler.logger.setLevel(logging.INFO)"
   ]
  },
  {
   "cell_type": "code",
   "execution_count": 3,
   "metadata": {},
   "outputs": [],
   "source": [
    "# Create a simple redun task.\n",
    "\n",
    "# Tasks will automatically use the global variable `redun_namespace` as their namespace.\n",
    "redun_namespace = \"redun_notebook\"\n",
    "\n",
    "@task()\n",
    "def add(a, b):\n",
    "    return a + b"
   ]
  },
  {
   "cell_type": "code",
   "execution_count": 4,
   "metadata": {},
   "outputs": [
    {
     "data": {
      "text/plain": [
       "Task(fullname=redun_notebook.add, hash=496bc317)"
      ]
     },
     "execution_count": 4,
     "metadata": {},
     "output_type": "execute_result"
    }
   ],
   "source": [
    "# The `@task` decorator turns functions into Task objects.\n",
    "add"
   ]
  },
  {
   "cell_type": "code",
   "execution_count": 5,
   "metadata": {},
   "outputs": [
    {
     "name": "stdout",
     "output_type": "stream",
     "text": [
      "name add\n",
      "hash 496bc31711bb263aa03d3064f2c6939d8cccec42\n",
      "func <function add at 0x7fa0a9a5b9d0>\n",
      "def add(a, b):\n",
      "    return a + b\n",
      "\n"
     ]
    }
   ],
   "source": [
    "# Tasks have several properties, such as a name, a hash, their source code, and the original wrapped function.\n",
    "print(\"name\", add.name)\n",
    "print(\"hash\", add.hash)\n",
    "print(\"func\", add.func)\n",
    "print(add.source)"
   ]
  },
  {
   "cell_type": "code",
   "execution_count": 6,
   "metadata": {},
   "outputs": [
    {
     "data": {
      "text/plain": [
       "TaskExpression('redun_notebook.add', (1, 2), {})"
      ]
     },
     "execution_count": 6,
     "metadata": {},
     "output_type": "execute_result"
    }
   ],
   "source": [
    "# The key trick is that task calls are intercepted and return Expressions.\n",
    "add(1, 2)"
   ]
  },
  {
   "cell_type": "code",
   "execution_count": 96,
   "metadata": {},
   "outputs": [],
   "source": [
    "# The most common Expression is a TaskExpression. The following Expression,\n",
    "#   TaskExpression('redun_notebook.add', (1, 2), {})\n",
    "# represents calling the task 'redun_notebook.add' with positional arguments (1, 2) and keyword arguments {}."
   ]
  },
  {
   "cell_type": "code",
   "execution_count": 7,
   "metadata": {},
   "outputs": [
    {
     "name": "stderr",
     "output_type": "stream",
     "text": [
      "[redun] Start Execution 0f9c60b3-89b6-4fcd-b9ad-3c271a74e3f6:  redun 'TaskExpression('\"'\"'redun_notebook.add'\"'\"', (1, 2), {})'\n",
      "[redun] Run    Job 437dae71:  redun_notebook.add(a=1, b=2) on default\n",
      "[redun] \n",
      "[redun] | JOB STATUS 2022/04/27 16:36:47\n",
      "[redun] | TASK               PENDING RUNNING  FAILED  CACHED    DONE   TOTAL\n",
      "[redun] | \n",
      "[redun] | ALL                      0       0       0       0       1       1\n",
      "[redun] | redun_notebook.add       0       0       0       0       1       1\n",
      "[redun] \n",
      "[redun] Execution duration: 0.04 seconds\n"
     ]
    },
    {
     "data": {
      "text/plain": [
       "3"
      ]
     },
     "execution_count": 7,
     "metadata": {},
     "output_type": "execute_result"
    }
   ],
   "source": [
    "# To evaluate an expression, use scheduler.run():\n",
    "scheduler.run(add(1, 2))"
   ]
  },
  {
   "cell_type": "code",
   "execution_count": 8,
   "metadata": {},
   "outputs": [
    {
     "data": {
      "text/plain": [
       "TaskExpression('redun_notebook.add', (TaskExpression('redun_notebook.add', (1, 2), {}), 3), {})"
      ]
     },
     "execution_count": 8,
     "metadata": {},
     "output_type": "execute_result"
    }
   ],
   "source": [
    "# Expressions can be combined into an expression tree/graph.\n",
    "add(add(1, 2), 3)"
   ]
  },
  {
   "cell_type": "code",
   "execution_count": 11,
   "metadata": {},
   "outputs": [
    {
     "name": "stderr",
     "output_type": "stream",
     "text": [
      "[redun] Start Execution 90a49a83-f685-4928-9096-d161078ec71d:  redun 'TaskExpression('\"'\"'redun.root_task'\"'\"', (<redun.expression.QuotedExpression object at 0x7fa090286e20>,), {})'\n",
      "[redun] Cached Job 87c72e97:  redun.root_task(expr=<redun.expression.QuotedExpression object at 0x7fa090286e20>) (eval_hash=beb19b56)\n",
      "[redun] Cached Job 956e4a66:  redun_notebook.add(a=1, b=2) (eval_hash=a162a83f)\n",
      "[redun] Cached Job 1f7f2900:  redun_notebook.add(a=3, b=3) (eval_hash=27dfaec4)\n",
      "[redun] \n",
      "[redun] | JOB STATUS 2022/04/27 16:37:40\n",
      "[redun] | TASK               PENDING RUNNING  FAILED  CACHED    DONE   TOTAL\n",
      "[redun] | \n",
      "[redun] | ALL                      0       0       0       4       6      10\n",
      "[redun] | redun.root_task          0       0       0       1       2       3\n",
      "[redun] | redun_notebook.add       0       0       0       3       4       7\n",
      "[redun] \n",
      "[redun] Execution duration: 0.03 seconds\n"
     ]
    },
    {
     "data": {
      "text/plain": [
       "6"
      ]
     },
     "execution_count": 11,
     "metadata": {},
     "output_type": "execute_result"
    }
   ],
   "source": [
    "# We can evaluate a whole expression tree using the scheduler:\n",
    "scheduler.run(add(add(1, 2), 3))"
   ]
  },
  {
   "cell_type": "code",
   "execution_count": 12,
   "metadata": {},
   "outputs": [],
   "source": [
    "# We have defined a small workflow/pipeline using what others call \"invocation style\"."
   ]
  },
  {
   "cell_type": "code",
   "execution_count": 13,
   "metadata": {},
   "outputs": [],
   "source": [
    "# Let's redefine the add() task to be artificially slower, so we can more easily see tasks running in parallel.\n",
    "\n",
    "@task(version='1')\n",
    "def add(a, b):\n",
    "    print(f\"start add({a}, {b})\")\n",
    "    time.sleep(1)\n",
    "    print(f\"stop  add({a}, {b})\")\n",
    "    return a + b"
   ]
  },
  {
   "cell_type": "code",
   "execution_count": 14,
   "metadata": {},
   "outputs": [
    {
     "name": "stdout",
     "output_type": "stream",
     "text": [
      "def add(a, b):\n",
      "    print(f\"start add({a}, {b})\")\n",
      "    time.sleep(1)\n",
      "    print(f\"stop  add({a}, {b})\")\n",
      "    return a + b\n",
      "\n"
     ]
    },
    {
     "data": {
      "text/plain": [
       "'037d0e72cc62a8360d7cb321a68135eb790f17cd'"
      ]
     },
     "execution_count": 14,
     "metadata": {},
     "output_type": "execute_result"
    }
   ],
   "source": [
    "# Task source and hash should now be updated.\n",
    "\n",
    "print(add.source)\n",
    "\n",
    "add.hash"
   ]
  },
  {
   "cell_type": "code",
   "execution_count": 15,
   "metadata": {},
   "outputs": [
    {
     "name": "stderr",
     "output_type": "stream",
     "text": [
      "[redun] Upgrading db from version -1.0 to 3.1...\n",
      "[redun] Start Execution df0c5f2d-3bd5-4a38-b2a4-e10eba5c03ac:  redun 'TaskExpression('\"'\"'redun.root_task'\"'\"', (<redun.expression.QuotedExpression object at 0x7fa0c068f940>,), {})'\n",
      "[redun] Run    Job 857d825b:  redun.root_task(expr=<redun.expression.QuotedExpression object at 0x7fa0c068f940>) on default\n",
      "[redun] Run    Job 80d4aa09:  redun_notebook.add(a=1, b=2) on default\n"
     ]
    },
    {
     "name": "stdout",
     "output_type": "stream",
     "text": [
      "start add(1, 2)"
     ]
    },
    {
     "name": "stderr",
     "output_type": "stream",
     "text": [
      "[redun] Run    Job 4a4de46b:  redun_notebook.add(a=3, b=4) on default\n"
     ]
    },
    {
     "name": "stdout",
     "output_type": "stream",
     "text": [
      "\n",
      "start add(3, 4)\n",
      "stop  add(1, 2)\n",
      "stop  add(3, 4)\n"
     ]
    },
    {
     "name": "stderr",
     "output_type": "stream",
     "text": [
      "[redun] Run    Job 72131e56:  redun_notebook.add(a=3, b=7) on default\n"
     ]
    },
    {
     "name": "stdout",
     "output_type": "stream",
     "text": [
      "start add(3, 7)\n",
      "stop  add(3, 7)\n"
     ]
    },
    {
     "name": "stderr",
     "output_type": "stream",
     "text": [
      "[redun] \n",
      "[redun] | JOB STATUS 2022/04/27 16:38:15\n",
      "[redun] | TASK               PENDING RUNNING  FAILED  CACHED    DONE   TOTAL\n",
      "[redun] | \n",
      "[redun] | ALL                      0       0       0       0       4       4\n",
      "[redun] | redun.root_task          0       0       0       0       1       1\n",
      "[redun] | redun_notebook.add       0       0       0       0       3       3\n",
      "[redun] \n",
      "[redun] Execution duration: 2.08 seconds\n"
     ]
    },
    {
     "data": {
      "text/plain": [
       "10"
      ]
     },
     "execution_count": 15,
     "metadata": {},
     "output_type": "execute_result"
    }
   ],
   "source": [
    "# Expressions that do not depend on each other (e.g. `add(1, 2)` and `add(3, 4)`) will \n",
    "# automatically run in parallel. Notice how we see two starts and then two stops.\n",
    "scheduler = Scheduler()\n",
    "scheduler.run(add(add(1, 2), add(3, 4)))"
   ]
  },
  {
   "cell_type": "markdown",
   "metadata": {},
   "source": [
    "## Executing workflows with graph reduction\n",
    "\n",
    "The redun scheduler treats the expression `add(add(1, 2), add(3, 4))` as a tree (or DAG more generally). In the figure below, concrete values (anything that's not a subclass of `Expression`) are drawn in grey boxes, and `TaskExpressions` are drawn in blue boxes.\n",
    "\n",
    "<img width=\"50%\" src=\"images/expression-tree.png\">\n",
    "\n",
    "When `scheduler.run()` is applied, it begins to identify subtrees that can be *reduced*, namely tasks with concrete arguments (see red boxes below). The scheduler will perform these reductions by calling tasks (e.g. `add`) with the child nodes as the arguments. These task executions can occur in parallel, which is safe to do because tasks are required to be written as pure functions with no side-effects. The scheduler can also consult the cache before performing each reduction to see if it can skip executing a task and instead just replay the result.\n",
    "\n",
    "<img width=\"50%\" src=\"images/expression-tree2.png\">\n",
    "\n",
    "When a task completes its execution, its result is replaced into the expression tree.\n",
    "\n",
    "<img width=\"25%\" src=\"images/expression-tree3.png\">\n",
    "\n",
    "As reductions complete, additional reductions become possible.\n",
    "\n",
    "<img width=\"25%\" src=\"images/expression-tree4.png\">\n",
    "\n",
    "Eventually the expression graph reduces to a single concrete value and the workflow execution concludes.\n",
    "\n",
    "<img width=\"12%\" src=\"images/expression-tree5.png\">"
   ]
  },
  {
   "cell_type": "code",
   "execution_count": 16,
   "metadata": {},
   "outputs": [],
   "source": [
    "# Let's say we add four numbers a lot. Let's abstract it into its own task.\n",
    "\n",
    "@task()\n",
    "def add4(a, b, c, d):\n",
    "    return add(add(a, b), add(c, d))"
   ]
  },
  {
   "cell_type": "code",
   "execution_count": 17,
   "metadata": {
    "scrolled": true
   },
   "outputs": [
    {
     "name": "stderr",
     "output_type": "stream",
     "text": [
      "[redun] Start Execution d12b0029-c71e-43c1-8647-b6628d20ab21:  redun 'TaskExpression('\"'\"'redun_notebook.add4'\"'\"', (5, 6, 7, 8), {})'\n",
      "[redun] Run    Job 46f3fdca:  redun_notebook.add4(a=5, b=6, c=7, d=8) on default\n",
      "[redun] Run    Job 253320ed:  redun_notebook.add(a=5, b=6) on default\n"
     ]
    },
    {
     "name": "stdout",
     "output_type": "stream",
     "text": [
      "start add(5, 6)\n"
     ]
    },
    {
     "name": "stderr",
     "output_type": "stream",
     "text": [
      "[redun] Run    Job db923a81:  redun_notebook.add(a=7, b=8) on default\n"
     ]
    },
    {
     "name": "stdout",
     "output_type": "stream",
     "text": [
      "start add(7, 8)\n",
      "stop  add(5, 6)\n",
      "stop  add(7, 8)\n"
     ]
    },
    {
     "name": "stderr",
     "output_type": "stream",
     "text": [
      "[redun] Run    Job c897a0c1:  redun_notebook.add(a=11, b=15) on default\n"
     ]
    },
    {
     "name": "stdout",
     "output_type": "stream",
     "text": [
      "start add(11, 15)\n",
      "stop  add(11, 15)\n"
     ]
    },
    {
     "name": "stderr",
     "output_type": "stream",
     "text": [
      "[redun] \n",
      "[redun] | JOB STATUS 2022/04/27 16:39:56\n",
      "[redun] | TASK                PENDING RUNNING  FAILED  CACHED    DONE   TOTAL\n",
      "[redun] | \n",
      "[redun] | ALL                       0       0       0       0       8       8\n",
      "[redun] | redun.root_task           0       0       0       0       1       1\n",
      "[redun] | redun_notebook.add        0       0       0       0       6       6\n",
      "[redun] | redun_notebook.add4       0       0       0       0       1       1\n",
      "[redun] \n",
      "[redun] Execution duration: 2.09 seconds\n"
     ]
    },
    {
     "data": {
      "text/plain": [
       "26"
      ]
     },
     "execution_count": 17,
     "metadata": {},
     "output_type": "execute_result"
    }
   ],
   "source": [
    "scheduler.run(add4(5, 6, 7, 8))"
   ]
  },
  {
   "cell_type": "code",
   "execution_count": 106,
   "metadata": {},
   "outputs": [],
   "source": [
    "# This returns the expected result. If a redun task returns an expression, \n",
    "# the scheduler will perform a follow up evaluation."
   ]
  },
  {
   "cell_type": "markdown",
   "metadata": {},
   "source": [
    "## Graph reductions that return more expressions\n",
    "\n",
    "The expression `add4(5, 6, 7, 8)` would look like the following expression tree.\n",
    "\n",
    "<img width=\"50%\" src=\"images/expression-tree6.png\">\n",
    "\n",
    "As we saw above, instead of returning a concrete value, task `add4` actually returned more expressions. This is a completely valid thing to do, and when it happens, the redun scheduler will simply place those expressions into a expression graph.\n",
    "\n",
    "<img width=\"50%\" src=\"images/expression-tree7.png\">\n",
    "\n",
    "The scheduler will begin to recurse into the new expressions looking for more reductions. \n",
    "\n",
    "In this way, the expression graph can actually expand and contract. Being able to dynamically grow the expression graph is what gives redun its ability to express very dynamic workflows.\n",
    "\n",
    "This process actually follows the implementation of classic functional programming language compilers and interpreters."
   ]
  },
  {
   "cell_type": "code",
   "execution_count": 18,
   "metadata": {},
   "outputs": [],
   "source": [
    "# Let's generalize 'add' to arbitrary number of values.\n",
    "\n",
    "@task()\n",
    "def add_many(values, init=0):\n",
    "    if len(values) == 0:\n",
    "        return init\n",
    "    elif len(values) == 1:\n",
    "        return values[0]\n",
    "    else:\n",
    "        k = len(values) // 2\n",
    "        sum1 = add_many(values[:k])\n",
    "        sum2 = add_many(values[k:])\n",
    "        return add(sum1, sum2)"
   ]
  },
  {
   "cell_type": "code",
   "execution_count": 19,
   "metadata": {
    "scrolled": true
   },
   "outputs": [
    {
     "name": "stderr",
     "output_type": "stream",
     "text": [
      "[redun] Start Execution cfc2b087-c8ce-47e7-aeec-33fbde829fb5:  redun 'TaskExpression('\"'\"'redun_notebook.add_many'\"'\"', ([0, 1, 2, 3, 4, 5, 6, 7, 8, 9, 10, 11, 12, 13, 14, 15, 16, 17, 18, 19, 20, 21, 22, 23, 24, 25, 26, 27, 28, 29, 30, 31, 32, 33, 34, 35, 36, 37, 38, 39, 40,...'\n",
      "[redun] Run    Job addae7e9:  redun_notebook.add_many(values=[0, 1, 2, 3, 4, 5, 6, 7, 8, 9, 10, 11, 12, 13, 14, 15, 16, 17, 18, 19, 20, 21, 22, 23, 24, 25, 26, 27, 28, 29, 30, 31, 32, 33, 34, 35, 36, 37, 38, 39, 40, 41, 42, 43, 44, 45, 46, 47, 48, 49, 50, 51..., init=0) on default\n",
      "[redun] Run    Job 8d650987:  redun_notebook.add_many(values=[0, 1, 2, 3, 4, 5, 6, 7, 8, 9, 10, 11, 12, 13, 14, 15, 16, 17, 18, 19, 20, 21, 22, 23, 24, 25, 26, 27, 28, 29, 30, 31, 32, 33, 34, 35, 36, 37, 38, 39, 40, 41, 42, 43, 44, 45, 46, 47, 48, 49], init=0) on default\n",
      "[redun] Run    Job b9afed88:  redun_notebook.add_many(values=[50, 51, 52, 53, 54, 55, 56, 57, 58, 59, 60, 61, 62, 63, 64, 65, 66, 67, 68, 69, 70, 71, 72, 73, 74, 75, 76, 77, 78, 79, 80, 81, 82, 83, 84, 85, 86, 87, 88, 89, 90, 91, 92, 93, 94, 95, 96, 97, 98, 99], init=0) on default\n",
      "[redun] Run    Job f83d0772:  redun_notebook.add_many(values=[0, 1, 2, 3, 4, 5, 6, 7, 8, 9, 10, 11, 12, 13, 14, 15, 16, 17, 18, 19, 20, 21, 22, 23, 24], init=0) on default\n",
      "[redun] Run    Job d32b1cd2:  redun_notebook.add_many(values=[25, 26, 27, 28, 29, 30, 31, 32, 33, 34, 35, 36, 37, 38, 39, 40, 41, 42, 43, 44, 45, 46, 47, 48, 49], init=0) on default\n",
      "[redun] Run    Job ccabc990:  redun_notebook.add_many(values=[50, 51, 52, 53, 54, 55, 56, 57, 58, 59, 60, 61, 62, 63, 64, 65, 66, 67, 68, 69, 70, 71, 72, 73, 74], init=0) on default\n",
      "[redun] Run    Job 5e28b4ba:  redun_notebook.add_many(values=[75, 76, 77, 78, 79, 80, 81, 82, 83, 84, 85, 86, 87, 88, 89, 90, 91, 92, 93, 94, 95, 96, 97, 98, 99], init=0) on default\n",
      "[redun] Run    Job 6480b716:  redun_notebook.add_many(values=[0, 1, 2, 3, 4, 5, 6, 7, 8, 9, 10, 11], init=0) on default\n",
      "[redun] Run    Job 0d441b3c:  redun_notebook.add_many(values=[12, 13, 14, 15, 16, 17, 18, 19, 20, 21, 22, 23, 24], init=0) on default\n",
      "[redun] Run    Job 09e9685b:  redun_notebook.add_many(values=[25, 26, 27, 28, 29, 30, 31, 32, 33, 34, 35, 36], init=0) on default\n",
      "[redun] Run    Job ae3468c6:  redun_notebook.add_many(values=[37, 38, 39, 40, 41, 42, 43, 44, 45, 46, 47, 48, 49], init=0) on default\n",
      "[redun] Run    Job 6cc05667:  redun_notebook.add_many(values=[50, 51, 52, 53, 54, 55, 56, 57, 58, 59, 60, 61], init=0) on default\n",
      "[redun] Run    Job 97e15b0a:  redun_notebook.add_many(values=[62, 63, 64, 65, 66, 67, 68, 69, 70, 71, 72, 73, 74], init=0) on default\n",
      "[redun] Run    Job 75e117ba:  redun_notebook.add_many(values=[75, 76, 77, 78, 79, 80, 81, 82, 83, 84, 85, 86], init=0) on default\n",
      "[redun] Run    Job d9207d5c:  redun_notebook.add_many(values=[87, 88, 89, 90, 91, 92, 93, 94, 95, 96, 97, 98, 99], init=0) on default\n",
      "[redun] Run    Job 862af7e5:  redun_notebook.add_many(values=[0, 1, 2, 3, 4, 5], init=0) on default\n",
      "[redun] Run    Job a8a0e386:  redun_notebook.add_many(values=[6, 7, 8, 9, 10, 11], init=0) on default\n",
      "[redun] Run    Job b11c5e58:  redun_notebook.add_many(values=[12, 13, 14, 15, 16, 17], init=0) on default\n",
      "[redun] Run    Job d41d0bda:  redun_notebook.add_many(values=[18, 19, 20, 21, 22, 23, 24], init=0) on default\n",
      "[redun] Run    Job 5c9221c4:  redun_notebook.add_many(values=[25, 26, 27, 28, 29, 30], init=0) on default\n",
      "[redun] Run    Job 4d4f3251:  redun_notebook.add_many(values=[31, 32, 33, 34, 35, 36], init=0) on default\n",
      "[redun] Run    Job cc6a57bb:  redun_notebook.add_many(values=[37, 38, 39, 40, 41, 42], init=0) on default\n",
      "[redun] Run    Job 6753e5e9:  redun_notebook.add_many(values=[43, 44, 45, 46, 47, 48, 49], init=0) on default\n",
      "[redun] Run    Job 7cdf9296:  redun_notebook.add_many(values=[50, 51, 52, 53, 54, 55], init=0) on default\n",
      "[redun] Run    Job 629b8177:  redun_notebook.add_many(values=[56, 57, 58, 59, 60, 61], init=0) on default\n",
      "[redun] Run    Job 29d5c76e:  redun_notebook.add_many(values=[62, 63, 64, 65, 66, 67], init=0) on default\n",
      "[redun] Run    Job 8be9d8ec:  redun_notebook.add_many(values=[68, 69, 70, 71, 72, 73, 74], init=0) on default\n",
      "[redun] Run    Job cd68d096:  redun_notebook.add_many(values=[75, 76, 77, 78, 79, 80], init=0) on default\n",
      "[redun] Run    Job e6658ece:  redun_notebook.add_many(values=[81, 82, 83, 84, 85, 86], init=0) on default\n",
      "[redun] Run    Job 83e90772:  redun_notebook.add_many(values=[87, 88, 89, 90, 91, 92], init=0) on default\n",
      "[redun] Run    Job 2ab4437b:  redun_notebook.add_many(values=[93, 94, 95, 96, 97, 98, 99], init=0) on default\n",
      "[redun] Run    Job 95226819:  redun_notebook.add_many(values=[0, 1, 2], init=0) on default\n",
      "[redun] Run    Job 8a8dcd26:  redun_notebook.add_many(values=[3, 4, 5], init=0) on default\n",
      "[redun] Run    Job f9850516:  redun_notebook.add_many(values=[6, 7, 8], init=0) on default\n",
      "[redun] Run    Job ae872ab2:  redun_notebook.add_many(values=[9, 10, 11], init=0) on default\n",
      "[redun] Run    Job 93db45a8:  redun_notebook.add_many(values=[12, 13, 14], init=0) on default\n",
      "[redun] Run    Job 647ac963:  redun_notebook.add_many(values=[15, 16, 17], init=0) on default\n",
      "[redun] Run    Job a616f1b1:  redun_notebook.add_many(values=[18, 19, 20], init=0) on default\n",
      "[redun] Run    Job 2dc015a4:  redun_notebook.add_many(values=[21, 22, 23, 24], init=0) on default\n",
      "[redun] Run    Job f04c93ea:  redun_notebook.add_many(values=[25, 26, 27], init=0) on default\n",
      "[redun] Run    Job b851862c:  redun_notebook.add_many(values=[28, 29, 30], init=0) on default\n",
      "[redun] Run    Job 87aeaf0c:  redun_notebook.add_many(values=[31, 32, 33], init=0) on default\n",
      "[redun] Run    Job 0d62ea21:  redun_notebook.add_many(values=[34, 35, 36], init=0) on default\n",
      "[redun] Run    Job bd6771e9:  redun_notebook.add_many(values=[37, 38, 39], init=0) on default\n",
      "[redun] Run    Job 880d48ee:  redun_notebook.add_many(values=[40, 41, 42], init=0) on default\n",
      "[redun] Run    Job 4a4b2353:  redun_notebook.add_many(values=[43, 44, 45], init=0) on default\n",
      "[redun] Run    Job 4ec7c320:  redun_notebook.add_many(values=[46, 47, 48, 49], init=0) on default\n",
      "[redun] Run    Job 2fa38539:  redun_notebook.add_many(values=[50, 51, 52], init=0) on default\n",
      "[redun] Run    Job 79091577:  redun_notebook.add_many(values=[53, 54, 55], init=0) on default\n",
      "[redun] Run    Job 675754b9:  redun_notebook.add_many(values=[56, 57, 58], init=0) on default\n",
      "[redun] Run    Job d11ca2bd:  redun_notebook.add_many(values=[59, 60, 61], init=0) on default\n",
      "[redun] Run    Job f7c7abb9:  redun_notebook.add_many(values=[62, 63, 64], init=0) on default\n",
      "[redun] Run    Job 52a4073d:  redun_notebook.add_many(values=[65, 66, 67], init=0) on default\n",
      "[redun] Run    Job c2bf6143:  redun_notebook.add_many(values=[68, 69, 70], init=0) on default\n",
      "[redun] Run    Job bee592ae:  redun_notebook.add_many(values=[71, 72, 73, 74], init=0) on default\n",
      "[redun] Run    Job 818e87fc:  redun_notebook.add_many(values=[75, 76, 77], init=0) on default\n",
      "[redun] Run    Job 2f5c1839:  redun_notebook.add_many(values=[78, 79, 80], init=0) on default\n",
      "[redun] Run    Job b7f47809:  redun_notebook.add_many(values=[81, 82, 83], init=0) on default\n",
      "[redun] Run    Job 99ec23d2:  redun_notebook.add_many(values=[84, 85, 86], init=0) on default\n",
      "[redun] Run    Job fa91496c:  redun_notebook.add_many(values=[87, 88, 89], init=0) on default\n",
      "[redun] Run    Job 360a0e43:  redun_notebook.add_many(values=[90, 91, 92], init=0) on default\n",
      "[redun] Run    Job cfbc80a0:  redun_notebook.add_many(values=[93, 94, 95], init=0) on default\n",
      "[redun] Run    Job 69d58cbf:  redun_notebook.add_many(values=[96, 97, 98, 99], init=0) on default\n",
      "[redun] Run    Job 6953be52:  redun_notebook.add_many(values=[0], init=0) on default\n",
      "[redun] Run    Job 1e51de35:  redun_notebook.add_many(values=[1, 2], init=0) on default\n",
      "[redun] Run    Job d3eabf34:  redun_notebook.add_many(values=[3], init=0) on default\n",
      "[redun] Run    Job fc06cd74:  redun_notebook.add_many(values=[4, 5], init=0) on default\n",
      "[redun] Run    Job 56391af5:  redun_notebook.add_many(values=[6], init=0) on default\n",
      "[redun] Run    Job ff4df7ed:  redun_notebook.add_many(values=[7, 8], init=0) on default\n",
      "[redun] Run    Job 650c47ee:  redun_notebook.add_many(values=[9], init=0) on default\n"
     ]
    },
    {
     "name": "stderr",
     "output_type": "stream",
     "text": [
      "[redun] Run    Job 31bc3ab3:  redun_notebook.add_many(values=[10, 11], init=0) on default\n",
      "[redun] Run    Job 95534ee7:  redun_notebook.add_many(values=[12], init=0) on default\n",
      "[redun] Run    Job 1ca0c27e:  redun_notebook.add_many(values=[13, 14], init=0) on default\n",
      "[redun] Run    Job 9f5943bc:  redun_notebook.add_many(values=[15], init=0) on default\n",
      "[redun] Run    Job 43b2d353:  redun_notebook.add_many(values=[16, 17], init=0) on default\n",
      "[redun] Run    Job 279e9c93:  redun_notebook.add_many(values=[18], init=0) on default\n",
      "[redun] Run    Job 392b2d3e:  redun_notebook.add_many(values=[19, 20], init=0) on default\n",
      "[redun] Run    Job b76afed9:  redun_notebook.add_many(values=[21, 22], init=0) on default\n",
      "[redun] Run    Job fa03aa9f:  redun_notebook.add_many(values=[23, 24], init=0) on default\n",
      "[redun] Run    Job 1bc1d233:  redun_notebook.add_many(values=[25], init=0) on default\n",
      "[redun] Run    Job 1855523a:  redun_notebook.add_many(values=[26, 27], init=0) on default\n",
      "[redun] Run    Job cd472268:  redun_notebook.add_many(values=[28], init=0) on default\n",
      "[redun] Run    Job 7c08bb14:  redun_notebook.add_many(values=[29, 30], init=0) on default\n",
      "[redun] Run    Job 06330239:  redun_notebook.add_many(values=[31], init=0) on default\n",
      "[redun] Run    Job 53a61c5a:  redun_notebook.add_many(values=[32, 33], init=0) on default\n",
      "[redun] Run    Job adef2b89:  redun_notebook.add_many(values=[34], init=0) on default\n",
      "[redun] Run    Job 111a87b7:  redun_notebook.add_many(values=[35, 36], init=0) on default\n",
      "[redun] Run    Job 15bbed90:  redun_notebook.add_many(values=[37], init=0) on default\n",
      "[redun] Run    Job 15313871:  redun_notebook.add_many(values=[38, 39], init=0) on default\n",
      "[redun] Run    Job d93f20cf:  redun_notebook.add_many(values=[40], init=0) on default\n",
      "[redun] Run    Job 1f530b0c:  redun_notebook.add_many(values=[41, 42], init=0) on default\n",
      "[redun] Run    Job 5cd7c041:  redun_notebook.add_many(values=[43], init=0) on default\n",
      "[redun] Run    Job 08295a4e:  redun_notebook.add_many(values=[44, 45], init=0) on default\n",
      "[redun] Run    Job 15815741:  redun_notebook.add_many(values=[46, 47], init=0) on default\n",
      "[redun] Run    Job 10cadf26:  redun_notebook.add_many(values=[48, 49], init=0) on default\n",
      "[redun] Run    Job 0f0002dc:  redun_notebook.add_many(values=[50], init=0) on default\n",
      "[redun] Run    Job 3ce4cd23:  redun_notebook.add_many(values=[51, 52], init=0) on default\n",
      "[redun] Run    Job 99caa026:  redun_notebook.add_many(values=[53], init=0) on default\n",
      "[redun] Run    Job aae75183:  redun_notebook.add_many(values=[54, 55], init=0) on default\n",
      "[redun] Run    Job e8082339:  redun_notebook.add_many(values=[56], init=0) on default\n",
      "[redun] Run    Job f34db3b7:  redun_notebook.add_many(values=[57, 58], init=0) on default\n",
      "[redun] Run    Job 8fd8490a:  redun_notebook.add_many(values=[59], init=0) on default\n",
      "[redun] Run    Job 24b34ae3:  redun_notebook.add_many(values=[60, 61], init=0) on default\n",
      "[redun] Run    Job fbcd1b03:  redun_notebook.add_many(values=[62], init=0) on default\n",
      "[redun] Run    Job eb8e77c1:  redun_notebook.add_many(values=[63, 64], init=0) on default\n",
      "[redun] Run    Job 1d760065:  redun_notebook.add_many(values=[65], init=0) on default\n",
      "[redun] Run    Job d968b8c7:  redun_notebook.add_many(values=[66, 67], init=0) on default\n",
      "[redun] Run    Job 0fe59a27:  redun_notebook.add_many(values=[68], init=0) on default\n",
      "[redun] Run    Job 9072f451:  redun_notebook.add_many(values=[69, 70], init=0) on default\n",
      "[redun] Run    Job b083b939:  redun_notebook.add_many(values=[71, 72], init=0) on default\n",
      "[redun] Run    Job 7efcaee6:  redun_notebook.add_many(values=[73, 74], init=0) on default\n",
      "[redun] Run    Job cfc188b1:  redun_notebook.add_many(values=[75], init=0) on default\n",
      "[redun] Run    Job ab31ece6:  redun_notebook.add_many(values=[76, 77], init=0) on default\n",
      "[redun] Run    Job 68ac4632:  redun_notebook.add_many(values=[78], init=0) on default\n",
      "[redun] Run    Job a9713308:  redun_notebook.add_many(values=[79, 80], init=0) on default\n",
      "[redun] Run    Job 7d3f8540:  redun_notebook.add_many(values=[81], init=0) on default\n",
      "[redun] Run    Job 3d4c2edb:  redun_notebook.add_many(values=[82, 83], init=0) on default\n",
      "[redun] Run    Job 5683866e:  redun_notebook.add_many(values=[84], init=0) on default\n",
      "[redun] Run    Job d0e7dda7:  redun_notebook.add_many(values=[85, 86], init=0) on default\n",
      "[redun] Run    Job 7ac7a324:  redun_notebook.add_many(values=[87], init=0) on default\n",
      "[redun] Run    Job 416d3720:  redun_notebook.add_many(values=[88, 89], init=0) on default\n",
      "[redun] Run    Job 01ba0b0e:  redun_notebook.add_many(values=[90], init=0) on default\n",
      "[redun] Run    Job f97e39fe:  redun_notebook.add_many(values=[91, 92], init=0) on default\n",
      "[redun] Run    Job 83a9c578:  redun_notebook.add_many(values=[93], init=0) on default\n",
      "[redun] Run    Job cca821c6:  redun_notebook.add_many(values=[94, 95], init=0) on default\n",
      "[redun] Run    Job 4397f1ed:  redun_notebook.add_many(values=[96, 97], init=0) on default\n",
      "[redun] Run    Job 55553581:  redun_notebook.add_many(values=[98, 99], init=0) on default\n",
      "[redun] Run    Job eea0bd62:  redun_notebook.add_many(values=[1], init=0) on default\n",
      "[redun] Run    Job a4fb530a:  redun_notebook.add_many(values=[2], init=0) on default\n",
      "[redun] Run    Job 89b381f2:  redun_notebook.add_many(values=[4], init=0) on default\n",
      "[redun] Run    Job 28978b30:  redun_notebook.add_many(values=[5], init=0) on default\n",
      "[redun] Run    Job d05fe75e:  redun_notebook.add_many(values=[7], init=0) on default\n",
      "[redun] Run    Job 5ebff204:  redun_notebook.add_many(values=[8], init=0) on default\n",
      "[redun] Run    Job 14ff09a6:  redun_notebook.add_many(values=[10], init=0) on default\n",
      "[redun] Run    Job e44886ed:  redun_notebook.add_many(values=[11], init=0) on default\n",
      "[redun] Run    Job 2768f382:  redun_notebook.add_many(values=[13], init=0) on default\n",
      "[redun] Run    Job fbbc7c42:  redun_notebook.add_many(values=[14], init=0) on default\n",
      "[redun] Run    Job d70dfb3b:  redun_notebook.add_many(values=[16], init=0) on default\n",
      "[redun] Run    Job d233ee99:  redun_notebook.add_many(values=[17], init=0) on default\n",
      "[redun] Run    Job 13a37f9f:  redun_notebook.add_many(values=[19], init=0) on default\n",
      "[redun] Run    Job 7d582b4b:  redun_notebook.add_many(values=[20], init=0) on default\n",
      "[redun] Run    Job af462cac:  redun_notebook.add_many(values=[21], init=0) on default\n",
      "[redun] Run    Job c47001d6:  redun_notebook.add_many(values=[22], init=0) on default\n",
      "[redun] Run    Job a1faeb4c:  redun_notebook.add_many(values=[23], init=0) on default\n",
      "[redun] Run    Job 6c380935:  redun_notebook.add_many(values=[24], init=0) on default\n",
      "[redun] Run    Job 01c69056:  redun_notebook.add_many(values=[26], init=0) on default\n",
      "[redun] Run    Job 034017e0:  redun_notebook.add_many(values=[27], init=0) on default\n",
      "[redun] Run    Job 242f5356:  redun_notebook.add_many(values=[29], init=0) on default\n",
      "[redun] Run    Job 90baae2a:  redun_notebook.add_many(values=[30], init=0) on default\n",
      "[redun] Run    Job bd9b3f41:  redun_notebook.add_many(values=[32], init=0) on default\n",
      "[redun] Run    Job 05f49180:  redun_notebook.add_many(values=[33], init=0) on default\n",
      "[redun] Run    Job 01fb2212:  redun_notebook.add_many(values=[35], init=0) on default\n",
      "[redun] Run    Job f4ab2202:  redun_notebook.add_many(values=[36], init=0) on default\n",
      "[redun] Run    Job 40753499:  redun_notebook.add_many(values=[38], init=0) on default\n",
      "[redun] Run    Job 0ab04f52:  redun_notebook.add_many(values=[39], init=0) on default\n",
      "[redun] Run    Job f6db4dbe:  redun_notebook.add_many(values=[41], init=0) on default\n",
      "[redun] Run    Job 83741111:  redun_notebook.add_many(values=[42], init=0) on default\n",
      "[redun] Run    Job 576b0572:  redun_notebook.add_many(values=[44], init=0) on default\n",
      "[redun] Run    Job 15d3fd2a:  redun_notebook.add_many(values=[45], init=0) on default\n",
      "[redun] Run    Job e3726302:  redun_notebook.add_many(values=[46], init=0) on default\n",
      "[redun] Run    Job 4f885e27:  redun_notebook.add_many(values=[47], init=0) on default\n",
      "[redun] Run    Job 13304114:  redun_notebook.add_many(values=[48], init=0) on default\n",
      "[redun] Run    Job 6af0b551:  redun_notebook.add_many(values=[49], init=0) on default\n",
      "[redun] Run    Job 980cef5d:  redun_notebook.add_many(values=[51], init=0) on default\n"
     ]
    },
    {
     "name": "stderr",
     "output_type": "stream",
     "text": [
      "[redun] Run    Job 66baf4ec:  redun_notebook.add_many(values=[52], init=0) on default\n",
      "[redun] Run    Job fe488a45:  redun_notebook.add_many(values=[54], init=0) on default\n",
      "[redun] Run    Job b3e71845:  redun_notebook.add_many(values=[55], init=0) on default\n",
      "[redun] Run    Job 2d2044f1:  redun_notebook.add_many(values=[57], init=0) on default\n",
      "[redun] Run    Job ce8779de:  redun_notebook.add_many(values=[58], init=0) on default\n",
      "[redun] Run    Job bb0cf754:  redun_notebook.add_many(values=[60], init=0) on default\n",
      "[redun] Run    Job 1e4a65b6:  redun_notebook.add_many(values=[61], init=0) on default\n",
      "[redun] Run    Job d6f1c24b:  redun_notebook.add_many(values=[63], init=0) on default\n",
      "[redun] Run    Job 099f9d26:  redun_notebook.add_many(values=[64], init=0) on default\n",
      "[redun] Run    Job 4e6f5e92:  redun_notebook.add_many(values=[66], init=0) on default\n",
      "[redun] Run    Job 265f5986:  redun_notebook.add_many(values=[67], init=0) on default\n",
      "[redun] Run    Job 863f754a:  redun_notebook.add_many(values=[69], init=0) on default\n",
      "[redun] Run    Job 28fd1635:  redun_notebook.add_many(values=[70], init=0) on default\n",
      "[redun] Run    Job ae1c6aec:  redun_notebook.add_many(values=[71], init=0) on default\n",
      "[redun] Run    Job 765365a3:  redun_notebook.add_many(values=[72], init=0) on default\n",
      "[redun] Run    Job 7ccb5e26:  redun_notebook.add_many(values=[73], init=0) on default\n",
      "[redun] Run    Job f8009fa5:  redun_notebook.add_many(values=[74], init=0) on default\n",
      "[redun] Run    Job a85117a4:  redun_notebook.add_many(values=[76], init=0) on default\n",
      "[redun] Run    Job 06a2cbb9:  redun_notebook.add_many(values=[77], init=0) on default\n",
      "[redun] Run    Job b530edaf:  redun_notebook.add_many(values=[79], init=0) on default\n",
      "[redun] Run    Job ae023fd1:  redun_notebook.add_many(values=[80], init=0) on default\n",
      "[redun] Run    Job 2861048d:  redun_notebook.add_many(values=[82], init=0) on default\n",
      "[redun] Run    Job 8572cdba:  redun_notebook.add_many(values=[83], init=0) on default\n",
      "[redun] Run    Job ce0347b8:  redun_notebook.add_many(values=[85], init=0) on default\n",
      "[redun] Run    Job 1991b2b1:  redun_notebook.add_many(values=[86], init=0) on default\n",
      "[redun] Run    Job 1e332c3e:  redun_notebook.add_many(values=[88], init=0) on default\n",
      "[redun] Run    Job a3e6ee58:  redun_notebook.add_many(values=[89], init=0) on default\n",
      "[redun] Run    Job 669576e8:  redun_notebook.add_many(values=[91], init=0) on default\n",
      "[redun] Run    Job 55317453:  redun_notebook.add_many(values=[92], init=0) on default\n",
      "[redun] Run    Job 61610ea4:  redun_notebook.add_many(values=[94], init=0) on default\n",
      "[redun] Run    Job aac62f20:  redun_notebook.add_many(values=[95], init=0) on default\n",
      "[redun] Run    Job 804e1daa:  redun_notebook.add_many(values=[96], init=0) on default\n",
      "[redun] Run    Job 8e193598:  redun_notebook.add_many(values=[97], init=0) on default\n",
      "[redun] Run    Job 49edb5d8:  redun_notebook.add_many(values=[98], init=0) on default\n",
      "[redun] Run    Job 6affd9b2:  redun_notebook.add_many(values=[99], init=0) on default\n",
      "[redun] Cached Job a1af097f:  redun_notebook.add(a=1, b=2) (eval_hash=6b571a50)\n",
      "[redun] Run    Job cb64f416:  redun_notebook.add(a=4, b=5) on default\n"
     ]
    },
    {
     "name": "stdout",
     "output_type": "stream",
     "text": [
      "start add(4, 5)"
     ]
    },
    {
     "name": "stderr",
     "output_type": "stream",
     "text": [
      "[redun] Cached Job afa10d75:  redun_notebook.add(a=7, b=8) (eval_hash=b6ce28ae)\n"
     ]
    },
    {
     "name": "stdout",
     "output_type": "stream",
     "text": [
      "\n"
     ]
    },
    {
     "name": "stderr",
     "output_type": "stream",
     "text": [
      "[redun] Run    Job cb98d01e:  redun_notebook.add(a=10, b=11) on default\n"
     ]
    },
    {
     "name": "stdout",
     "output_type": "stream",
     "text": [
      "start add(10, 11)\n"
     ]
    },
    {
     "name": "stderr",
     "output_type": "stream",
     "text": [
      "[redun] Run    Job b36e7bcc:  redun_notebook.add(a=13, b=14) on default\n"
     ]
    },
    {
     "name": "stdout",
     "output_type": "stream",
     "text": [
      "start add(13, 14)\n"
     ]
    },
    {
     "name": "stderr",
     "output_type": "stream",
     "text": [
      "[redun] Run    Job 6212b8f4:  redun_notebook.add(a=16, b=17) on default\n"
     ]
    },
    {
     "name": "stdout",
     "output_type": "stream",
     "text": [
      "start add(16, 17)\n"
     ]
    },
    {
     "name": "stderr",
     "output_type": "stream",
     "text": [
      "[redun] Run    Job aef724ff:  redun_notebook.add(a=19, b=20) on default\n"
     ]
    },
    {
     "name": "stdout",
     "output_type": "stream",
     "text": [
      "start add(19, 20)\n"
     ]
    },
    {
     "name": "stderr",
     "output_type": "stream",
     "text": [
      "[redun] Run    Job 26325d9c:  redun_notebook.add(a=21, b=22) on default\n"
     ]
    },
    {
     "name": "stdout",
     "output_type": "stream",
     "text": [
      "start add(21, 22)\n"
     ]
    },
    {
     "name": "stderr",
     "output_type": "stream",
     "text": [
      "[redun] Run    Job 8eea82fc:  redun_notebook.add(a=23, b=24) on default\n"
     ]
    },
    {
     "name": "stdout",
     "output_type": "stream",
     "text": [
      "start add(23, 24)\n"
     ]
    },
    {
     "name": "stderr",
     "output_type": "stream",
     "text": [
      "[redun] Run    Job 631469f9:  redun_notebook.add(a=26, b=27) on default\n"
     ]
    },
    {
     "name": "stdout",
     "output_type": "stream",
     "text": [
      "start add(26, 27)\n"
     ]
    },
    {
     "name": "stderr",
     "output_type": "stream",
     "text": [
      "[redun] Run    Job 5fe64643:  redun_notebook.add(a=29, b=30) on default\n"
     ]
    },
    {
     "name": "stdout",
     "output_type": "stream",
     "text": [
      "start add(29, 30)"
     ]
    },
    {
     "name": "stderr",
     "output_type": "stream",
     "text": [
      "[redun] Run    Job a87b165e:  redun_notebook.add(a=32, b=33) on default\n"
     ]
    },
    {
     "name": "stdout",
     "output_type": "stream",
     "text": [
      "\n",
      "start add(32, 33)\n"
     ]
    },
    {
     "name": "stderr",
     "output_type": "stream",
     "text": [
      "[redun] Run    Job 0b208b17:  redun_notebook.add(a=35, b=36) on default\n"
     ]
    },
    {
     "name": "stdout",
     "output_type": "stream",
     "text": [
      "start add(35, 36)\n"
     ]
    },
    {
     "name": "stderr",
     "output_type": "stream",
     "text": [
      "[redun] Run    Job d3e0a985:  redun_notebook.add(a=38, b=39) on default\n"
     ]
    },
    {
     "name": "stdout",
     "output_type": "stream",
     "text": [
      "start add(38, 39)\n"
     ]
    },
    {
     "name": "stderr",
     "output_type": "stream",
     "text": [
      "[redun] Run    Job 540b0879:  redun_notebook.add(a=41, b=42) on default\n"
     ]
    },
    {
     "name": "stdout",
     "output_type": "stream",
     "text": [
      "start add(41, 42)\n"
     ]
    },
    {
     "name": "stderr",
     "output_type": "stream",
     "text": [
      "[redun] Run    Job 21973c42:  redun_notebook.add(a=44, b=45) on default\n"
     ]
    },
    {
     "name": "stdout",
     "output_type": "stream",
     "text": [
      "start add(44, 45)\n"
     ]
    },
    {
     "name": "stderr",
     "output_type": "stream",
     "text": [
      "[redun] Run    Job 3a73a96a:  redun_notebook.add(a=46, b=47) on default\n"
     ]
    },
    {
     "name": "stdout",
     "output_type": "stream",
     "text": [
      "start add(46, 47)\n"
     ]
    },
    {
     "name": "stderr",
     "output_type": "stream",
     "text": [
      "[redun] Run    Job 4bc932a3:  redun_notebook.add(a=48, b=49) on default\n"
     ]
    },
    {
     "name": "stdout",
     "output_type": "stream",
     "text": [
      "start add(48, 49)\n"
     ]
    },
    {
     "name": "stderr",
     "output_type": "stream",
     "text": [
      "[redun] Run    Job ae3011e3:  redun_notebook.add(a=51, b=52) on default\n"
     ]
    },
    {
     "name": "stdout",
     "output_type": "stream",
     "text": [
      "start add(51, 52)\n"
     ]
    },
    {
     "name": "stderr",
     "output_type": "stream",
     "text": [
      "[redun] Run    Job 4cf0a46a:  redun_notebook.add(a=54, b=55) on default\n"
     ]
    },
    {
     "name": "stdout",
     "output_type": "stream",
     "text": [
      "start add(54, 55)\n"
     ]
    },
    {
     "name": "stderr",
     "output_type": "stream",
     "text": [
      "[redun] Run    Job 477c7531:  redun_notebook.add(a=57, b=58) on default\n"
     ]
    },
    {
     "name": "stdout",
     "output_type": "stream",
     "text": [
      "start add(57, 58)\n"
     ]
    },
    {
     "name": "stderr",
     "output_type": "stream",
     "text": [
      "[redun] Run    Job b6d73688:  redun_notebook.add(a=60, b=61) on default\n"
     ]
    },
    {
     "name": "stdout",
     "output_type": "stream",
     "text": [
      "start add(60, 61)\n"
     ]
    },
    {
     "name": "stderr",
     "output_type": "stream",
     "text": [
      "[redun] Run    Job 1a9464f9:  redun_notebook.add(a=63, b=64) on default\n",
      "[redun] Run    Job 900e0f22:  redun_notebook.add(a=66, b=67) on default\n",
      "[redun] Run    Job f2910646:  redun_notebook.add(a=69, b=70) on default\n",
      "[redun] Run    Job 5e7d9f3a:  redun_notebook.add(a=71, b=72) on default\n",
      "[redun] Run    Job 180e6958:  redun_notebook.add(a=73, b=74) on default\n",
      "[redun] Run    Job 59540c8b:  redun_notebook.add(a=76, b=77) on default\n",
      "[redun] Run    Job d20001bc:  redun_notebook.add(a=79, b=80) on default\n",
      "[redun] Run    Job 625819e4:  redun_notebook.add(a=82, b=83) on default\n",
      "[redun] Run    Job fab37b81:  redun_notebook.add(a=85, b=86) on default\n",
      "[redun] Run    Job 8ce0aaa4:  redun_notebook.add(a=88, b=89) on default\n",
      "[redun] Run    Job f27e678c:  redun_notebook.add(a=91, b=92) on default\n",
      "[redun] Run    Job cc9cf98a:  redun_notebook.add(a=94, b=95) on default\n",
      "[redun] Run    Job d6f3d5ad:  redun_notebook.add(a=96, b=97) on default\n",
      "[redun] Run    Job 0dbf27eb:  redun_notebook.add(a=98, b=99) on default\n",
      "[redun] Run    Job a2913db5:  redun_notebook.add(a=0, b=3) on default\n",
      "[redun] Run    Job 049a0a9a:  redun_notebook.add(a=6, b=15) on default\n"
     ]
    },
    {
     "name": "stdout",
     "output_type": "stream",
     "text": [
      "stop  add(4, 5)\n",
      "start add(63, 64)stop  add(10, 11)\n",
      "\n",
      "stop  add(13, 14)start add(66, 67)\n",
      "\n",
      "start add(69, 70)\n",
      "stop  add(16, 17)\n",
      "start add(71, 72)\n",
      "stop  add(19, 20)\n",
      "start add(73, 74)stop  add(21, 22)\n",
      "\n",
      "start add(76, 77)\n",
      "stop  add(23, 24)\n",
      "start add(79, 80)\n",
      "stop  add(26, 27)\n",
      "start add(82, 83)\n",
      "stop  add(29, 30)\n",
      "start add(85, 86)stop  add(32, 33)\n",
      "\n",
      "start add(88, 89)\n",
      "stop  add(35, 36)\n",
      "start add(91, 92)\n",
      "stop  add(38, 39)stop  add(41, 42)\n",
      "\n",
      "start add(94, 95)start add(96, 97)\n",
      "\n"
     ]
    },
    {
     "name": "stderr",
     "output_type": "stream",
     "text": [
      "[redun] Run    Job 5e8e5937:  redun_notebook.add(a=3, b=9) on default\n"
     ]
    },
    {
     "name": "stdout",
     "output_type": "stream",
     "text": [
      "stop  add(44, 45)\n",
      "start add(98, 99)\n",
      "stop  add(46, 47)\n",
      "start add(0, 3)\n",
      "stop  add(48, 49)\n",
      "stop  add(51, 52)start add(6, 15)\n",
      "\n",
      "start add(3, 9)\n",
      "stop  add(54, 55)\n",
      "stop  add(57, 58)\n",
      "stop  add(60, 61)\n"
     ]
    },
    {
     "name": "stderr",
     "output_type": "stream",
     "text": [
      "[redun] Run    Job 594ac217:  redun_notebook.add(a=9, b=21) on default\n"
     ]
    },
    {
     "name": "stdout",
     "output_type": "stream",
     "text": [
      "start add(9, 21)\n"
     ]
    },
    {
     "name": "stderr",
     "output_type": "stream",
     "text": [
      "[redun] Run    Job ce18dd96:  redun_notebook.add(a=12, b=27) on default\n"
     ]
    },
    {
     "name": "stdout",
     "output_type": "stream",
     "text": [
      "start add(12, 27)\n"
     ]
    },
    {
     "name": "stderr",
     "output_type": "stream",
     "text": [
      "[redun] Run    Job d896994f:  redun_notebook.add(a=15, b=33) on default\n"
     ]
    },
    {
     "name": "stdout",
     "output_type": "stream",
     "text": [
      "start add(15, 33)\n"
     ]
    },
    {
     "name": "stderr",
     "output_type": "stream",
     "text": [
      "[redun] Run    Job 50d08b3e:  redun_notebook.add(a=18, b=39) on default\n",
      "[redun] Run    Job 6c2eec70:  redun_notebook.add(a=43, b=47) on default\n",
      "[redun] Run    Job d39a679b:  redun_notebook.add(a=25, b=53) on default\n",
      "[redun] Run    Job 8e7de8f4:  redun_notebook.add(a=28, b=59) on default\n",
      "[redun] Run    Job 37732602:  redun_notebook.add(a=31, b=65) on default\n",
      "[redun] Run    Job e7abfddb:  redun_notebook.add(a=34, b=71) on default\n",
      "[redun] Run    Job e74ec112:  redun_notebook.add(a=40, b=83) on default\n",
      "[redun] Run    Job 19f88f56:  redun_notebook.add(a=37, b=77) on default\n",
      "[redun] Run    Job 5fe39a33:  redun_notebook.add(a=43, b=89) on default\n",
      "[redun] Run    Job 8fcc9395:  redun_notebook.add(a=93, b=97) on default\n",
      "[redun] Run    Job f1283005:  redun_notebook.add(a=50, b=103) on default\n",
      "[redun] Run    Job 32418b5d:  redun_notebook.add(a=53, b=109) on default\n",
      "[redun] Run    Job 3f32adc6:  redun_notebook.add(a=56, b=115) on default\n",
      "[redun] Run    Job 48f7d0e5:  redun_notebook.add(a=59, b=121) on default\n"
     ]
    },
    {
     "name": "stdout",
     "output_type": "stream",
     "text": [
      "stop  add(63, 64)\n",
      "start add(18, 39)stop  add(66, 67)stop  add(69, 70)\n",
      "\n",
      "\n",
      "start add(43, 47)\n",
      "start add(25, 53)stop  add(71, 72)\n",
      "\n",
      "start add(28, 59)\n",
      "stop  add(76, 77)stop  add(73, 74)\n",
      "\n",
      "start add(31, 65)start add(34, 71)\n",
      "\n",
      "stop  add(79, 80)\n",
      "start add(40, 83)\n",
      "stop  add(82, 83)\n",
      "start add(37, 77)\n",
      "stop  add(85, 86)\n",
      "start add(43, 89)\n",
      "stop  add(91, 92)stop  add(88, 89)\n",
      "\n",
      "start add(93, 97)start add(50, 103)\n",
      "\n",
      "stop  add(94, 95)stop  add(96, 97)\n",
      "start add(53, 109)\n",
      "\n",
      "start add(56, 115)\n",
      "stop  add(98, 99)\n",
      "start add(59, 121)\n",
      "stop  add(0, 3)\n",
      "stop  add(6, 15)\n",
      "stop  add(3, 9)\n"
     ]
    },
    {
     "name": "stderr",
     "output_type": "stream",
     "text": [
      "[redun] Run    Job dc48e686:  redun_notebook.add(a=62, b=127) on default\n"
     ]
    },
    {
     "name": "stdout",
     "output_type": "stream",
     "text": [
      "start add(62, 127)\n",
      "stop  add(9, 21)\n"
     ]
    },
    {
     "name": "stderr",
     "output_type": "stream",
     "text": [
      "[redun] Run    Job 06e19316:  redun_notebook.add(a=65, b=133) on default\n"
     ]
    },
    {
     "name": "stdout",
     "output_type": "stream",
     "text": [
      "start add(65, 133)\n",
      "stop  add(12, 27)\n",
      "stop  add(15, 33)\n"
     ]
    },
    {
     "name": "stderr",
     "output_type": "stream",
     "text": [
      "[redun] Run    Job b050f450:  redun_notebook.add(a=68, b=139) on default\n"
     ]
    },
    {
     "name": "stdout",
     "output_type": "stream",
     "text": [
      "start add(68, 139)\n"
     ]
    },
    {
     "name": "stderr",
     "output_type": "stream",
     "text": [
      "[redun] Run    Job b1db9d22:  redun_notebook.add(a=75, b=153) on default\n"
     ]
    },
    {
     "name": "stdout",
     "output_type": "stream",
     "text": [
      "start add(75, 153)\n"
     ]
    },
    {
     "name": "stderr",
     "output_type": "stream",
     "text": [
      "[redun] Run    Job 62fe935a:  redun_notebook.add(a=143, b=147) on default\n"
     ]
    },
    {
     "name": "stdout",
     "output_type": "stream",
     "text": [
      "start add(143, 147)\n"
     ]
    },
    {
     "name": "stderr",
     "output_type": "stream",
     "text": [
      "[redun] Run    Job e954d8a2:  redun_notebook.add(a=78, b=159) on default\n"
     ]
    },
    {
     "name": "stdout",
     "output_type": "stream",
     "text": [
      "start add(78, 159)\n"
     ]
    },
    {
     "name": "stderr",
     "output_type": "stream",
     "text": [
      "[redun] Run    Job edbf8ed7:  redun_notebook.add(a=81, b=165) on default\n",
      "[redun] Run    Job b884435b:  redun_notebook.add(a=84, b=171) on default\n",
      "[redun] Run    Job cf7c9351:  redun_notebook.add(a=90, b=183) on default\n",
      "[redun] Run    Job 07ff42ab:  redun_notebook.add(a=87, b=177) on default\n",
      "[redun] Run    Job 9f256a50:  redun_notebook.add(a=93, b=189) on default\n",
      "[redun] Run    Job 30f4bca4:  redun_notebook.add(a=193, b=197) on default\n",
      "[redun] Run    Job 7474c186:  redun_notebook.add(a=3, b=12) on default\n",
      "[redun] Run    Job 8f68648f:  redun_notebook.add(a=21, b=30) on default\n",
      "[redun] Run    Job e3088685:  redun_notebook.add(a=39, b=48) on default\n"
     ]
    },
    {
     "name": "stdout",
     "output_type": "stream",
     "text": [
      "stop  add(18, 39)\n",
      "stop  add(43, 47)start add(81, 165)\n",
      "start add(84, 171)\n",
      "stop  add(28, 59)stop  add(25, 53)\n",
      "\n",
      "\n",
      "start add(90, 183)start add(87, 177)\n",
      "\n",
      "stop  add(31, 65)\n",
      "start add(93, 189)stop  add(34, 71)\n",
      "\n",
      "start add(193, 197)\n",
      "stop  add(40, 83)\n",
      "start add(3, 12)\n",
      "stop  add(37, 77)\n",
      "start add(21, 30)\n",
      "stop  add(43, 89)\n",
      "start add(39, 48)\n",
      "stop  add(50, 103)stop  add(93, 97)\n",
      "\n",
      "stop  add(53, 109)\n",
      "stop  add(56, 115)\n",
      "stop  add(59, 121)\n",
      "stop  add(62, 127)\n",
      "stop  add(65, 133)\n"
     ]
    },
    {
     "name": "stderr",
     "output_type": "stream",
     "text": [
      "[redun] Run    Job c8553b58:  redun_notebook.add(a=57, b=90) on default\n"
     ]
    },
    {
     "name": "stdout",
     "output_type": "stream",
     "text": [
      "start add(57, 90)\n"
     ]
    },
    {
     "name": "stderr",
     "output_type": "stream",
     "text": [
      "[redun] Run    Job bb07dea6:  redun_notebook.add(a=78, b=87) on default\n"
     ]
    },
    {
     "name": "stdout",
     "output_type": "stream",
     "text": [
      "start add(78, 87)\n"
     ]
    },
    {
     "name": "stderr",
     "output_type": "stream",
     "text": [
      "[redun] Run    Job 9a01e00f:  redun_notebook.add(a=96, b=105) on default\n"
     ]
    },
    {
     "name": "stdout",
     "output_type": "stream",
     "text": [
      "start add(96, 105)\n",
      "stop  add(68, 139)\n"
     ]
    },
    {
     "name": "stderr",
     "output_type": "stream",
     "text": [
      "[redun] Run    Job 0489de2c:  redun_notebook.add(a=114, b=123) on default\n"
     ]
    },
    {
     "name": "stdout",
     "output_type": "stream",
     "text": [
      "start add(114, 123)\n"
     ]
    },
    {
     "name": "stderr",
     "output_type": "stream",
     "text": [
      "[redun] Run    Job 06cf4362:  redun_notebook.add(a=132, b=190) on default\n"
     ]
    },
    {
     "name": "stdout",
     "output_type": "stream",
     "text": [
      "start add(132, 190)\n",
      "stop  add(75, 153)\n"
     ]
    },
    {
     "name": "stderr",
     "output_type": "stream",
     "text": [
      "[redun] Run    Job 0fbf0069:  redun_notebook.add(a=153, b=162) on default\n"
     ]
    },
    {
     "name": "stdout",
     "output_type": "stream",
     "text": [
      "start add(153, 162)\n",
      "stop  add(143, 147)\n"
     ]
    },
    {
     "name": "stderr",
     "output_type": "stream",
     "text": [
      "[redun] Run    Job 78a0c74a:  redun_notebook.add(a=171, b=180) on default\n"
     ]
    },
    {
     "name": "stdout",
     "output_type": "stream",
     "text": [
      "start add(171, 180)\n",
      "stop  add(78, 159)\n"
     ]
    },
    {
     "name": "stderr",
     "output_type": "stream",
     "text": [
      "[redun] Run    Job 8b52f21e:  redun_notebook.add(a=189, b=198) on default\n"
     ]
    },
    {
     "name": "stdout",
     "output_type": "stream",
     "text": [
      "start add(189, 198)\n"
     ]
    },
    {
     "name": "stderr",
     "output_type": "stream",
     "text": [
      "[redun] Run    Job 90c83e1c:  redun_notebook.add(a=207, b=290) on default\n"
     ]
    },
    {
     "name": "stdout",
     "output_type": "stream",
     "text": [
      "start add(207, 290)\n"
     ]
    },
    {
     "name": "stderr",
     "output_type": "stream",
     "text": [
      "[redun] Run    Job 78fe19ce:  redun_notebook.add(a=228, b=237) on default\n"
     ]
    },
    {
     "name": "stdout",
     "output_type": "stream",
     "text": [
      "start add(228, 237)\n",
      "stop  add(81, 165)stop  add(84, 171)\n",
      "\n",
      "stop  add(90, 183)stop  add(87, 177)\n",
      "\n",
      "stop  add(93, 189)\n",
      "stop  add(193, 197)\n",
      "stop  add(3, 12)\n",
      "stop  add(21, 30)\n",
      "stop  add(39, 48)\n"
     ]
    },
    {
     "name": "stderr",
     "output_type": "stream",
     "text": [
      "[redun] Run    Job cccd9ec6:  redun_notebook.add(a=246, b=255) on default\n"
     ]
    },
    {
     "name": "stdout",
     "output_type": "stream",
     "text": [
      "start add(246, 255)\n"
     ]
    },
    {
     "name": "stderr",
     "output_type": "stream",
     "text": [
      "[redun] Run    Job 90bb4990:  redun_notebook.add(a=264, b=273) on default\n"
     ]
    },
    {
     "name": "stdout",
     "output_type": "stream",
     "text": [
      "start add(264, 273)\n"
     ]
    },
    {
     "name": "stderr",
     "output_type": "stream",
     "text": [
      "[redun] Run    Job 601bcdb3:  redun_notebook.add(a=282, b=390) on default\n"
     ]
    },
    {
     "name": "stdout",
     "output_type": "stream",
     "text": [
      "start add(282, 390)\n"
     ]
    },
    {
     "name": "stderr",
     "output_type": "stream",
     "text": [
      "[redun] Run    Job 45bfb75c:  redun_notebook.add(a=15, b=51) on default\n"
     ]
    },
    {
     "name": "stdout",
     "output_type": "stream",
     "text": [
      "start add(15, 51)\n",
      "stop  add(57, 90)\n"
     ]
    },
    {
     "name": "stderr",
     "output_type": "stream",
     "text": [
      "[redun] Run    Job 453f52f0:  redun_notebook.add(a=87, b=147) on default\n"
     ]
    },
    {
     "name": "stdout",
     "output_type": "stream",
     "text": [
      "start add(87, 147)\n",
      "stop  add(78, 87)\n",
      "stop  add(96, 105)\n"
     ]
    },
    {
     "name": "stderr",
     "output_type": "stream",
     "text": [
      "[redun] Run    Job 439d4333:  redun_notebook.add(a=165, b=201) on default\n"
     ]
    },
    {
     "name": "stdout",
     "output_type": "stream",
     "text": [
      "start add(165, 201)\n",
      "stop  add(114, 123)\n",
      "stop  add(132, 190)\n",
      "stop  add(153, 162)\n",
      "stop  add(171, 180)\n"
     ]
    },
    {
     "name": "stderr",
     "output_type": "stream",
     "text": [
      "[redun] Run    Job 695a5d41:  redun_notebook.add(a=237, b=322) on default\n"
     ]
    },
    {
     "name": "stdout",
     "output_type": "stream",
     "text": [
      "start add(237, 322)\n",
      "stop  add(189, 198)\n"
     ]
    },
    {
     "name": "stderr",
     "output_type": "stream",
     "text": [
      "[redun] Run    Job 3b86d22b:  redun_notebook.add(a=315, b=351) on default\n"
     ]
    },
    {
     "name": "stdout",
     "output_type": "stream",
     "text": [
      "start add(315, 351)\n",
      "stop  add(207, 290)\n",
      "stop  add(228, 237)\n"
     ]
    },
    {
     "name": "stderr",
     "output_type": "stream",
     "text": [
      "[redun] Run    Job dc96ab5a:  redun_notebook.add(a=387, b=497) on default\n"
     ]
    },
    {
     "name": "stdout",
     "output_type": "stream",
     "text": [
      "start add(387, 497)\n",
      "stop  add(246, 255)\n",
      "stop  add(264, 273)\n"
     ]
    },
    {
     "name": "stderr",
     "output_type": "stream",
     "text": [
      "[redun] Run    Job b53adb1d:  redun_notebook.add(a=465, b=501) on default\n"
     ]
    },
    {
     "name": "stdout",
     "output_type": "stream",
     "text": [
      "start add(465, 501)\n",
      "stop  add(282, 390)\n",
      "stop  add(15, 51)\n",
      "stop  add(87, 147)\n"
     ]
    },
    {
     "name": "stderr",
     "output_type": "stream",
     "text": [
      "[redun] Run    Job 892d07f3:  redun_notebook.add(a=537, b=672) on default\n"
     ]
    },
    {
     "name": "stdout",
     "output_type": "stream",
     "text": [
      "start add(537, 672)\n"
     ]
    },
    {
     "name": "stderr",
     "output_type": "stream",
     "text": [
      "[redun] Run    Job 191bc338:  redun_notebook.add(a=66, b=234) on default\n"
     ]
    },
    {
     "name": "stdout",
     "output_type": "stream",
     "text": [
      "start add(66, 234)\n",
      "stop  add(165, 201)\n",
      "stop  add(237, 322)\n"
     ]
    },
    {
     "name": "stderr",
     "output_type": "stream",
     "text": [
      "[redun] Run    Job 1a58d2e8:  redun_notebook.add(a=366, b=559) on default\n"
     ]
    },
    {
     "name": "stdout",
     "output_type": "stream",
     "text": [
      "start add(366, 559)\n",
      "stop  add(315, 351)\n",
      "stop  add(387, 497)\n"
     ]
    },
    {
     "name": "stderr",
     "output_type": "stream",
     "text": [
      "[redun] Run    Job 71db9539:  redun_notebook.add(a=666, b=884) on default\n"
     ]
    },
    {
     "name": "stdout",
     "output_type": "stream",
     "text": [
      "start add(666, 884)\n",
      "stop  add(465, 501)\n",
      "stop  add(537, 672)\n",
      "stop  add(66, 234)\n"
     ]
    },
    {
     "name": "stderr",
     "output_type": "stream",
     "text": [
      "[redun] Run    Job 9dd7fc1b:  redun_notebook.add(a=966, b=1209) on default\n"
     ]
    },
    {
     "name": "stdout",
     "output_type": "stream",
     "text": [
      "start add(966, 1209)\n",
      "stop  add(366, 559)\n"
     ]
    },
    {
     "name": "stderr",
     "output_type": "stream",
     "text": [
      "[redun] Run    Job 6fd8b5fd:  redun_notebook.add(a=300, b=925) on default\n"
     ]
    },
    {
     "name": "stdout",
     "output_type": "stream",
     "text": [
      "start add(300, 925)\n",
      "stop  add(666, 884)\n",
      "stop  add(966, 1209)\n"
     ]
    },
    {
     "name": "stderr",
     "output_type": "stream",
     "text": [
      "[redun] Run    Job af636817:  redun_notebook.add(a=1550, b=2175) on default\n"
     ]
    },
    {
     "name": "stdout",
     "output_type": "stream",
     "text": [
      "start add(1550, 2175)\n",
      "stop  add(300, 925)\n",
      "stop  add(1550, 2175)\n"
     ]
    },
    {
     "name": "stderr",
     "output_type": "stream",
     "text": [
      "[redun] Run    Job ab2ed3bf:  redun_notebook.add(a=1225, b=3725) on default\n"
     ]
    },
    {
     "name": "stdout",
     "output_type": "stream",
     "text": [
      "start add(1225, 3725)\n",
      "stop  add(1225, 3725)\n"
     ]
    },
    {
     "name": "stderr",
     "output_type": "stream",
     "text": [
      "[redun] \n",
      "[redun] | JOB STATUS 2022/04/27 16:42:19\n",
      "[redun] | TASK                    PENDING RUNNING  FAILED  CACHED    DONE   TOTAL\n",
      "[redun] | \n",
      "[redun] | ALL                           0       0       0       2     304     306\n",
      "[redun] | redun.root_task               0       0       0       0       1       1\n",
      "[redun] | redun_notebook.add            0       0       0       2     103     105\n",
      "[redun] | redun_notebook.add4           0       0       0       0       1       1\n",
      "[redun] | redun_notebook.add_many       0       0       0       0     199     199\n",
      "[redun] \n",
      "[redun] Execution duration: 11.28 seconds\n"
     ]
    },
    {
     "data": {
      "text/plain": [
       "4950"
      ]
     },
     "execution_count": 19,
     "metadata": {},
     "output_type": "execute_result"
    }
   ],
   "source": [
    "# As this expression is evaluated imagine how the expression tree is expanding and contracting.\n",
    "scheduler.run(add_many(list(range(100))))"
   ]
  },
  {
   "cell_type": "code",
   "execution_count": 20,
   "metadata": {},
   "outputs": [],
   "source": [
    "# Let's suppress the scheduler's logging output.\n",
    "\n",
    "import logging\n",
    "scheduler.logger.setLevel(logging.ERROR)"
   ]
  },
  {
   "cell_type": "code",
   "execution_count": 21,
   "metadata": {},
   "outputs": [
    {
     "name": "stdout",
     "output_type": "stream",
     "text": [
      "start add(0, 1)\n",
      "start add(1, 1)\n",
      "start add(2, 1)\n",
      "start add(3, 1)\n",
      "start add(4, 1)\n",
      "start add(5, 1)\n",
      "start add(6, 1)\n",
      "start add(7, 1)\n",
      "start add(8, 1)\n",
      "start add(9, 1)\n",
      "stop  add(0, 1)\n",
      "stop  add(2, 1)stop  add(1, 1)\n",
      "\n",
      "stop  add(3, 1)\n",
      "stop  add(4, 1)\n",
      "stop  add(5, 1)\n",
      "stop  add(6, 1)\n",
      "stop  add(7, 1)\n",
      "stop  add(8, 1)\n",
      "stop  add(9, 1)\n",
      "start add(6, 7)\n",
      "start add(9, 10)\n",
      "stop  add(6, 7)\n",
      "stop  add(9, 10)\n",
      "start add(8, 19)\n",
      "stop  add(8, 19)\n",
      "start add(13, 27)\n",
      "stop  add(13, 27)\n",
      "start add(15, 40)\n",
      "stop  add(15, 40)\n"
     ]
    },
    {
     "data": {
      "text/plain": [
       "55"
      ]
     },
     "execution_count": 21,
     "metadata": {},
     "output_type": "execute_result"
    }
   ],
   "source": [
    "# Let's try a scatter-gather pipeline.\n",
    "\n",
    "# Scatter (aka map).\n",
    "init_values = list(range(10))\n",
    "values = [add(i, 1) for i in init_values]\n",
    "\n",
    "# Gather (aka reduce).\n",
    "total = add_many(values)\n",
    "scheduler.run(total)"
   ]
  },
  {
   "cell_type": "code",
   "execution_count": 22,
   "metadata": {
    "scrolled": true
   },
   "outputs": [
    {
     "data": {
      "text/plain": [
       "[TaskExpression('redun_notebook.add', (0, 1), {}),\n",
       " TaskExpression('redun_notebook.add', (1, 1), {}),\n",
       " TaskExpression('redun_notebook.add', (2, 1), {}),\n",
       " TaskExpression('redun_notebook.add', (3, 1), {}),\n",
       " TaskExpression('redun_notebook.add', (4, 1), {}),\n",
       " TaskExpression('redun_notebook.add', (5, 1), {}),\n",
       " TaskExpression('redun_notebook.add', (6, 1), {}),\n",
       " TaskExpression('redun_notebook.add', (7, 1), {}),\n",
       " TaskExpression('redun_notebook.add', (8, 1), {}),\n",
       " TaskExpression('redun_notebook.add', (9, 1), {})]"
      ]
     },
     "execution_count": 22,
     "metadata": {},
     "output_type": "execute_result"
    }
   ],
   "source": [
    "# Notice `values` was actually a list of Expressions.\n",
    "values"
   ]
  },
  {
   "cell_type": "markdown",
   "metadata": {},
   "source": [
    "redun's primary evaluation rule is:\n",
    "\n",
    "```py\n",
    "eval(TaskExpression(func, arg1, arg2, ...)) => eval(func(eval(arg1), eval(arg2), ...))\n",
    "```\n",
    "\n",
    "In addition, the redun scheduler recurses into \"nested values\", looking for expressions to evaluate.\n",
    "That is achieved using additional evaluation rules:\n",
    "\n",
    "```py\n",
    "# Evaluate list\n",
    "eval([x for x in xs]) => [eval(x) for x in xs]\n",
    "\n",
    "# Evaluate dict\n",
    "eval({k: v for k, v in dct.items()}) => {eval(k): eval(v) for k, v in dct.items()}\n",
    "\n",
    "# Evaluate set\n",
    "eval({x for x in xs}) => {eval(x) for x in xs}\n",
    "\n",
    "# Evaluate tuple\n",
    "eval(tuple(x for x in xs)) => tuple(eval(x) for x in xs)\n",
    "\n",
    "# Evaluate namedtuple\n",
    "eval(MyNamedTuple(x for x in xs)) => MyNamedTuple(eval(x) for x in xs)\n",
    "```"
   ]
  },
  {
   "cell_type": "code",
   "execution_count": 23,
   "metadata": {},
   "outputs": [],
   "source": [
    "# Let's tryout some of these evaluation rules."
   ]
  },
  {
   "cell_type": "code",
   "execution_count": 24,
   "metadata": {},
   "outputs": [
    {
     "name": "stdout",
     "output_type": "stream",
     "text": [
      "{'first': TaskExpression('redun_notebook.add', (1, 2), {}), 'second': TaskExpression('redun_notebook.add', (3, 4), {})}\n"
     ]
    },
    {
     "data": {
      "text/plain": [
       "{'first': 3, 'second': 7}"
      ]
     },
     "execution_count": 24,
     "metadata": {},
     "output_type": "execute_result"
    }
   ],
   "source": [
    "expr = {\"first\": add(1, 2), \"second\": add(3, 4)}\n",
    "print(expr)\n",
    "scheduler.run(expr)"
   ]
  },
  {
   "cell_type": "code",
   "execution_count": 25,
   "metadata": {},
   "outputs": [
    {
     "name": "stdout",
     "output_type": "stream",
     "text": [
      "[{'id': 1, 'price': TaskExpression('redun_notebook.add', (1, 2), {})}, {'id': 2, 'price': TaskExpression('redun_notebook.add', (3, 4), {})}]\n"
     ]
    },
    {
     "data": {
      "text/plain": [
       "[{'id': 1, 'price': 3}, {'id': 2, 'price': 7}]"
      ]
     },
     "execution_count": 25,
     "metadata": {},
     "output_type": "execute_result"
    }
   ],
   "source": [
    "expr = [\n",
    "    {\n",
    "        \"id\": 1,\n",
    "        \"price\": add(1, 2),\n",
    "    },\n",
    "    {\n",
    "        \"id\": 2,\n",
    "        \"price\": add(3, 4),\n",
    "    }\n",
    "]\n",
    "print(expr)\n",
    "scheduler.run(expr)"
   ]
  },
  {
   "cell_type": "code",
   "execution_count": 26,
   "metadata": {},
   "outputs": [
    {
     "name": "stdout",
     "output_type": "stream",
     "text": [
      "[0, TaskExpression('redun_notebook.add', (0, 0), {}), TaskExpression('redun_notebook.add', (TaskExpression('redun_notebook.add', (0, 0), {}), 1), {}), TaskExpression('redun_notebook.add', (TaskExpression('redun_notebook.add', (TaskExpression('redun_notebook.add', (0, 0), {}), 1), {}), 2), {}), TaskExpression('redun_notebook.add', (TaskExpression('redun_notebook.add', (TaskExpression('redun_notebook.add', (TaskExpression('redun_notebook.add', (0, 0), {}), 1), {}), 2), {}), 3), {}), TaskExpression('redun_notebook.add', (TaskExpression('redun_notebook.add', (TaskExpression('redun_notebook.add', (TaskExpression('redun_notebook.add', (TaskExpression('redun_notebook.add', (0, 0), {}), 1), {}), 2), {}), 3), {}), 4), {}), TaskExpression('redun_notebook.add', (TaskExpression('redun_notebook.add', (TaskExpression('redun_notebook.add', (TaskExpression('redun_notebook.add', (TaskExpression('redun_notebook.add', (TaskExpression('redun_notebook.add', (0, 0), {}), 1), {}), 2), {}), 3), {}), 4), {}), 5), {}), TaskExpression('redun_notebook.add', (TaskExpression('redun_notebook.add', (TaskExpression('redun_notebook.add', (TaskExpression('redun_notebook.add', (TaskExpression('redun_notebook.add', (TaskExpression('redun_notebook.add', (TaskExpression('redun_notebook.add', (0, 0), {}), 1), {}), 2), {}), 3), {}), 4), {}), 5), {}), 6), {}), TaskExpression('redun_notebook.add', (TaskExpression('redun_notebook.add', (TaskExpression('redun_notebook.add', (TaskExpression('redun_notebook.add', (TaskExpression('redun_notebook.add', (TaskExpression('redun_notebook.add', (TaskExpression('redun_notebook.add', (TaskExpression('redun_notebook.add', (0, 0), {}), 1), {}), 2), {}), 3), {}), 4), {}), 5), {}), 6), {}), 7), {}), TaskExpression('redun_notebook.add', (TaskExpression('redun_notebook.add', (TaskExpression('redun_notebook.add', (TaskExpression('redun_notebook.add', (TaskExpression('redun_notebook.add', (TaskExpression('redun_notebook.add', (TaskExpression('redun_notebook.add', (TaskExpression('redun_notebook.add', (TaskExpression('redun_notebook.add', (0, 0), {}), 1), {}), 2), {}), 3), {}), 4), {}), 5), {}), 6), {}), 7), {}), 8), {}), TaskExpression('redun_notebook.add', (TaskExpression('redun_notebook.add', (TaskExpression('redun_notebook.add', (TaskExpression('redun_notebook.add', (TaskExpression('redun_notebook.add', (TaskExpression('redun_notebook.add', (TaskExpression('redun_notebook.add', (TaskExpression('redun_notebook.add', (TaskExpression('redun_notebook.add', (TaskExpression('redun_notebook.add', (0, 0), {}), 1), {}), 2), {}), 3), {}), 4), {}), 5), {}), 6), {}), 7), {}), 8), {}), 9), {})]\n",
      "start add(0, 0)\n",
      "stop  add(0, 0)\n",
      "start add(3, 3)\n",
      "stop  add(3, 3)\n",
      "start add(6, 4)\n",
      "stop  add(6, 4)\n",
      "start add(10, 5)\n",
      "stop  add(10, 5)\n",
      "start add(15, 6)\n",
      "stop  add(15, 6)\n",
      "start add(21, 7)\n",
      "stop  add(21, 7)\n",
      "start add(28, 8)\n",
      "stop  add(28, 8)\n",
      "start add(36, 9)\n",
      "stop  add(36, 9)\n"
     ]
    },
    {
     "data": {
      "text/plain": [
       "[0, 0, 1, 3, 6, 10, 15, 21, 28, 36, 45]"
      ]
     },
     "execution_count": 26,
     "metadata": {},
     "output_type": "execute_result"
    }
   ],
   "source": [
    "# Elements of a list do not need to be independent.\n",
    "# For example, here we are doing a cumulative summation where each entry depends on the previous.\n",
    "\n",
    "values = list(range(10))\n",
    "cumsum = [0]\n",
    "for value in values:\n",
    "    cumsum.append(add(cumsum[-1], value))\n",
    "\n",
    "print(cumsum)\n",
    "scheduler.run(cumsum)"
   ]
  },
  {
   "cell_type": "code",
   "execution_count": 27,
   "metadata": {},
   "outputs": [],
   "source": [
    "# Let's implement a task with two outputs. Just use a container type, such as dict, list, namedtuple, etc.\n",
    "# redun has no need for special syntax for multiple outputs.\n",
    "\n",
    "@task()\n",
    "def intdiv(numerator, denominator):\n",
    "    quotient, remainder = divmod(numerator, denominator)\n",
    "    return {\n",
    "        \"quotient\": quotient,\n",
    "        \"remainder\": remainder,\n",
    "    }"
   ]
  },
  {
   "cell_type": "code",
   "execution_count": 28,
   "metadata": {},
   "outputs": [
    {
     "data": {
      "text/plain": [
       "SimpleExpression('getitem', (TaskExpression('redun_notebook.intdiv', (12, 5), {}), 'quotient'), {})"
      ]
     },
     "execution_count": 28,
     "metadata": {},
     "output_type": "execute_result"
    }
   ],
   "source": [
    "# Key and attribute access can be done lazily.\n",
    "# This allows us to route just some of the output to another task.\n",
    "intdiv(12, 5)[\"quotient\"]"
   ]
  },
  {
   "cell_type": "code",
   "execution_count": 29,
   "metadata": {},
   "outputs": [
    {
     "name": "stdout",
     "output_type": "stream",
     "text": [
      "start add(2, 2)\n",
      "stop  add(2, 2)\n"
     ]
    },
    {
     "data": {
      "text/plain": [
       "7"
      ]
     },
     "execution_count": 29,
     "metadata": {},
     "output_type": "execute_result"
    }
   ],
   "source": [
    "# Here we route the two outputs to different downstream computations.\n",
    "result = intdiv(12, 5)\n",
    "x = add(result[\"quotient\"], 1)\n",
    "y = add(result[\"remainder\"], 2)\n",
    "scheduler.run(add(x, y))"
   ]
  },
  {
   "cell_type": "code",
   "execution_count": 33,
   "metadata": {},
   "outputs": [
    {
     "data": {
      "text/plain": [
       "SimpleExpression('getattr', (SimpleExpression('call', (SimpleExpression('getattr', (TaskExpression('redun_notebook.returns_alot', (), {}), 'get_friend'), {}), (), {}), {}), 'name'), {})"
      ]
     },
     "execution_count": 33,
     "metadata": {},
     "output_type": "execute_result"
    }
   ],
   "source": [
    "class User:\n",
    "    def __init__(self, name, friend=None):\n",
    "        self.name = name\n",
    "        self.friend = friend\n",
    "    \n",
    "    def get_friend(self):\n",
    "        return self.friend\n",
    "\n",
    "@task()\n",
    "def returns_alot():\n",
    "    return User(\"Alice\", friend=User(\"Bob\"))\n",
    "\n",
    "# Many operations can be chained lazily. For example, attribute access and function calls.\n",
    "expr = returns_alot().get_friend().name\n",
    "expr"
   ]
  },
  {
   "cell_type": "code",
   "execution_count": 34,
   "metadata": {},
   "outputs": [
    {
     "data": {
      "text/plain": [
       "'Bob'"
      ]
     },
     "execution_count": 34,
     "metadata": {},
     "output_type": "execute_result"
    }
   ],
   "source": [
    "scheduler.run(expr)"
   ]
  },
  {
   "cell_type": "code",
   "execution_count": 35,
   "metadata": {},
   "outputs": [
    {
     "name": "stdout",
     "output_type": "stream",
     "text": [
      "SimpleExpression('mul', (SimpleExpression('add', (TaskExpression('redun_notebook.add', (1, 2), {}), 1), {}), TaskExpression('redun_notebook.add', (1, 1), {})), {})\n"
     ]
    },
    {
     "data": {
      "text/plain": [
       "8"
      ]
     },
     "execution_count": 35,
     "metadata": {},
     "output_type": "execute_result"
    }
   ],
   "source": [
    "# Most operators can be used lazily.\n",
    "expr = (add(1, 2) + 1) * add(1, 1)\n",
    "print(expr)\n",
    "scheduler.run(expr)"
   ]
  },
  {
   "cell_type": "code",
   "execution_count": 36,
   "metadata": {},
   "outputs": [],
   "source": [
    "# Tasks are first-class values and can be used as arguments and return values.\n",
    "# Let's create a higher-order task that performs divide and conquer generically.\n",
    "\n",
    "@task()\n",
    "def divide_and_conquer(a_task, values, init=0):\n",
    "    if len(values) == 0:\n",
    "        return init\n",
    "    elif len(values) == 1:\n",
    "        return values[0]\n",
    "    else:\n",
    "        k = len(values) // 2\n",
    "        sum1 = divide_and_conquer(a_task, values[:k])\n",
    "        sum2 = divide_and_conquer(a_task, values[k:])\n",
    "        return a_task(sum1, sum2)"
   ]
  },
  {
   "cell_type": "code",
   "execution_count": 37,
   "metadata": {},
   "outputs": [
    {
     "name": "stdout",
     "output_type": "stream",
     "text": [
      "start add(8, 9)\n",
      "start add(2, 7)\n",
      "stop  add(8, 9)\n",
      "stop  add(2, 7)\n",
      "start add(7, 17)\n",
      "start add(1, 9)\n",
      "stop  add(7, 17)\n",
      "stop  add(1, 9)\n",
      "start add(11, 24)\n",
      "stop  add(11, 24)\n",
      "start add(10, 35)\n",
      "stop  add(10, 35)\n"
     ]
    },
    {
     "data": {
      "text/plain": [
       "45"
      ]
     },
     "execution_count": 37,
     "metadata": {},
     "output_type": "execute_result"
    }
   ],
   "source": [
    "scheduler.run(divide_and_conquer(add, list(range(10))))"
   ]
  },
  {
   "cell_type": "code",
   "execution_count": 124,
   "metadata": {},
   "outputs": [],
   "source": [
    "# Now we can apply our divide and conquer to other \"reducer\" tasks."
   ]
  },
  {
   "cell_type": "code",
   "execution_count": 38,
   "metadata": {},
   "outputs": [],
   "source": [
    "@task()\n",
    "def mult(a, b):\n",
    "    return a * b"
   ]
  },
  {
   "cell_type": "code",
   "execution_count": 39,
   "metadata": {},
   "outputs": [
    {
     "data": {
      "text/plain": [
       "362880"
      ]
     },
     "execution_count": 39,
     "metadata": {},
     "output_type": "execute_result"
    }
   ],
   "source": [
    "scheduler.run(divide_and_conquer(mult, list(range(1, 10))))"
   ]
  },
  {
   "cell_type": "code",
   "execution_count": 40,
   "metadata": {},
   "outputs": [],
   "source": [
    "@task()\n",
    "def pair(a, b):\n",
    "    return (a, b)"
   ]
  },
  {
   "cell_type": "code",
   "execution_count": 43,
   "metadata": {},
   "outputs": [
    {
     "data": {
      "text/plain": [
       "(((0, 1), (2, (3, 4))), ((5, 6), (7, (8, 9))))"
      ]
     },
     "execution_count": 43,
     "metadata": {},
     "output_type": "execute_result"
    }
   ],
   "source": [
    "scheduler.run(divide_and_conquer(pair, list(range(10))))"
   ]
  },
  {
   "cell_type": "code",
   "execution_count": 44,
   "metadata": {},
   "outputs": [
    {
     "name": "stdout",
     "output_type": "stream",
     "text": [
      "PartialTask(fullname=redun_notebook.add, hash=6c7d07ac, args=(1,), kwargs={})\n",
      "TaskExpression('redun_notebook.add', (1, 10), {})\n",
      "start add(1, 10)\n",
      "stop  add(1, 10)\n"
     ]
    },
    {
     "data": {
      "text/plain": [
       "11"
      ]
     },
     "execution_count": 44,
     "metadata": {},
     "output_type": "execute_result"
    }
   ],
   "source": [
    "# Tasks also support partial application.\n",
    "inc = add.partial(1)\n",
    "print(inc)\n",
    "print(inc(10))\n",
    "scheduler.run(inc(10))"
   ]
  },
  {
   "cell_type": "code",
   "execution_count": 49,
   "metadata": {},
   "outputs": [],
   "source": [
    "# We can use task options to modify how tasks are run.\n",
    "# For example, we can turn off caching on a per task-basis.\n",
    "@task(cache=False)\n",
    "def double(x):\n",
    "    print(\"Doubling\", x)\n",
    "    return x * 2"
   ]
  },
  {
   "cell_type": "code",
   "execution_count": 50,
   "metadata": {},
   "outputs": [
    {
     "name": "stdout",
     "output_type": "stream",
     "text": [
      "Doubling 1\n",
      "2\n",
      "Doubling 1\n",
      "2\n"
     ]
    }
   ],
   "source": [
    "# Notice we see the \"Doubling\" print statement occurs twice, so caching is disabled.\n",
    "print(scheduler.run(double(1)))\n",
    "print(scheduler.run(double(1)))"
   ]
  },
  {
   "cell_type": "code",
   "execution_count": 51,
   "metadata": {},
   "outputs": [
    {
     "name": "stdout",
     "output_type": "stream",
     "text": [
      "2\n",
      "2\n"
     ]
    }
   ],
   "source": [
    "# We'll see in later examples, that when running tasks on a remote cluster, we can \n",
    "# specify options such as `memory`, `cpus`, and `gpus`.\n",
    "# We can also override task options at call time.\n",
    "# With caching, we won't see the \"Doubling\" print statements any more.\n",
    "print(scheduler.run(double.options(cache=True)(1)))\n",
    "print(scheduler.run(double.options(cache=True)(1)))"
   ]
  },
  {
   "cell_type": "code",
   "execution_count": 133,
   "metadata": {},
   "outputs": [],
   "source": [
    "# Try your own expressions!"
   ]
  },
  {
   "cell_type": "code",
   "execution_count": null,
   "metadata": {},
   "outputs": [],
   "source": []
  }
 ],
 "metadata": {
  "kernelspec": {
   "display_name": "redun",
   "language": "python",
   "name": "redun"
  },
  "language_info": {
   "codemirror_mode": {
    "name": "ipython",
    "version": 3
   },
   "file_extension": ".py",
   "mimetype": "text/x-python",
   "name": "python",
   "nbconvert_exporter": "python",
   "pygments_lexer": "ipython3",
   "version": "3.9.12"
  }
 },
 "nbformat": 4,
 "nbformat_minor": 4
}
