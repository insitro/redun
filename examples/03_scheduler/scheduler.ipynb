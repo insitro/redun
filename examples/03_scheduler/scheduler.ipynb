{
 "cells": [
  {
   "cell_type": "markdown",
   "metadata": {},
   "source": [
    "# redun's scheduler walk through\n",
    "\n",
    "In this notebook, we'll walk through how redun's scheduler implements workflow execution. Briefly, redun represents workflows as computional expressions that are iteratively evaluated by a scheduler using a technique called [graph reduction](https://en.wikipedia.org/wiki/Graph_reduction). This approach allows users to specify large computational workflows in a very natural and expressive style.\n",
    "\n",
    "If you haven't already please see the first two examples for an introduction to redun's basic features. Those examples executed workflows using the `redun` CLI (command-line interface), which is the most common way to execute a workflow. In this notebook, we will run workflows programmatically using the `Scheduler` class in order to inspect the execution process more closely. The redun CLI is just a thin wrapper around the `Scheduler`."
   ]
  },
  {
   "cell_type": "code",
   "execution_count": 90,
   "metadata": {},
   "outputs": [],
   "source": [
    "# Imports.\n",
    "import logging, time\n",
    "\n",
    "from redun import Scheduler, task"
   ]
  },
  {
   "cell_type": "code",
   "execution_count": 91,
   "metadata": {},
   "outputs": [
    {
     "name": "stderr",
     "output_type": "stream",
     "text": [
      "[redun] Upgrading db from version -1.0 to 2.0...\n"
     ]
    }
   ],
   "source": [
    "# Create a minimal Scheduler that uses in-memory cache.\n",
    "\n",
    "scheduler = Scheduler()\n",
    "scheduler.logger.setLevel(logging.INFO)"
   ]
  },
  {
   "cell_type": "code",
   "execution_count": 92,
   "metadata": {},
   "outputs": [],
   "source": [
    "# Create a simple redun task.\n",
    "\n",
    "# Tasks will automatically use the global variable `redun_namespace` as their namespace.\n",
    "redun_namespace = \"redun_notebook\"\n",
    "\n",
    "@task()\n",
    "def add(a, b):\n",
    "    return a + b"
   ]
  },
  {
   "cell_type": "code",
   "execution_count": 93,
   "metadata": {},
   "outputs": [
    {
     "data": {
      "text/plain": [
       "Task(fullname=redun_notebook.add, hash=496bc317)"
      ]
     },
     "execution_count": 93,
     "metadata": {},
     "output_type": "execute_result"
    }
   ],
   "source": [
    "# The `@task` decorator turns functions into Task objects.\n",
    "add"
   ]
  },
  {
   "cell_type": "code",
   "execution_count": 94,
   "metadata": {},
   "outputs": [
    {
     "name": "stdout",
     "output_type": "stream",
     "text": [
      "name add\n",
      "hash 496bc31711bb263aa03d3064f2c6939d8cccec42\n",
      "func <function add at 0x110674c10>\n",
      "def add(a, b):\n",
      "    return a + b\n",
      "\n"
     ]
    }
   ],
   "source": [
    "# Tasks have several properties, such as a name, a hash, their source code, and the original wrapped function.\n",
    "print(\"name\", add.name)\n",
    "print(\"hash\", add.hash)\n",
    "print(\"func\", add.func)\n",
    "print(add.source)"
   ]
  },
  {
   "cell_type": "code",
   "execution_count": 95,
   "metadata": {},
   "outputs": [
    {
     "data": {
      "text/plain": [
       "TaskExpression('redun_notebook.add', (1, 2), {})"
      ]
     },
     "execution_count": 95,
     "metadata": {},
     "output_type": "execute_result"
    }
   ],
   "source": [
    "# The key trick is that task calls are intercepted and return Expressions.\n",
    "add(1, 2)"
   ]
  },
  {
   "cell_type": "code",
   "execution_count": 96,
   "metadata": {},
   "outputs": [],
   "source": [
    "# The most common Expression is a TaskExpression. The following Expression,\n",
    "#   TaskExpression('redun_notebook.add', (1, 2), {})\n",
    "# represents calling the task 'redun_notebook.add' with positional arguments (1, 2) and keyword arguments {}."
   ]
  },
  {
   "cell_type": "code",
   "execution_count": 97,
   "metadata": {},
   "outputs": [
    {
     "name": "stderr",
     "output_type": "stream",
     "text": [
      "[redun] Start Execution eacba446-9a03-4886-9886-c775c6a0e151:  redun 'TaskExpression('\"'\"'redun_notebook.add'\"'\"', (1, 2), {})'\n",
      "[redun] Run    Job 18a9dd6f:  redun_notebook.add(a=1, b=2) on default\n",
      "[redun] \n",
      "[redun] | JOB STATUS 2021/06/19 19:31:44\n",
      "[redun] | TASK               PENDING RUNNING  FAILED  CACHED    DONE   TOTAL\n",
      "[redun] | \n",
      "[redun] | ALL                      0       0       0       0       1       1\n",
      "[redun] | redun_notebook.add       0       0       0       0       1       1\n",
      "[redun] \n"
     ]
    },
    {
     "data": {
      "text/plain": [
       "3"
      ]
     },
     "execution_count": 97,
     "metadata": {},
     "output_type": "execute_result"
    }
   ],
   "source": [
    "# To evaluate an expression, use scheduler.run():\n",
    "scheduler.run(add(1, 2))"
   ]
  },
  {
   "cell_type": "code",
   "execution_count": 98,
   "metadata": {},
   "outputs": [
    {
     "data": {
      "text/plain": [
       "TaskExpression('redun_notebook.add', (TaskExpression('redun_notebook.add', (1, 2), {}), 3), {})"
      ]
     },
     "execution_count": 98,
     "metadata": {},
     "output_type": "execute_result"
    }
   ],
   "source": [
    "# Expressions can be combined into an expression tree/graph.\n",
    "add(add(1, 2), 3)"
   ]
  },
  {
   "cell_type": "code",
   "execution_count": 99,
   "metadata": {},
   "outputs": [
    {
     "name": "stderr",
     "output_type": "stream",
     "text": [
      "[redun] Start Execution d4b3d187-fea0-4459-a2c5-f84575732970:  redun 'TaskExpression('\"'\"'redun_notebook.add'\"'\"', (TaskExpression('\"'\"'redun_notebook.add'\"'\"', (1, 2), {}), 3), {})'\n",
      "[redun] Cached Job c967ced0:  redun_notebook.add(a=1, b=2) (eval_hash=a162a83f)\n",
      "[redun] Run    Job f5f8cb07:  redun_notebook.add(a=3, b=3) on default\n",
      "[redun] \n",
      "[redun] | JOB STATUS 2021/06/19 19:31:44\n",
      "[redun] | TASK               PENDING RUNNING  FAILED  CACHED    DONE   TOTAL\n",
      "[redun] | \n",
      "[redun] | ALL                      0       0       0       1       1       2\n",
      "[redun] | redun_notebook.add       0       0       0       1       1       2\n",
      "[redun] \n"
     ]
    },
    {
     "data": {
      "text/plain": [
       "6"
      ]
     },
     "execution_count": 99,
     "metadata": {},
     "output_type": "execute_result"
    }
   ],
   "source": [
    "# We can evaluate a whole expression tree using the scheduler:\n",
    "scheduler.run(add(add(1, 2), 3))"
   ]
  },
  {
   "cell_type": "code",
   "execution_count": 100,
   "metadata": {},
   "outputs": [],
   "source": [
    "# We have defined a small workflow/pipeline using what others call \"invocation style\"."
   ]
  },
  {
   "cell_type": "code",
   "execution_count": 101,
   "metadata": {},
   "outputs": [],
   "source": [
    "# Let's redefine the add() task to be artificially slower, so we can more easily see tasks running in parallel.\n",
    "\n",
    "@task(version='1')\n",
    "def add(a, b):\n",
    "    print(f\"start add({a}, {b})\")\n",
    "    time.sleep(1)\n",
    "    print(f\"stop  add({a}, {b})\")\n",
    "    return a + b"
   ]
  },
  {
   "cell_type": "code",
   "execution_count": 102,
   "metadata": {},
   "outputs": [
    {
     "name": "stdout",
     "output_type": "stream",
     "text": [
      "def add(a, b):\n",
      "    print(f\"start add({a}, {b})\")\n",
      "    time.sleep(1)\n",
      "    print(f\"stop  add({a}, {b})\")\n",
      "    return a + b\n",
      "\n"
     ]
    },
    {
     "data": {
      "text/plain": [
       "'037d0e72cc62a8360d7cb321a68135eb790f17cd'"
      ]
     },
     "execution_count": 102,
     "metadata": {},
     "output_type": "execute_result"
    }
   ],
   "source": [
    "# Task source and hash should now be updated.\n",
    "\n",
    "print(add.source)\n",
    "\n",
    "add.hash"
   ]
  },
  {
   "cell_type": "code",
   "execution_count": 103,
   "metadata": {},
   "outputs": [
    {
     "name": "stderr",
     "output_type": "stream",
     "text": [
      "[redun] Upgrading db from version -1.0 to 2.0...\n",
      "[redun] Start Execution 868e61cc-f439-49e5-8f84-f7d526778028:  redun 'TaskExpression('\"'\"'redun_notebook.add'\"'\"', (TaskExpression('\"'\"'redun_notebook.add'\"'\"', (1, 2), {}), TaskExpression('\"'\"'redun_notebook.add'\"'\"', (3, 4), {})), {})'\n",
      "[redun] Run    Job ce35cc53:  redun_notebook.add(a=1, b=2) on default\n",
      "[redun] Run    Job bb223e10:  redun_notebook.add(a=3, b=4) on default\n"
     ]
    },
    {
     "name": "stdout",
     "output_type": "stream",
     "text": [
      "start add(1, 2)\n",
      "start add(3, 4)\n"
     ]
    },
    {
     "name": "stderr",
     "output_type": "stream",
     "text": [
      "[redun] Run    Job 6b021803:  redun_notebook.add(a=3, b=7) on default\n"
     ]
    },
    {
     "name": "stdout",
     "output_type": "stream",
     "text": [
      "stop  add(1, 2)\n",
      "stop  add(3, 4)\n",
      "start add(3, 7)\n"
     ]
    },
    {
     "name": "stderr",
     "output_type": "stream",
     "text": [
      "[redun] \n",
      "[redun] | JOB STATUS 2021/06/19 19:31:47\n",
      "[redun] | TASK               PENDING RUNNING  FAILED  CACHED    DONE   TOTAL\n",
      "[redun] | \n",
      "[redun] | ALL                      0       0       0       0       3       3\n",
      "[redun] | redun_notebook.add       0       0       0       0       3       3\n",
      "[redun] \n"
     ]
    },
    {
     "name": "stdout",
     "output_type": "stream",
     "text": [
      "stop  add(3, 7)\n"
     ]
    },
    {
     "data": {
      "text/plain": [
       "10"
      ]
     },
     "execution_count": 103,
     "metadata": {},
     "output_type": "execute_result"
    }
   ],
   "source": [
    "# Expressions that do not depend on each other (e.g. `add(1, 2)` and `add(3, 4)`) will \n",
    "# automatically run in parallel. Notice how we see two starts and then two stops.\n",
    "scheduler = Scheduler()\n",
    "scheduler.run(add(add(1, 2), add(3, 4)))"
   ]
  },
  {
   "attachments": {},
   "cell_type": "markdown",
   "metadata": {},
   "source": [
    "## Executing workflows with graph reduction\n",
    "\n",
    "The redun scheduler treats the expression `add(add(1, 2), add(3, 4))` as a tree (or DAG more generally). In the figure below, concrete values (anything that's not a subclass of `Expression`) are drawn in grey boxes, and `TaskExpressions` are drawn in blue boxes.\n",
    "\n",
    "<img width=\"50%\" src=\"images/expression-tree.png\">\n",
    "\n",
    "When `scheduler.run()` is applied, it begins to identify subtrees that can be *reduced*, namely tasks with concrete arguments (see red boxes below). The scheduler will perform these reductions by calling tasks (e.g. `add`) with the child nodes as the arguments. These task executions can occur in parallel, which is safe to do because tasks are required to be written as pure functions with no side-effects. The scheduler can also consult the cache before performing each reduction to see if it can skip executing a task and instead just replay the result.\n",
    "\n",
    "<img width=\"50%\" src=\"images/expression-tree2.png\">\n",
    "\n",
    "When a task completes its execution, its result is replaced into the expression tree.\n",
    "\n",
    "<img width=\"25%\" src=\"images/expression-tree3.png\">\n",
    "\n",
    "As reductions complete, additional reductions become possible.\n",
    "\n",
    "<img width=\"25%\" src=\"images/expression-tree4.png\">\n",
    "\n",
    "Eventually the expression graph reduces to a single concrete value and the workflow execution concludes.\n",
    "\n",
    "<img width=\"12%\" src=\"images/expression-tree5.png\">"
   ]
  },
  {
   "cell_type": "code",
   "execution_count": 104,
   "metadata": {},
   "outputs": [],
   "source": [
    "# Let's say we add four numbers a lot. Let's abstract it into its own task.\n",
    "\n",
    "@task()\n",
    "def add4(a, b, c, d):\n",
    "    return add(add(a, b), add(c, d))"
   ]
  },
  {
   "cell_type": "code",
   "execution_count": 105,
   "metadata": {
    "scrolled": true
   },
   "outputs": [
    {
     "name": "stderr",
     "output_type": "stream",
     "text": [
      "[redun] Start Execution 0e39d7dd-8ee7-4739-a6d0-c9d10ba1ded4:  redun 'TaskExpression('\"'\"'redun_notebook.add4'\"'\"', (5, 6, 7, 8), {})'\n",
      "[redun] Run    Job 121c6277:  redun_notebook.add4(a=5, b=6, c=7, d=8) on default\n",
      "[redun] Run    Job 5bdc421b:  redun_notebook.add(a=5, b=6) on default\n",
      "[redun] Run    Job e0fa4fcb:  redun_notebook.add(a=7, b=8) on default\n"
     ]
    },
    {
     "name": "stdout",
     "output_type": "stream",
     "text": [
      "start add(5, 6)\n",
      "start add(7, 8)\n"
     ]
    },
    {
     "name": "stderr",
     "output_type": "stream",
     "text": [
      "[redun] Run    Job 54b0a4b9:  redun_notebook.add(a=11, b=15) on default\n"
     ]
    },
    {
     "name": "stdout",
     "output_type": "stream",
     "text": [
      "stop  add(5, 6)\n",
      "stop  add(7, 8)\n",
      "start add(11, 15)\n"
     ]
    },
    {
     "name": "stderr",
     "output_type": "stream",
     "text": [
      "[redun] \n",
      "[redun] | JOB STATUS 2021/06/19 19:31:49\n",
      "[redun] | TASK                PENDING RUNNING  FAILED  CACHED    DONE   TOTAL\n",
      "[redun] | \n",
      "[redun] | ALL                       0       0       0       0       4       4\n",
      "[redun] | redun_notebook.add        0       0       0       0       3       3\n",
      "[redun] | redun_notebook.add4       0       0       0       0       1       1\n",
      "[redun] \n"
     ]
    },
    {
     "name": "stdout",
     "output_type": "stream",
     "text": [
      "stop  add(11, 15)\n"
     ]
    },
    {
     "data": {
      "text/plain": [
       "26"
      ]
     },
     "execution_count": 105,
     "metadata": {},
     "output_type": "execute_result"
    }
   ],
   "source": [
    "scheduler.run(add4(5, 6, 7, 8))"
   ]
  },
  {
   "cell_type": "code",
   "execution_count": 106,
   "metadata": {},
   "outputs": [],
   "source": [
    "# This returns the expected result. If a redun task returns an expression, \n",
    "# the scheduler will perform a follow up evaluation."
   ]
  },
  {
   "cell_type": "markdown",
   "metadata": {},
   "source": [
    "## Graph reductions that return more expressions\n",
    "\n",
    "The expression `add4(5, 6, 7, 8)` would look like the following expression tree.\n",
    "\n",
    "<img width=\"50%\" src=\"images/expression-tree6.png\">\n",
    "\n",
    "As we saw above, instead of returning a concrete value, task `add4` actually returned more expressions. This is a completely valid thing to do, and when it happens, the redun scheduler will simply place those expressions into a expression graph.\n",
    "\n",
    "<img width=\"50%\" src=\"images/expression-tree7.png\">\n",
    "\n",
    "The scheduler will begin to recurse into the new expressions looking for more reductions. \n",
    "\n",
    "In this way, the expression graph can actually expand and contract. Being able to dynamically grow the expression graph is what gives redun its ability to express very dynamic workflows.\n",
    "\n",
    "This process actually follows the implementation of classic functional programming language compilers and interpreters."
   ]
  },
  {
   "cell_type": "code",
   "execution_count": 107,
   "metadata": {},
   "outputs": [],
   "source": [
    "# Let's generalize 'add' to arbitrary number of values.\n",
    "\n",
    "@task()\n",
    "def add_many(values, init=0):\n",
    "    if len(values) == 0:\n",
    "        return init\n",
    "    elif len(values) == 1:\n",
    "        return values[0]\n",
    "    else:\n",
    "        k = len(values) // 2\n",
    "        sum1 = add_many(values[:k])\n",
    "        sum2 = add_many(values[k:])\n",
    "        return add(sum1, sum2)"
   ]
  },
  {
   "cell_type": "code",
   "execution_count": 108,
   "metadata": {
    "scrolled": true
   },
   "outputs": [
    {
     "name": "stderr",
     "output_type": "stream",
     "text": [
      "[redun] Start Execution b743b85f-20b3-466c-a7a0-6cd801790f12:  redun 'TaskExpression('\"'\"'redun_notebook.add_many'\"'\"', ([0, 1, 2, 3, 4, 5, 6, 7, 8, 9, 10, 11, 12, 13, 14, 15, 16, 17, 18, 19, 20, 21, 22, 23, 24, 25, 26, 27, 28, 29, 30, 31, 32, 33, 34, 35, 36, 37, 38, 39, 40,...'\n",
      "[redun] Run    Job a1dd73a6:  redun_notebook.add_many(values=[0, 1, 2, 3, 4, 5, 6, 7, 8, 9, 10, 11, 12, 13, 14, 15, 16, 17, 18, 19, 20, 21, 22, 23, 24, 25, 26, 27, 28, 29, 30, 31, 32, 33, 34, 35, 36, 37, 38, 39, 40, 41, 42, 43, 44, 45, 46, 47, 48, 49, 50, 51..., init=0) on default\n",
      "[redun] Run    Job 6705ebcd:  redun_notebook.add_many(values=[0, 1, 2, 3, 4, 5, 6, 7, 8, 9, 10, 11, 12, 13, 14, 15, 16, 17, 18, 19, 20, 21, 22, 23, 24, 25, 26, 27, 28, 29, 30, 31, 32, 33, 34, 35, 36, 37, 38, 39, 40, 41, 42, 43, 44, 45, 46, 47, 48, 49], init=0) on default\n",
      "[redun] Run    Job efb73410:  redun_notebook.add_many(values=[50, 51, 52, 53, 54, 55, 56, 57, 58, 59, 60, 61, 62, 63, 64, 65, 66, 67, 68, 69, 70, 71, 72, 73, 74, 75, 76, 77, 78, 79, 80, 81, 82, 83, 84, 85, 86, 87, 88, 89, 90, 91, 92, 93, 94, 95, 96, 97, 98, 99], init=0) on default\n",
      "[redun] Run    Job 4c60ac9b:  redun_notebook.add_many(values=[0, 1, 2, 3, 4, 5, 6, 7, 8, 9, 10, 11, 12, 13, 14, 15, 16, 17, 18, 19, 20, 21, 22, 23, 24], init=0) on default\n",
      "[redun] Run    Job 572db7e4:  redun_notebook.add_many(values=[25, 26, 27, 28, 29, 30, 31, 32, 33, 34, 35, 36, 37, 38, 39, 40, 41, 42, 43, 44, 45, 46, 47, 48, 49], init=0) on default\n",
      "[redun] Run    Job 1715babd:  redun_notebook.add_many(values=[50, 51, 52, 53, 54, 55, 56, 57, 58, 59, 60, 61, 62, 63, 64, 65, 66, 67, 68, 69, 70, 71, 72, 73, 74], init=0) on default\n",
      "[redun] Run    Job 1d49808b:  redun_notebook.add_many(values=[75, 76, 77, 78, 79, 80, 81, 82, 83, 84, 85, 86, 87, 88, 89, 90, 91, 92, 93, 94, 95, 96, 97, 98, 99], init=0) on default\n",
      "[redun] Run    Job 160b0932:  redun_notebook.add_many(values=[0, 1, 2, 3, 4, 5, 6, 7, 8, 9, 10, 11], init=0) on default\n",
      "[redun] Run    Job d47b40a4:  redun_notebook.add_many(values=[12, 13, 14, 15, 16, 17, 18, 19, 20, 21, 22, 23, 24], init=0) on default\n",
      "[redun] Run    Job 5281cb70:  redun_notebook.add_many(values=[25, 26, 27, 28, 29, 30, 31, 32, 33, 34, 35, 36], init=0) on default\n",
      "[redun] Run    Job 4e592e95:  redun_notebook.add_many(values=[37, 38, 39, 40, 41, 42, 43, 44, 45, 46, 47, 48, 49], init=0) on default\n",
      "[redun] Run    Job 3f329b92:  redun_notebook.add_many(values=[50, 51, 52, 53, 54, 55, 56, 57, 58, 59, 60, 61], init=0) on default\n",
      "[redun] Run    Job af674d08:  redun_notebook.add_many(values=[62, 63, 64, 65, 66, 67, 68, 69, 70, 71, 72, 73, 74], init=0) on default\n",
      "[redun] Run    Job c7d6708f:  redun_notebook.add_many(values=[75, 76, 77, 78, 79, 80, 81, 82, 83, 84, 85, 86], init=0) on default\n",
      "[redun] Run    Job 688ddb9a:  redun_notebook.add_many(values=[87, 88, 89, 90, 91, 92, 93, 94, 95, 96, 97, 98, 99], init=0) on default\n",
      "[redun] Run    Job 32a6b03c:  redun_notebook.add_many(values=[0, 1, 2, 3, 4, 5], init=0) on default\n",
      "[redun] Run    Job c07db370:  redun_notebook.add_many(values=[6, 7, 8, 9, 10, 11], init=0) on default\n",
      "[redun] Run    Job fc22d4b7:  redun_notebook.add_many(values=[12, 13, 14, 15, 16, 17], init=0) on default\n",
      "[redun] Run    Job 20b1ae51:  redun_notebook.add_many(values=[18, 19, 20, 21, 22, 23, 24], init=0) on default\n",
      "[redun] Run    Job 86d1dd19:  redun_notebook.add_many(values=[25, 26, 27, 28, 29, 30], init=0) on default\n",
      "[redun] Run    Job b3c6748c:  redun_notebook.add_many(values=[31, 32, 33, 34, 35, 36], init=0) on default\n",
      "[redun] Run    Job f64024e1:  redun_notebook.add_many(values=[37, 38, 39, 40, 41, 42], init=0) on default\n",
      "[redun] Run    Job 9e179d09:  redun_notebook.add_many(values=[43, 44, 45, 46, 47, 48, 49], init=0) on default\n",
      "[redun] Run    Job 9a67e434:  redun_notebook.add_many(values=[50, 51, 52, 53, 54, 55], init=0) on default\n",
      "[redun] Run    Job 8c2dc045:  redun_notebook.add_many(values=[56, 57, 58, 59, 60, 61], init=0) on default\n",
      "[redun] Run    Job 5ad0d427:  redun_notebook.add_many(values=[62, 63, 64, 65, 66, 67], init=0) on default\n",
      "[redun] Run    Job 42e97995:  redun_notebook.add_many(values=[68, 69, 70, 71, 72, 73, 74], init=0) on default\n",
      "[redun] Run    Job 77e16c90:  redun_notebook.add_many(values=[75, 76, 77, 78, 79, 80], init=0) on default\n",
      "[redun] Run    Job 0c17505c:  redun_notebook.add_many(values=[81, 82, 83, 84, 85, 86], init=0) on default\n",
      "[redun] Run    Job 3e0e2d5f:  redun_notebook.add_many(values=[87, 88, 89, 90, 91, 92], init=0) on default\n",
      "[redun] Run    Job c63b3ec0:  redun_notebook.add_many(values=[93, 94, 95, 96, 97, 98, 99], init=0) on default\n",
      "[redun] Run    Job 9c6993a7:  redun_notebook.add_many(values=[0, 1, 2], init=0) on default\n",
      "[redun] Run    Job a4f86334:  redun_notebook.add_many(values=[3, 4, 5], init=0) on default\n",
      "[redun] Run    Job fab7501c:  redun_notebook.add_many(values=[6, 7, 8], init=0) on default\n",
      "[redun] Run    Job 053a8008:  redun_notebook.add_many(values=[9, 10, 11], init=0) on default\n",
      "[redun] Run    Job 1763f0cf:  redun_notebook.add_many(values=[12, 13, 14], init=0) on default\n",
      "[redun] Run    Job 4600f33c:  redun_notebook.add_many(values=[15, 16, 17], init=0) on default\n",
      "[redun] Run    Job 3aaa449a:  redun_notebook.add_many(values=[18, 19, 20], init=0) on default\n",
      "[redun] Run    Job c5132b17:  redun_notebook.add_many(values=[21, 22, 23, 24], init=0) on default\n",
      "[redun] Run    Job 0003fa95:  redun_notebook.add_many(values=[25, 26, 27], init=0) on default\n",
      "[redun] Run    Job 5268705a:  redun_notebook.add_many(values=[28, 29, 30], init=0) on default\n",
      "[redun] Run    Job ba22c007:  redun_notebook.add_many(values=[31, 32, 33], init=0) on default\n",
      "[redun] Run    Job 9d01a295:  redun_notebook.add_many(values=[34, 35, 36], init=0) on default\n",
      "[redun] Run    Job 383d312f:  redun_notebook.add_many(values=[37, 38, 39], init=0) on default\n",
      "[redun] Run    Job 00e41987:  redun_notebook.add_many(values=[40, 41, 42], init=0) on default\n",
      "[redun] Run    Job f2551579:  redun_notebook.add_many(values=[43, 44, 45], init=0) on default\n",
      "[redun] Run    Job ba90b369:  redun_notebook.add_many(values=[46, 47, 48, 49], init=0) on default\n",
      "[redun] Run    Job dffae1f9:  redun_notebook.add_many(values=[50, 51, 52], init=0) on default\n",
      "[redun] Run    Job 9fb614d5:  redun_notebook.add_many(values=[53, 54, 55], init=0) on default\n",
      "[redun] Run    Job 9242ca73:  redun_notebook.add_many(values=[56, 57, 58], init=0) on default\n",
      "[redun] Run    Job 251f9c6f:  redun_notebook.add_many(values=[59, 60, 61], init=0) on default\n",
      "[redun] Run    Job 4ba5bf8e:  redun_notebook.add_many(values=[62, 63, 64], init=0) on default\n",
      "[redun] Run    Job 471a3fef:  redun_notebook.add_many(values=[65, 66, 67], init=0) on default\n",
      "[redun] Run    Job c0298b61:  redun_notebook.add_many(values=[68, 69, 70], init=0) on default\n",
      "[redun] Run    Job 263e57d0:  redun_notebook.add_many(values=[71, 72, 73, 74], init=0) on default\n",
      "[redun] Run    Job 8366dd7c:  redun_notebook.add_many(values=[75, 76, 77], init=0) on default\n",
      "[redun] Run    Job b5e38b12:  redun_notebook.add_many(values=[78, 79, 80], init=0) on default\n",
      "[redun] Run    Job 0168bc27:  redun_notebook.add_many(values=[81, 82, 83], init=0) on default\n",
      "[redun] Run    Job da79fbb3:  redun_notebook.add_many(values=[84, 85, 86], init=0) on default\n",
      "[redun] Run    Job 2e7c27e9:  redun_notebook.add_many(values=[87, 88, 89], init=0) on default\n",
      "[redun] Run    Job 8866fbcc:  redun_notebook.add_many(values=[90, 91, 92], init=0) on default\n",
      "[redun] Run    Job 82a51d11:  redun_notebook.add_many(values=[93, 94, 95], init=0) on default\n",
      "[redun] Run    Job 15d237c5:  redun_notebook.add_many(values=[96, 97, 98, 99], init=0) on default\n",
      "[redun] Run    Job c214f134:  redun_notebook.add_many(values=[0], init=0) on default\n",
      "[redun] Run    Job 371895fd:  redun_notebook.add_many(values=[1, 2], init=0) on default\n",
      "[redun] Run    Job c276834c:  redun_notebook.add_many(values=[3], init=0) on default\n",
      "[redun] Run    Job f14bce61:  redun_notebook.add_many(values=[4, 5], init=0) on default\n",
      "[redun] Run    Job 562e3e53:  redun_notebook.add_many(values=[6], init=0) on default\n",
      "[redun] Run    Job cea9fe7a:  redun_notebook.add_many(values=[7, 8], init=0) on default\n",
      "[redun] Run    Job 8523de65:  redun_notebook.add_many(values=[9], init=0) on default\n"
     ]
    },
    {
     "name": "stderr",
     "output_type": "stream",
     "text": [
      "[redun] Run    Job 03103297:  redun_notebook.add_many(values=[10, 11], init=0) on default\n",
      "[redun] Run    Job 99f3f2f3:  redun_notebook.add_many(values=[12], init=0) on default\n",
      "[redun] Run    Job 8352e5ec:  redun_notebook.add_many(values=[13, 14], init=0) on default\n",
      "[redun] Run    Job e1033506:  redun_notebook.add_many(values=[15], init=0) on default\n",
      "[redun] Run    Job 802785f1:  redun_notebook.add_many(values=[16, 17], init=0) on default\n",
      "[redun] Run    Job 9d902732:  redun_notebook.add_many(values=[18], init=0) on default\n",
      "[redun] Run    Job 3448499f:  redun_notebook.add_many(values=[19, 20], init=0) on default\n",
      "[redun] Run    Job 27d538a1:  redun_notebook.add_many(values=[21, 22], init=0) on default\n",
      "[redun] Run    Job f4922275:  redun_notebook.add_many(values=[23, 24], init=0) on default\n",
      "[redun] Run    Job 05de2ad3:  redun_notebook.add_many(values=[25], init=0) on default\n",
      "[redun] Run    Job 2bfe3f82:  redun_notebook.add_many(values=[26, 27], init=0) on default\n",
      "[redun] Run    Job 7452279e:  redun_notebook.add_many(values=[28], init=0) on default\n",
      "[redun] Run    Job 4d9a7412:  redun_notebook.add_many(values=[29, 30], init=0) on default\n",
      "[redun] Run    Job 0c55742b:  redun_notebook.add_many(values=[31], init=0) on default\n",
      "[redun] Run    Job a07a9675:  redun_notebook.add_many(values=[32, 33], init=0) on default\n",
      "[redun] Run    Job af761c04:  redun_notebook.add_many(values=[34], init=0) on default\n",
      "[redun] Run    Job cf222445:  redun_notebook.add_many(values=[35, 36], init=0) on default\n",
      "[redun] Run    Job c7d5bcc6:  redun_notebook.add_many(values=[37], init=0) on default\n",
      "[redun] Run    Job bcd18cbf:  redun_notebook.add_many(values=[38, 39], init=0) on default\n",
      "[redun] Run    Job b38121a7:  redun_notebook.add_many(values=[40], init=0) on default\n",
      "[redun] Run    Job e6be68b2:  redun_notebook.add_many(values=[41, 42], init=0) on default\n",
      "[redun] Run    Job fd166955:  redun_notebook.add_many(values=[43], init=0) on default\n",
      "[redun] Run    Job d08a4fb0:  redun_notebook.add_many(values=[44, 45], init=0) on default\n",
      "[redun] Run    Job 1c702fed:  redun_notebook.add_many(values=[46, 47], init=0) on default\n",
      "[redun] Run    Job 688eb7e4:  redun_notebook.add_many(values=[48, 49], init=0) on default\n",
      "[redun] Run    Job 282051b7:  redun_notebook.add_many(values=[50], init=0) on default\n",
      "[redun] Run    Job 75632f3e:  redun_notebook.add_many(values=[51, 52], init=0) on default\n",
      "[redun] Run    Job 8bc17e82:  redun_notebook.add_many(values=[53], init=0) on default\n",
      "[redun] Run    Job 6e145fe8:  redun_notebook.add_many(values=[54, 55], init=0) on default\n",
      "[redun] Run    Job aace24c0:  redun_notebook.add_many(values=[56], init=0) on default\n",
      "[redun] Run    Job 32c54bdd:  redun_notebook.add_many(values=[57, 58], init=0) on default\n",
      "[redun] Run    Job f0c539ed:  redun_notebook.add_many(values=[59], init=0) on default\n",
      "[redun] Run    Job c8d0819a:  redun_notebook.add_many(values=[60, 61], init=0) on default\n",
      "[redun] Run    Job 129b2781:  redun_notebook.add_many(values=[62], init=0) on default\n",
      "[redun] Run    Job 9aff12f9:  redun_notebook.add_many(values=[63, 64], init=0) on default\n",
      "[redun] Run    Job 3afadd97:  redun_notebook.add_many(values=[65], init=0) on default\n",
      "[redun] Run    Job 9ec74aeb:  redun_notebook.add_many(values=[66, 67], init=0) on default\n",
      "[redun] Run    Job e770de5f:  redun_notebook.add_many(values=[68], init=0) on default\n",
      "[redun] Run    Job 5368d617:  redun_notebook.add_many(values=[69, 70], init=0) on default\n",
      "[redun] Run    Job 538e9a9d:  redun_notebook.add_many(values=[71, 72], init=0) on default\n",
      "[redun] Run    Job 0f568877:  redun_notebook.add_many(values=[73, 74], init=0) on default\n",
      "[redun] Run    Job eda2a3b9:  redun_notebook.add_many(values=[75], init=0) on default\n",
      "[redun] Run    Job cc4ed9d0:  redun_notebook.add_many(values=[76, 77], init=0) on default\n",
      "[redun] Run    Job c3be617c:  redun_notebook.add_many(values=[78], init=0) on default\n",
      "[redun] Run    Job 31f97571:  redun_notebook.add_many(values=[79, 80], init=0) on default\n",
      "[redun] Run    Job 895ca772:  redun_notebook.add_many(values=[81], init=0) on default\n",
      "[redun] Run    Job 1bf5316e:  redun_notebook.add_many(values=[82, 83], init=0) on default\n",
      "[redun] Run    Job 88af5547:  redun_notebook.add_many(values=[84], init=0) on default\n",
      "[redun] Run    Job 75b4d4d6:  redun_notebook.add_many(values=[85, 86], init=0) on default\n",
      "[redun] Run    Job 9623f2ca:  redun_notebook.add_many(values=[87], init=0) on default\n",
      "[redun] Run    Job 7df13645:  redun_notebook.add_many(values=[88, 89], init=0) on default\n",
      "[redun] Run    Job 67344ba1:  redun_notebook.add_many(values=[90], init=0) on default\n",
      "[redun] Run    Job fce465c4:  redun_notebook.add_many(values=[91, 92], init=0) on default\n",
      "[redun] Run    Job 115e60f0:  redun_notebook.add_many(values=[93], init=0) on default\n",
      "[redun] Run    Job 875ba23f:  redun_notebook.add_many(values=[94, 95], init=0) on default\n",
      "[redun] Run    Job 82e10a11:  redun_notebook.add_many(values=[96, 97], init=0) on default\n",
      "[redun] Run    Job 431c863f:  redun_notebook.add_many(values=[98, 99], init=0) on default\n",
      "[redun] Run    Job 4ea677e2:  redun_notebook.add_many(values=[1], init=0) on default\n",
      "[redun] Run    Job 986dfa3c:  redun_notebook.add_many(values=[2], init=0) on default\n",
      "[redun] Run    Job b095163e:  redun_notebook.add_many(values=[4], init=0) on default\n",
      "[redun] Run    Job 2d1c1384:  redun_notebook.add_many(values=[5], init=0) on default\n",
      "[redun] Run    Job 908b8628:  redun_notebook.add_many(values=[7], init=0) on default\n",
      "[redun] Run    Job d877bb4c:  redun_notebook.add_many(values=[8], init=0) on default\n",
      "[redun] Run    Job 45298f06:  redun_notebook.add_many(values=[10], init=0) on default\n",
      "[redun] Run    Job 9f91016c:  redun_notebook.add_many(values=[11], init=0) on default\n",
      "[redun] Run    Job 0748c3dd:  redun_notebook.add_many(values=[13], init=0) on default\n",
      "[redun] Run    Job bf2af3bc:  redun_notebook.add_many(values=[14], init=0) on default\n",
      "[redun] Run    Job e1b2a634:  redun_notebook.add_many(values=[16], init=0) on default\n",
      "[redun] Run    Job 72eb1501:  redun_notebook.add_many(values=[17], init=0) on default\n",
      "[redun] Run    Job d8224bbb:  redun_notebook.add_many(values=[19], init=0) on default\n",
      "[redun] Run    Job cfe5085e:  redun_notebook.add_many(values=[20], init=0) on default\n",
      "[redun] Run    Job a339edeb:  redun_notebook.add_many(values=[21], init=0) on default\n",
      "[redun] Run    Job e56a942c:  redun_notebook.add_many(values=[22], init=0) on default\n",
      "[redun] Run    Job acd89601:  redun_notebook.add_many(values=[23], init=0) on default\n",
      "[redun] Run    Job 89bb0902:  redun_notebook.add_many(values=[24], init=0) on default\n",
      "[redun] Run    Job 972dce09:  redun_notebook.add_many(values=[26], init=0) on default\n",
      "[redun] Run    Job c31c750e:  redun_notebook.add_many(values=[27], init=0) on default\n",
      "[redun] Run    Job 9ab06750:  redun_notebook.add_many(values=[29], init=0) on default\n",
      "[redun] Run    Job 2e935f28:  redun_notebook.add_many(values=[30], init=0) on default\n",
      "[redun] Run    Job b46c5459:  redun_notebook.add_many(values=[32], init=0) on default\n",
      "[redun] Run    Job ade1d5b6:  redun_notebook.add_many(values=[33], init=0) on default\n",
      "[redun] Run    Job 18c2115e:  redun_notebook.add_many(values=[35], init=0) on default\n",
      "[redun] Run    Job 7782a677:  redun_notebook.add_many(values=[36], init=0) on default\n",
      "[redun] Run    Job 7db0fc2d:  redun_notebook.add_many(values=[38], init=0) on default\n",
      "[redun] Run    Job bc336a30:  redun_notebook.add_many(values=[39], init=0) on default\n",
      "[redun] Run    Job 0bb84d1c:  redun_notebook.add_many(values=[41], init=0) on default\n",
      "[redun] Run    Job 701ce97f:  redun_notebook.add_many(values=[42], init=0) on default\n",
      "[redun] Run    Job 971876ca:  redun_notebook.add_many(values=[44], init=0) on default\n",
      "[redun] Run    Job 6ffe473b:  redun_notebook.add_many(values=[45], init=0) on default\n",
      "[redun] Run    Job d72725f3:  redun_notebook.add_many(values=[46], init=0) on default\n",
      "[redun] Run    Job 847da9e0:  redun_notebook.add_many(values=[47], init=0) on default\n",
      "[redun] Run    Job e958e97e:  redun_notebook.add_many(values=[48], init=0) on default\n",
      "[redun] Run    Job 3d34f4ec:  redun_notebook.add_many(values=[49], init=0) on default\n",
      "[redun] Run    Job d0716605:  redun_notebook.add_many(values=[51], init=0) on default\n"
     ]
    },
    {
     "name": "stderr",
     "output_type": "stream",
     "text": [
      "[redun] Run    Job 39e83c33:  redun_notebook.add_many(values=[52], init=0) on default\n",
      "[redun] Run    Job 061df0a0:  redun_notebook.add_many(values=[54], init=0) on default\n",
      "[redun] Run    Job a9437597:  redun_notebook.add_many(values=[55], init=0) on default\n",
      "[redun] Run    Job 09408ccb:  redun_notebook.add_many(values=[57], init=0) on default\n",
      "[redun] Run    Job 025f3af4:  redun_notebook.add_many(values=[58], init=0) on default\n",
      "[redun] Run    Job 732e0916:  redun_notebook.add_many(values=[60], init=0) on default\n",
      "[redun] Run    Job 1f325f0f:  redun_notebook.add_many(values=[61], init=0) on default\n",
      "[redun] Run    Job 860c9216:  redun_notebook.add_many(values=[63], init=0) on default\n",
      "[redun] Run    Job 155d162a:  redun_notebook.add_many(values=[64], init=0) on default\n",
      "[redun] Run    Job 64f6b97c:  redun_notebook.add_many(values=[66], init=0) on default\n",
      "[redun] Run    Job 1ccecc81:  redun_notebook.add_many(values=[67], init=0) on default\n",
      "[redun] Run    Job 8271ff82:  redun_notebook.add_many(values=[69], init=0) on default\n",
      "[redun] Run    Job df39fd7c:  redun_notebook.add_many(values=[70], init=0) on default\n",
      "[redun] Run    Job 063f3c33:  redun_notebook.add_many(values=[71], init=0) on default\n",
      "[redun] Run    Job 9f905a48:  redun_notebook.add_many(values=[72], init=0) on default\n",
      "[redun] Run    Job f65b6624:  redun_notebook.add_many(values=[73], init=0) on default\n",
      "[redun] Run    Job bedf4a34:  redun_notebook.add_many(values=[74], init=0) on default\n",
      "[redun] Run    Job 4205473c:  redun_notebook.add_many(values=[76], init=0) on default\n",
      "[redun] Run    Job e9538702:  redun_notebook.add_many(values=[77], init=0) on default\n",
      "[redun] Run    Job 40047586:  redun_notebook.add_many(values=[79], init=0) on default\n",
      "[redun] Run    Job 0889b0d5:  redun_notebook.add_many(values=[80], init=0) on default\n",
      "[redun] Run    Job 51a37418:  redun_notebook.add_many(values=[82], init=0) on default\n",
      "[redun] Run    Job 44b36ec9:  redun_notebook.add_many(values=[83], init=0) on default\n",
      "[redun] Run    Job 99aad798:  redun_notebook.add_many(values=[85], init=0) on default\n",
      "[redun] Run    Job 24f5f6df:  redun_notebook.add_many(values=[86], init=0) on default\n",
      "[redun] Run    Job ed3916fb:  redun_notebook.add_many(values=[88], init=0) on default\n",
      "[redun] Run    Job 03de74eb:  redun_notebook.add_many(values=[89], init=0) on default\n",
      "[redun] Run    Job be790a3b:  redun_notebook.add_many(values=[91], init=0) on default\n",
      "[redun] Run    Job 7318fd66:  redun_notebook.add_many(values=[92], init=0) on default\n",
      "[redun] Run    Job 0d67c920:  redun_notebook.add_many(values=[94], init=0) on default\n",
      "[redun] Run    Job 9277bf1b:  redun_notebook.add_many(values=[95], init=0) on default\n",
      "[redun] Run    Job c6c3d921:  redun_notebook.add_many(values=[96], init=0) on default\n",
      "[redun] Run    Job e5bf7840:  redun_notebook.add_many(values=[97], init=0) on default\n",
      "[redun] Run    Job f582e068:  redun_notebook.add_many(values=[98], init=0) on default\n",
      "[redun] Run    Job c5bd8afb:  redun_notebook.add_many(values=[99], init=0) on default\n",
      "[redun] Cached Job b4203205:  redun_notebook.add(a=1, b=2) (eval_hash=6b571a50)\n",
      "[redun] Run    Job b40f0f03:  redun_notebook.add(a=4, b=5) on default\n",
      "[redun] Cached Job ec8d9531:  redun_notebook.add(a=7, b=8) (eval_hash=b6ce28ae)\n",
      "[redun] Run    Job 37116a34:  redun_notebook.add(a=10, b=11) on default\n",
      "[redun] Run    Job 10cb172c:  redun_notebook.add(a=13, b=14) on default\n",
      "[redun] Run    Job e7986ee9:  redun_notebook.add(a=16, b=17) on default\n",
      "[redun] Run    Job 3ead4412:  redun_notebook.add(a=19, b=20) on default\n",
      "[redun] Run    Job 108a7eda:  redun_notebook.add(a=21, b=22) on default\n",
      "[redun] Run    Job 6856541e:  redun_notebook.add(a=23, b=24) on default\n",
      "[redun] Run    Job dd6d9f65:  redun_notebook.add(a=26, b=27) on default\n",
      "[redun] Run    Job 0d4001a3:  redun_notebook.add(a=29, b=30) on default\n",
      "[redun] Run    Job 86af541e:  redun_notebook.add(a=32, b=33) on default\n",
      "[redun] Run    Job 7fe7f7d5:  redun_notebook.add(a=35, b=36) on default\n",
      "[redun] Run    Job 6fa4ea0f:  redun_notebook.add(a=38, b=39) on default\n",
      "[redun] Run    Job 9066df04:  redun_notebook.add(a=41, b=42) on default\n",
      "[redun] Run    Job 24ea8a2f:  redun_notebook.add(a=44, b=45) on default\n",
      "[redun] Run    Job 5f257382:  redun_notebook.add(a=46, b=47) on default\n",
      "[redun] Run    Job e52954a4:  redun_notebook.add(a=48, b=49) on default\n",
      "[redun] Run    Job 075c7a61:  redun_notebook.add(a=51, b=52) on default\n",
      "[redun] Run    Job 5002739f:  redun_notebook.add(a=54, b=55) on default\n",
      "[redun] Run    Job 73b244d0:  redun_notebook.add(a=57, b=58) on default\n",
      "[redun] Run    Job d11eb99d:  redun_notebook.add(a=60, b=61) on default\n",
      "[redun] Run    Job 74380bf5:  redun_notebook.add(a=63, b=64) on default\n",
      "[redun] Run    Job 2dc789cd:  redun_notebook.add(a=66, b=67) on default\n",
      "[redun] Run    Job 13439e37:  redun_notebook.add(a=69, b=70) on default\n",
      "[redun] Run    Job 6c3c307d:  redun_notebook.add(a=71, b=72) on default\n",
      "[redun] Run    Job 63c1809f:  redun_notebook.add(a=73, b=74) on default\n",
      "[redun] Run    Job f5a95f3e:  redun_notebook.add(a=76, b=77) on default\n",
      "[redun] Run    Job d5cf579d:  redun_notebook.add(a=79, b=80) on default\n",
      "[redun] Run    Job f8f6cc91:  redun_notebook.add(a=82, b=83) on default\n",
      "[redun] Run    Job 5217cf75:  redun_notebook.add(a=85, b=86) on default\n",
      "[redun] Run    Job 94af2a76:  redun_notebook.add(a=88, b=89) on default\n",
      "[redun] Run    Job c6a45f5e:  redun_notebook.add(a=91, b=92) on default\n",
      "[redun] Run    Job ddfb0a77:  redun_notebook.add(a=94, b=95) on default\n",
      "[redun] Run    Job e02182de:  redun_notebook.add(a=96, b=97) on default\n",
      "[redun] Run    Job 4b580e3b:  redun_notebook.add(a=98, b=99) on default\n"
     ]
    },
    {
     "name": "stdout",
     "output_type": "stream",
     "text": [
      "start add(4, 5)\n",
      "start add(10, 11)\n",
      "start add(13, 14)\n",
      "start add(16, 17)\n",
      "start add(19, 20)\n",
      "start add(21, 22)\n",
      "start add(23, 24)\n",
      "start add(26, 27)\n",
      "start add(29, 30)\n",
      "start add(32, 33)\n",
      "start add(35, 36)\n",
      "start add(38, 39)\n",
      "start add(41, 42)\n",
      "start add(44, 45)\n",
      "start add(46, 47)\n",
      "start add(48, 49)\n",
      "start add(51, 52)\n",
      "start add(54, 55)\n",
      "start add(57, 58)\n",
      "start add(60, 61)\n"
     ]
    },
    {
     "name": "stderr",
     "output_type": "stream",
     "text": [
      "[redun] Run    Job 3a5ea20e:  redun_notebook.add(a=0, b=3) on default\n",
      "[redun] Run    Job 5802aa1f:  redun_notebook.add(a=6, b=15) on default\n",
      "[redun] Run    Job cbda6d5e:  redun_notebook.add(a=3, b=9) on default\n"
     ]
    },
    {
     "name": "stdout",
     "output_type": "stream",
     "text": [
      "stop  add(4, 5)\n",
      "start add(63, 64)\n",
      "stop  add(10, 11)stop  add(13, 14)stop  add(16, 17)stop  add(19, 20)\n",
      "\n",
      "start add(66, 67)\n",
      "\n",
      "start add(69, 70)\n",
      "\n",
      "start add(71, 72)\n",
      "start add(73, 74)\n",
      "stop  add(21, 22)\n",
      "start add(76, 77)\n",
      "stop  add(23, 24)stop  add(26, 27)\n",
      "start add(79, 80)\n",
      "\n",
      "start add(82, 83)\n",
      "stop  add(29, 30)\n",
      "start add(85, 86)\n",
      "stop  add(32, 33)\n",
      "start add(88, 89)\n",
      "stop  add(38, 39)stop  add(35, 36)\n",
      "start add(91, 92)\n",
      "\n",
      "stop  add(41, 42)start add(94, 95)\n",
      "\n",
      "start add(96, 97)\n",
      "stop  add(44, 45)\n",
      "start add(98, 99)\n",
      "stop  add(46, 47)\n",
      "start add(0, 3)\n",
      "stop  add(48, 49)stop  add(51, 52)\n",
      "start add(6, 15)\n",
      "\n",
      "start add(3, 9)\n",
      "stop  add(54, 55)\n",
      "stop  add(57, 58)\n",
      "stop  add(60, 61)\n"
     ]
    },
    {
     "name": "stderr",
     "output_type": "stream",
     "text": [
      "[redun] Run    Job 45e60b37:  redun_notebook.add(a=9, b=21) on default\n",
      "[redun] Run    Job 6963fb11:  redun_notebook.add(a=18, b=39) on default\n",
      "[redun] Run    Job 653ed124:  redun_notebook.add(a=15, b=33) on default\n",
      "[redun] Run    Job 5fa69966:  redun_notebook.add(a=12, b=27) on default\n"
     ]
    },
    {
     "name": "stdout",
     "output_type": "stream",
     "text": [
      "start add(9, 21)\n",
      "start add(18, 39)\n",
      "start add(15, 33)\n"
     ]
    },
    {
     "name": "stderr",
     "output_type": "stream",
     "text": [
      "[redun] Run    Job 14c4488c:  redun_notebook.add(a=43, b=47) on default\n",
      "[redun] Run    Job 302ec9b6:  redun_notebook.add(a=25, b=53) on default\n",
      "[redun] Run    Job f367e4ca:  redun_notebook.add(a=28, b=59) on default\n",
      "[redun] Run    Job 9b944133:  redun_notebook.add(a=31, b=65) on default\n",
      "[redun] Run    Job 9cf790a7:  redun_notebook.add(a=34, b=71) on default\n",
      "[redun] Run    Job 927aa1e8:  redun_notebook.add(a=37, b=77) on default\n",
      "[redun] Run    Job 75366958:  redun_notebook.add(a=40, b=83) on default\n",
      "[redun] Run    Job 24ae7de4:  redun_notebook.add(a=43, b=89) on default\n",
      "[redun] Run    Job a4ee8373:  redun_notebook.add(a=93, b=97) on default\n",
      "[redun] Run    Job a702b597:  redun_notebook.add(a=50, b=103) on default\n",
      "[redun] Run    Job b0955b82:  redun_notebook.add(a=53, b=109) on default\n",
      "[redun] Run    Job b30e00a5:  redun_notebook.add(a=56, b=115) on default\n",
      "[redun] Run    Job 4dfb32da:  redun_notebook.add(a=59, b=121) on default\n",
      "[redun] Run    Job 4a7152db:  redun_notebook.add(a=62, b=127) on default\n"
     ]
    },
    {
     "name": "stdout",
     "output_type": "stream",
     "text": [
      "stop  add(63, 64)\n",
      "start add(12, 27)\n",
      "stop  add(71, 72)stop  add(66, 67)stop  add(69, 70)\n",
      "start add(43, 47)\n",
      "stop  add(73, 74)\n",
      "start add(25, 53)\n",
      "\n",
      "start add(28, 59)\n",
      "\n",
      "start add(31, 65)\n",
      "stop  add(76, 77)\n",
      "start add(34, 71)\n",
      "stop  add(79, 80)stop  add(82, 83)\n",
      "start add(37, 77)\n",
      "\n",
      "start add(40, 83)\n",
      "stop  add(85, 86)\n",
      "start add(43, 89)\n",
      "stop  add(88, 89)\n",
      "start add(93, 97)\n",
      "stop  add(94, 95)stop  add(91, 92)\n",
      "start add(50, 103)\n",
      "\n",
      "start add(53, 109)\n",
      "stop  add(98, 99)stop  add(96, 97)\n",
      "start add(56, 115)\n",
      "\n",
      "stop  add(0, 3)start add(59, 121)\n",
      "start add(62, 127)\n",
      "\n",
      "stop  add(6, 15)stop  add(3, 9)\n",
      "\n"
     ]
    },
    {
     "name": "stderr",
     "output_type": "stream",
     "text": [
      "[redun] Run    Job e1330a18:  redun_notebook.add(a=68, b=139) on default\n",
      "[redun] Run    Job fc98553b:  redun_notebook.add(a=65, b=133) on default\n",
      "[redun] Run    Job ad4172b9:  redun_notebook.add(a=143, b=147) on default\n",
      "[redun] Run    Job 7586ca0b:  redun_notebook.add(a=75, b=153) on default\n"
     ]
    },
    {
     "name": "stdout",
     "output_type": "stream",
     "text": [
      "stop  add(9, 21)\n",
      "start add(68, 139)\n",
      "stop  add(18, 39)\n",
      "start add(65, 133)\n",
      "stop  add(15, 33)start add(143, 147)\n",
      "\n",
      "start add(75, 153)\n"
     ]
    },
    {
     "name": "stderr",
     "output_type": "stream",
     "text": [
      "[redun] Run    Job 32dbae56:  redun_notebook.add(a=78, b=159) on default\n",
      "[redun] Run    Job 4eb99f88:  redun_notebook.add(a=81, b=165) on default\n",
      "[redun] Run    Job 4b5965c9:  redun_notebook.add(a=84, b=171) on default\n",
      "[redun] Run    Job a05025fb:  redun_notebook.add(a=87, b=177) on default\n",
      "[redun] Run    Job 5125b093:  redun_notebook.add(a=90, b=183) on default\n",
      "[redun] Run    Job 4b1caac0:  redun_notebook.add(a=93, b=189) on default\n",
      "[redun] Run    Job 27c99aad:  redun_notebook.add(a=193, b=197) on default\n",
      "[redun] Run    Job 5c6c4eac:  redun_notebook.add(a=3, b=12) on default\n",
      "[redun] Run    Job ccb3a043:  redun_notebook.add(a=21, b=30) on default\n"
     ]
    },
    {
     "name": "stdout",
     "output_type": "stream",
     "text": [
      "start add(78, 159)\n"
     ]
    },
    {
     "name": "stderr",
     "output_type": "stream",
     "text": [
      "[redun] Run    Job 034e8cfe:  redun_notebook.add(a=39, b=48) on default\n"
     ]
    },
    {
     "name": "stdout",
     "output_type": "stream",
     "text": [
      "stop  add(12, 27)\n",
      "start add(81, 165)\n",
      "stop  add(43, 47)stop  add(25, 53)\n",
      "start add(84, 171)\n",
      "stop  add(28, 59)\n",
      "\n",
      "start add(87, 177)\n",
      "start add(90, 183)\n",
      "stop  add(31, 65)\n",
      "start add(93, 189)\n",
      "stop  add(34, 71)\n",
      "start add(193, 197)\n",
      "stop  add(40, 83)stop  add(43, 89)stop  add(37, 77)\n",
      "\n",
      "start add(3, 12)\n",
      "\n",
      "start add(21, 30)\n",
      "start add(39, 48)stop  add(93, 97)\n",
      "\n",
      "stop  add(53, 109)stop  add(50, 103)\n",
      "\n",
      "stop  add(56, 115)\n",
      "stop  add(59, 121)stop  add(62, 127)\n",
      "\n"
     ]
    },
    {
     "name": "stderr",
     "output_type": "stream",
     "text": [
      "[redun] Run    Job 7c74262d:  redun_notebook.add(a=57, b=90) on default\n",
      "[redun] Run    Job fc691500:  redun_notebook.add(a=78, b=87) on default\n",
      "[redun] Run    Job e3b2c5de:  redun_notebook.add(a=96, b=105) on default\n",
      "[redun] Run    Job f2fb578a:  redun_notebook.add(a=114, b=123) on default\n",
      "[redun] Run    Job 0a2a50ee:  redun_notebook.add(a=132, b=190) on default\n"
     ]
    },
    {
     "name": "stdout",
     "output_type": "stream",
     "text": [
      "start add(57, 90)\n",
      "stop  add(68, 139)\n",
      "stop  add(65, 133)\n",
      "start add(78, 87)\n",
      "stop  add(143, 147)\n",
      "start add(96, 105)\n",
      "stop  add(75, 153)\n",
      "start add(114, 123)\n"
     ]
    },
    {
     "name": "stderr",
     "output_type": "stream",
     "text": [
      "[redun] Run    Job 236a0e50:  redun_notebook.add(a=153, b=162) on default\n",
      "[redun] Run    Job a057a1c1:  redun_notebook.add(a=171, b=180) on default\n",
      "[redun] Run    Job fb0421a8:  redun_notebook.add(a=189, b=198) on default\n",
      "[redun] Run    Job 4a2939eb:  redun_notebook.add(a=207, b=290) on default\n",
      "[redun] Run    Job d0a29ba2:  redun_notebook.add(a=228, b=237) on default\n"
     ]
    },
    {
     "name": "stdout",
     "output_type": "stream",
     "text": [
      "start add(132, 190)\n",
      "start add(153, 162)\n",
      "stop  add(78, 159)\n",
      "start add(171, 180)\n",
      "start add(189, 198)\n",
      "start add(207, 290)\n",
      "start add(228, 237)\n",
      "stop  add(81, 165)\n",
      "stop  add(90, 183)stop  add(93, 189)stop  add(87, 177)stop  add(84, 171)\n",
      "\n",
      "\n",
      "\n",
      "stop  add(193, 197)\n",
      "stop  add(3, 12)stop  add(21, 30)\n",
      "\n",
      "stop  add(39, 48)\n"
     ]
    },
    {
     "name": "stderr",
     "output_type": "stream",
     "text": [
      "[redun] Run    Job 3ff781b9:  redun_notebook.add(a=246, b=255) on default\n",
      "[redun] Run    Job 97daba96:  redun_notebook.add(a=264, b=273) on default\n",
      "[redun] Run    Job 7ce5bbae:  redun_notebook.add(a=282, b=390) on default\n",
      "[redun] Run    Job 6cb02463:  redun_notebook.add(a=15, b=51) on default\n",
      "[redun] Run    Job 5abb2866:  redun_notebook.add(a=87, b=147) on default\n"
     ]
    },
    {
     "name": "stdout",
     "output_type": "stream",
     "text": [
      "start add(246, 255)\n",
      "start add(264, 273)\n",
      "start add(282, 390)\n",
      "start add(15, 51)\n",
      "stop  add(57, 90)\n",
      "start add(87, 147)\n",
      "stop  add(78, 87)\n",
      "stop  add(96, 105)\n"
     ]
    },
    {
     "name": "stderr",
     "output_type": "stream",
     "text": [
      "[redun] Run    Job 04836183:  redun_notebook.add(a=165, b=201) on default\n",
      "[redun] Run    Job 9ff3573b:  redun_notebook.add(a=237, b=322) on default\n",
      "[redun] Run    Job 40fd35a3:  redun_notebook.add(a=315, b=351) on default\n"
     ]
    },
    {
     "name": "stdout",
     "output_type": "stream",
     "text": [
      "start add(165, 201)\n",
      "stop  add(114, 123)\n",
      "stop  add(132, 190)\n",
      "stop  add(153, 162)\n",
      "stop  add(171, 180)\n",
      "start add(237, 322)\n",
      "start add(315, 351)\n",
      "stop  add(189, 198)\n",
      "stop  add(207, 290)\n"
     ]
    },
    {
     "name": "stderr",
     "output_type": "stream",
     "text": [
      "[redun] Run    Job 270da5a1:  redun_notebook.add(a=387, b=497) on default\n"
     ]
    },
    {
     "name": "stdout",
     "output_type": "stream",
     "text": [
      "stop  add(228, 237)\n",
      "start add(387, 497)\n"
     ]
    },
    {
     "name": "stderr",
     "output_type": "stream",
     "text": [
      "[redun] Run    Job 793ebcf8:  redun_notebook.add(a=465, b=501) on default\n",
      "[redun] Run    Job 463c1c74:  redun_notebook.add(a=537, b=672) on default\n",
      "[redun] Run    Job eea5aeb1:  redun_notebook.add(a=66, b=234) on default\n"
     ]
    },
    {
     "name": "stdout",
     "output_type": "stream",
     "text": [
      "stop  add(246, 255)\n",
      "stop  add(264, 273)\n",
      "stop  add(282, 390)\n",
      "stop  add(15, 51)\n",
      "stop  add(87, 147)\n",
      "start add(465, 501)\n",
      "start add(537, 672)\n",
      "start add(66, 234)\n"
     ]
    },
    {
     "name": "stderr",
     "output_type": "stream",
     "text": [
      "[redun] Run    Job 28bf5977:  redun_notebook.add(a=366, b=559) on default\n"
     ]
    },
    {
     "name": "stdout",
     "output_type": "stream",
     "text": [
      "stop  add(165, 201)\n",
      "stop  add(237, 322)\n",
      "stop  add(315, 351)\n",
      "start add(366, 559)\n"
     ]
    },
    {
     "name": "stderr",
     "output_type": "stream",
     "text": [
      "[redun] Run    Job 2c92613f:  redun_notebook.add(a=666, b=884) on default\n"
     ]
    },
    {
     "name": "stdout",
     "output_type": "stream",
     "text": [
      "stop  add(387, 497)\n",
      "start add(666, 884)\n"
     ]
    },
    {
     "name": "stderr",
     "output_type": "stream",
     "text": [
      "[redun] Run    Job 9159c9fb:  redun_notebook.add(a=966, b=1209) on default\n"
     ]
    },
    {
     "name": "stdout",
     "output_type": "stream",
     "text": [
      "stop  add(465, 501)\n",
      "stop  add(537, 672)\n",
      "stop  add(66, 234)\n",
      "start add(966, 1209)\n"
     ]
    },
    {
     "name": "stderr",
     "output_type": "stream",
     "text": [
      "[redun] Run    Job af9ce971:  redun_notebook.add(a=300, b=925) on default\n"
     ]
    },
    {
     "name": "stdout",
     "output_type": "stream",
     "text": [
      "stop  add(366, 559)\n",
      "start add(300, 925)\n",
      "stop  add(666, 884)\n"
     ]
    },
    {
     "name": "stderr",
     "output_type": "stream",
     "text": [
      "[redun] Run    Job 0825f01d:  redun_notebook.add(a=1550, b=2175) on default\n"
     ]
    },
    {
     "name": "stdout",
     "output_type": "stream",
     "text": [
      "stop  add(966, 1209)\n",
      "start add(1550, 2175)\n",
      "stop  add(300, 925)\n"
     ]
    },
    {
     "name": "stderr",
     "output_type": "stream",
     "text": [
      "[redun] Run    Job fc86dc1b:  redun_notebook.add(a=1225, b=3725) on default\n"
     ]
    },
    {
     "name": "stdout",
     "output_type": "stream",
     "text": [
      "stop  add(1550, 2175)\n",
      "start add(1225, 3725)\n"
     ]
    },
    {
     "name": "stderr",
     "output_type": "stream",
     "text": [
      "[redun] \n",
      "[redun] | JOB STATUS 2021/06/19 19:32:02\n",
      "[redun] | TASK                    PENDING RUNNING  FAILED  CACHED    DONE   TOTAL\n",
      "[redun] | \n",
      "[redun] | ALL                           0       0       0       2     296     298\n",
      "[redun] | redun_notebook.add            0       0       0       2      97      99\n",
      "[redun] | redun_notebook.add_many       0       0       0       0     199     199\n",
      "[redun] \n"
     ]
    },
    {
     "name": "stdout",
     "output_type": "stream",
     "text": [
      "stop  add(1225, 3725)\n"
     ]
    },
    {
     "data": {
      "text/plain": [
       "4950"
      ]
     },
     "execution_count": 108,
     "metadata": {},
     "output_type": "execute_result"
    }
   ],
   "source": [
    "# As this expression is evaluated imagine how the expression tree is expanding and contracting.\n",
    "scheduler.run(add_many(list(range(100))))"
   ]
  },
  {
   "cell_type": "code",
   "execution_count": 109,
   "metadata": {},
   "outputs": [],
   "source": [
    "# Let's suppress the scheduler's logging output.\n",
    "\n",
    "import logging\n",
    "scheduler.logger.setLevel(logging.ERROR)"
   ]
  },
  {
   "cell_type": "code",
   "execution_count": 110,
   "metadata": {},
   "outputs": [
    {
     "name": "stdout",
     "output_type": "stream",
     "text": [
      "start add(0, 1)\n",
      "start add(1, 1)\n",
      "start add(2, 1)\n",
      "start add(3, 1)\n",
      "start add(4, 1)\n",
      "start add(5, 1)\n",
      "start add(6, 1)\n",
      "start add(7, 1)\n",
      "start add(8, 1)\n",
      "start add(9, 1)\n",
      "stop  add(0, 1)\n",
      "stop  add(1, 1)\n",
      "stop  add(2, 1)\n",
      "stop  add(3, 1)stop  add(4, 1)\n",
      "\n",
      "stop  add(6, 1)stop  add(5, 1)stop  add(7, 1)\n",
      "\n",
      "\n",
      "stop  add(8, 1)\n",
      "stop  add(9, 1)\n",
      "start add(6, 7)\n",
      "start add(9, 10)\n",
      "stop  add(6, 7)\n",
      "stop  add(9, 10)\n",
      "start add(8, 19)\n",
      "stop  add(8, 19)\n",
      "start add(13, 27)\n",
      "stop  add(13, 27)\n",
      "start add(15, 40)\n",
      "stop  add(15, 40)\n"
     ]
    },
    {
     "data": {
      "text/plain": [
       "55"
      ]
     },
     "execution_count": 110,
     "metadata": {},
     "output_type": "execute_result"
    }
   ],
   "source": [
    "# Let's try a scatter-gather pipeline.\n",
    "\n",
    "# Scatter (aka map).\n",
    "init_values = list(range(10))\n",
    "values = [add(i, 1) for i in init_values]\n",
    "\n",
    "# Gather (aka reduce).\n",
    "total = add_many(values)\n",
    "scheduler.run(total)"
   ]
  },
  {
   "cell_type": "code",
   "execution_count": 111,
   "metadata": {
    "scrolled": true
   },
   "outputs": [
    {
     "data": {
      "text/plain": [
       "[TaskExpression('redun_notebook.add', (0, 1), {}),\n",
       " TaskExpression('redun_notebook.add', (1, 1), {}),\n",
       " TaskExpression('redun_notebook.add', (2, 1), {}),\n",
       " TaskExpression('redun_notebook.add', (3, 1), {}),\n",
       " TaskExpression('redun_notebook.add', (4, 1), {}),\n",
       " TaskExpression('redun_notebook.add', (5, 1), {}),\n",
       " TaskExpression('redun_notebook.add', (6, 1), {}),\n",
       " TaskExpression('redun_notebook.add', (7, 1), {}),\n",
       " TaskExpression('redun_notebook.add', (8, 1), {}),\n",
       " TaskExpression('redun_notebook.add', (9, 1), {})]"
      ]
     },
     "execution_count": 111,
     "metadata": {},
     "output_type": "execute_result"
    }
   ],
   "source": [
    "# Notice `values` was actually a list of Expressions.\n",
    "values"
   ]
  },
  {
   "cell_type": "markdown",
   "metadata": {},
   "source": [
    "redun's primary evaluation rule is:\n",
    "\n",
    "```py\n",
    "eval(TaskExpression(func, arg1, arg2, ...)) => eval(func(eval(arg1), eval(arg2), ...))\n",
    "```\n",
    "\n",
    "In addition, the redun scheduler recurses into \"nested values\", looking for expressions to evaluate.\n",
    "That is achieved using additional evaluation rules:\n",
    "\n",
    "```py\n",
    "# Evaluate list\n",
    "eval([x for x in xs]) => [eval(x) for x in xs]\n",
    "\n",
    "# Evaluate dict\n",
    "eval({k: v for k, v in dct.items()}) => {eval(k): eval(v) for k, v in dct.items()}\n",
    "\n",
    "# Evaluate set\n",
    "eval({x for x in xs}) => {eval(x) for x in xs}\n",
    "\n",
    "# Evaluate tuple\n",
    "eval(tuple(x for x in xs)) => tuple(eval(x) for x in xs)\n",
    "\n",
    "# Evaluate namedtuple\n",
    "eval(MyNamedTuple(x for x in xs)) => MyNamedTuple(eval(x) for x in xs)\n",
    "```"
   ]
  },
  {
   "cell_type": "code",
   "execution_count": 112,
   "metadata": {},
   "outputs": [],
   "source": [
    "# Let's tryout some of these evaluation rules."
   ]
  },
  {
   "cell_type": "code",
   "execution_count": 113,
   "metadata": {},
   "outputs": [
    {
     "name": "stdout",
     "output_type": "stream",
     "text": [
      "{'first': TaskExpression('redun_notebook.add', (1, 2), {}), 'second': TaskExpression('redun_notebook.add', (3, 4), {})}\n"
     ]
    },
    {
     "data": {
      "text/plain": [
       "{'first': 3, 'second': 7}"
      ]
     },
     "execution_count": 113,
     "metadata": {},
     "output_type": "execute_result"
    }
   ],
   "source": [
    "expr = {\"first\": add(1, 2), \"second\": add(3, 4)}\n",
    "print(expr)\n",
    "scheduler.run(expr)"
   ]
  },
  {
   "cell_type": "code",
   "execution_count": 114,
   "metadata": {},
   "outputs": [
    {
     "name": "stdout",
     "output_type": "stream",
     "text": [
      "[{'id': 1, 'price': TaskExpression('redun_notebook.add', (1, 2), {})}, {'id': 2, 'price': TaskExpression('redun_notebook.add', (3, 4), {})}]\n"
     ]
    },
    {
     "data": {
      "text/plain": [
       "[{'id': 1, 'price': 3}, {'id': 2, 'price': 7}]"
      ]
     },
     "execution_count": 114,
     "metadata": {},
     "output_type": "execute_result"
    }
   ],
   "source": [
    "expr = [\n",
    "    {\n",
    "        \"id\": 1,\n",
    "        \"price\": add(1, 2),\n",
    "    },\n",
    "    {\n",
    "        \"id\": 2,\n",
    "        \"price\": add(3, 4),\n",
    "    }\n",
    "]\n",
    "print(expr)\n",
    "scheduler.run(expr)"
   ]
  },
  {
   "cell_type": "code",
   "execution_count": 115,
   "metadata": {},
   "outputs": [
    {
     "name": "stdout",
     "output_type": "stream",
     "text": [
      "[0, TaskExpression('redun_notebook.add', (0, 0), {}), TaskExpression('redun_notebook.add', (TaskExpression('redun_notebook.add', (0, 0), {}), 1), {}), TaskExpression('redun_notebook.add', (TaskExpression('redun_notebook.add', (TaskExpression('redun_notebook.add', (0, 0), {}), 1), {}), 2), {}), TaskExpression('redun_notebook.add', (TaskExpression('redun_notebook.add', (TaskExpression('redun_notebook.add', (TaskExpression('redun_notebook.add', (0, 0), {}), 1), {}), 2), {}), 3), {}), TaskExpression('redun_notebook.add', (TaskExpression('redun_notebook.add', (TaskExpression('redun_notebook.add', (TaskExpression('redun_notebook.add', (TaskExpression('redun_notebook.add', (0, 0), {}), 1), {}), 2), {}), 3), {}), 4), {}), TaskExpression('redun_notebook.add', (TaskExpression('redun_notebook.add', (TaskExpression('redun_notebook.add', (TaskExpression('redun_notebook.add', (TaskExpression('redun_notebook.add', (TaskExpression('redun_notebook.add', (0, 0), {}), 1), {}), 2), {}), 3), {}), 4), {}), 5), {}), TaskExpression('redun_notebook.add', (TaskExpression('redun_notebook.add', (TaskExpression('redun_notebook.add', (TaskExpression('redun_notebook.add', (TaskExpression('redun_notebook.add', (TaskExpression('redun_notebook.add', (TaskExpression('redun_notebook.add', (0, 0), {}), 1), {}), 2), {}), 3), {}), 4), {}), 5), {}), 6), {}), TaskExpression('redun_notebook.add', (TaskExpression('redun_notebook.add', (TaskExpression('redun_notebook.add', (TaskExpression('redun_notebook.add', (TaskExpression('redun_notebook.add', (TaskExpression('redun_notebook.add', (TaskExpression('redun_notebook.add', (TaskExpression('redun_notebook.add', (0, 0), {}), 1), {}), 2), {}), 3), {}), 4), {}), 5), {}), 6), {}), 7), {}), TaskExpression('redun_notebook.add', (TaskExpression('redun_notebook.add', (TaskExpression('redun_notebook.add', (TaskExpression('redun_notebook.add', (TaskExpression('redun_notebook.add', (TaskExpression('redun_notebook.add', (TaskExpression('redun_notebook.add', (TaskExpression('redun_notebook.add', (TaskExpression('redun_notebook.add', (0, 0), {}), 1), {}), 2), {}), 3), {}), 4), {}), 5), {}), 6), {}), 7), {}), 8), {}), TaskExpression('redun_notebook.add', (TaskExpression('redun_notebook.add', (TaskExpression('redun_notebook.add', (TaskExpression('redun_notebook.add', (TaskExpression('redun_notebook.add', (TaskExpression('redun_notebook.add', (TaskExpression('redun_notebook.add', (TaskExpression('redun_notebook.add', (TaskExpression('redun_notebook.add', (TaskExpression('redun_notebook.add', (0, 0), {}), 1), {}), 2), {}), 3), {}), 4), {}), 5), {}), 6), {}), 7), {}), 8), {}), 9), {})]\n",
      "start add(0, 0)\n",
      "stop  add(0, 0)\n",
      "start add(3, 3)\n",
      "stop  add(3, 3)\n",
      "start add(6, 4)\n",
      "stop  add(6, 4)\n",
      "start add(10, 5)\n",
      "stop  add(10, 5)\n",
      "start add(15, 6)\n",
      "stop  add(15, 6)\n",
      "start add(21, 7)\n",
      "stop  add(21, 7)\n",
      "start add(28, 8)\n",
      "stop  add(28, 8)\n",
      "start add(36, 9)\n",
      "stop  add(36, 9)\n"
     ]
    },
    {
     "data": {
      "text/plain": [
       "[0, 0, 1, 3, 6, 10, 15, 21, 28, 36, 45]"
      ]
     },
     "execution_count": 115,
     "metadata": {},
     "output_type": "execute_result"
    }
   ],
   "source": [
    "# Elements of a list do not need to be independent.\n",
    "# For example, here we are doing a cumulative summation where each entry depends on the previous.\n",
    "\n",
    "values = list(range(10))\n",
    "cumsum = [0]\n",
    "for value in values:\n",
    "    cumsum.append(add(cumsum[-1], value))\n",
    "\n",
    "print(cumsum)\n",
    "scheduler.run(cumsum)"
   ]
  },
  {
   "cell_type": "code",
   "execution_count": 116,
   "metadata": {},
   "outputs": [],
   "source": [
    "# Let's implement a task with two outputs. Just use a container type, such as dict, list, namedtuple, etc.\n",
    "# redun has no need for special syntax for multiple outputs.\n",
    "\n",
    "@task()\n",
    "def intdiv(numerator, denominator):\n",
    "    quotient, remainder = divmod(numerator, denominator)\n",
    "    return {\n",
    "        \"quotient\": quotient,\n",
    "        \"remainder\": remainder,\n",
    "    }"
   ]
  },
  {
   "cell_type": "code",
   "execution_count": 117,
   "metadata": {},
   "outputs": [
    {
     "data": {
      "text/plain": [
       "SimpleExpression('getitem', (TaskExpression('redun_notebook.intdiv', (12, 5), {}), 'quotient'), {})"
      ]
     },
     "execution_count": 117,
     "metadata": {},
     "output_type": "execute_result"
    }
   ],
   "source": [
    "# Key and attribute access can be done lazily.\n",
    "# This allows us to route just some of the output to another task.\n",
    "intdiv(12, 5)[\"quotient\"]"
   ]
  },
  {
   "cell_type": "code",
   "execution_count": 118,
   "metadata": {},
   "outputs": [
    {
     "name": "stdout",
     "output_type": "stream",
     "text": [
      "start add(2, 2)\n",
      "stop  add(2, 2)\n"
     ]
    },
    {
     "data": {
      "text/plain": [
       "7"
      ]
     },
     "execution_count": 118,
     "metadata": {},
     "output_type": "execute_result"
    }
   ],
   "source": [
    "# Here we route the two outputs to different downstream computations.\n",
    "result = intdiv(12, 5)\n",
    "x = add(result[\"quotient\"], 1)\n",
    "y = add(result[\"remainder\"], 2)\n",
    "scheduler.run(add(x, y))"
   ]
  },
  {
   "cell_type": "code",
   "execution_count": 119,
   "metadata": {},
   "outputs": [
    {
     "data": {
      "text/plain": [
       "SimpleExpression('getattr', (SimpleExpression('call', (SimpleExpression('getattr', (TaskExpression('redun_notebook.returns_alot', (), {}), 'get_friend'), {}), (), {}), {}), 'name'), {})"
      ]
     },
     "execution_count": 119,
     "metadata": {},
     "output_type": "execute_result"
    }
   ],
   "source": [
    "class User:\n",
    "    def __init__(self, name, friend=None):\n",
    "        self.name = name\n",
    "        self.friend = friend\n",
    "    \n",
    "    def get_friend(self):\n",
    "        return self.friend\n",
    "\n",
    "@task()\n",
    "def returns_alot():\n",
    "    return User(\"Alice\", friend=User(\"Bob\"))\n",
    "\n",
    "# Many operations can be chained lazily. For example, attribute access and function calls.\n",
    "expr = returns_alot().get_friend().name\n",
    "expr"
   ]
  },
  {
   "cell_type": "code",
   "execution_count": 120,
   "metadata": {},
   "outputs": [
    {
     "data": {
      "text/plain": [
       "'Bob'"
      ]
     },
     "execution_count": 120,
     "metadata": {},
     "output_type": "execute_result"
    }
   ],
   "source": [
    "scheduler.run(expr)"
   ]
  },
  {
   "cell_type": "code",
   "execution_count": 121,
   "metadata": {},
   "outputs": [
    {
     "name": "stdout",
     "output_type": "stream",
     "text": [
      "SimpleExpression('mul', (SimpleExpression('add', (TaskExpression('redun_notebook.add', (1, 2), {}), 1), {}), TaskExpression('redun_notebook.add', (1, 1), {})), {})\n"
     ]
    },
    {
     "data": {
      "text/plain": [
       "8"
      ]
     },
     "execution_count": 121,
     "metadata": {},
     "output_type": "execute_result"
    }
   ],
   "source": [
    "# Most operators can be used lazily.\n",
    "expr = (add(1, 2) + 1) * add(1, 1)\n",
    "print(expr)\n",
    "scheduler.run(expr)"
   ]
  },
  {
   "cell_type": "code",
   "execution_count": 122,
   "metadata": {},
   "outputs": [],
   "source": [
    "# Tasks are first-class values and can be used as arguments and return values.\n",
    "# Let's create a higher-order task that performs divide and conquer generically.\n",
    "\n",
    "@task()\n",
    "def divide_and_conquer(a_task, values, init=0):\n",
    "    if len(values) == 0:\n",
    "        return init\n",
    "    elif len(values) == 1:\n",
    "        return values[0]\n",
    "    else:\n",
    "        k = len(values) // 2\n",
    "        sum1 = divide_and_conquer(a_task, values[:k])\n",
    "        sum2 = divide_and_conquer(a_task, values[k:])\n",
    "        return a_task(sum1, sum2)"
   ]
  },
  {
   "cell_type": "code",
   "execution_count": 123,
   "metadata": {},
   "outputs": [
    {
     "name": "stdout",
     "output_type": "stream",
     "text": [
      "start add(8, 9)\n",
      "start add(2, 7)\n",
      "stop  add(8, 9)\n",
      "stop  add(2, 7)\n",
      "start add(7, 17)\n",
      "start add(1, 9)\n",
      "stop  add(7, 17)\n",
      "stop  add(1, 9)\n",
      "start add(11, 24)\n",
      "stop  add(11, 24)\n",
      "start add(10, 35)\n",
      "stop  add(10, 35)\n"
     ]
    },
    {
     "data": {
      "text/plain": [
       "45"
      ]
     },
     "execution_count": 123,
     "metadata": {},
     "output_type": "execute_result"
    }
   ],
   "source": [
    "scheduler.run(divide_and_conquer(add, list(range(10))))"
   ]
  },
  {
   "cell_type": "code",
   "execution_count": 124,
   "metadata": {},
   "outputs": [],
   "source": [
    "# Now we can apply our divide and conquer to other \"reducer\" tasks."
   ]
  },
  {
   "cell_type": "code",
   "execution_count": 125,
   "metadata": {},
   "outputs": [],
   "source": [
    "@task()\n",
    "def mult(a, b):\n",
    "    return a * b"
   ]
  },
  {
   "cell_type": "code",
   "execution_count": 126,
   "metadata": {},
   "outputs": [
    {
     "data": {
      "text/plain": [
       "362880"
      ]
     },
     "execution_count": 126,
     "metadata": {},
     "output_type": "execute_result"
    }
   ],
   "source": [
    "scheduler.run(divide_and_conquer(mult, list(range(1, 10))))"
   ]
  },
  {
   "cell_type": "code",
   "execution_count": 127,
   "metadata": {},
   "outputs": [],
   "source": [
    "@task()\n",
    "def pair(a, b):\n",
    "    return (a, b)"
   ]
  },
  {
   "cell_type": "code",
   "execution_count": 128,
   "metadata": {},
   "outputs": [
    {
     "data": {
      "text/plain": [
       "(((0, 1), (2, (3, 4))), ((5, 6), (7, (8, 9))))"
      ]
     },
     "execution_count": 128,
     "metadata": {},
     "output_type": "execute_result"
    }
   ],
   "source": [
    "scheduler.run(divide_and_conquer(pair, list(range(10))))"
   ]
  },
  {
   "cell_type": "code",
   "execution_count": 129,
   "metadata": {},
   "outputs": [
    {
     "name": "stdout",
     "output_type": "stream",
     "text": [
      "PartialTask(fullname=redun_notebook.add, hash=6c7d07ac, args=(1,), kwargs={})\n",
      "TaskExpression('redun_notebook.add', (1, 10), {})\n",
      "start add(1, 10)\n",
      "stop  add(1, 10)\n"
     ]
    },
    {
     "data": {
      "text/plain": [
       "11"
      ]
     },
     "execution_count": 129,
     "metadata": {},
     "output_type": "execute_result"
    }
   ],
   "source": [
    "# Tasks also support partial application.\n",
    "inc = add.partial(1)\n",
    "print(inc)\n",
    "print(inc(10))\n",
    "scheduler.run(inc(10))"
   ]
  },
  {
   "cell_type": "code",
   "execution_count": 130,
   "metadata": {},
   "outputs": [],
   "source": [
    "# We can use task options to modify how tasks are run.\n",
    "# For example, we can turn off caching on a per task-basis.\n",
    "@task(cache=False)\n",
    "def double(x):\n",
    "    print(\"Doubling\", x)\n",
    "    return x * 2"
   ]
  },
  {
   "cell_type": "code",
   "execution_count": 131,
   "metadata": {},
   "outputs": [
    {
     "name": "stdout",
     "output_type": "stream",
     "text": [
      "Doubling 1\n",
      "2\n",
      "Doubling 1\n",
      "2\n"
     ]
    }
   ],
   "source": [
    "# Notice we see the \"Doubling\" print statement occurs twice, so caching is disabled.\n",
    "print(scheduler.run(double(1)))\n",
    "print(scheduler.run(double(1)))"
   ]
  },
  {
   "cell_type": "code",
   "execution_count": 132,
   "metadata": {},
   "outputs": [
    {
     "name": "stdout",
     "output_type": "stream",
     "text": [
      "2\n",
      "2\n"
     ]
    }
   ],
   "source": [
    "# We'll see in later examples, that when running tasks on a remote cluster, we can \n",
    "# specify options such as `memory`, `cpus`, and `gpus`.\n",
    "# We can also override task options at call time.\n",
    "# With caching, we won't see the \"Doubling\" print statements any more.\n",
    "print(scheduler.run(double.options(cache=True)(1)))\n",
    "print(scheduler.run(double.options(cache=True)(1)))"
   ]
  },
  {
   "cell_type": "code",
   "execution_count": 133,
   "metadata": {},
   "outputs": [],
   "source": [
    "# Try your own expressions!"
   ]
  },
  {
   "cell_type": "code",
   "execution_count": null,
   "metadata": {},
   "outputs": [],
   "source": []
  }
 ],
 "metadata": {
  "kernelspec": {
   "display_name": "Python 3",
   "language": "python",
   "name": "python3"
  },
  "language_info": {
   "codemirror_mode": {
    "name": "ipython",
    "version": 3
   },
   "file_extension": ".py",
   "mimetype": "text/x-python",
   "name": "python",
   "nbconvert_exporter": "python",
   "pygments_lexer": "ipython3",
   "version": "3.8.2"
  }
 },
 "nbformat": 4,
 "nbformat_minor": 4
}
