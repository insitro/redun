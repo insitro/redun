{
 "cells": [
  {
   "cell_type": "markdown",
   "metadata": {},
   "source": [
    "# redun's scheduler walk through\n",
    "\n",
    "In this notebook, we'll walk through how redun's scheduler implements workflow execution. Briefly, redun represents workflows as computional expressions that are iteratively evaluated by a scheduler using a technique called [graph reduction](https://en.wikipedia.org/wiki/Graph_reduction). This approach allows users to specify large computational workflows in a very natural and expressive style.\n",
    "\n",
    "If you haven't already please see the first two examples for an introduction to redun's basic features. Those examples executed workflows using the `redun` CLI (command-line interface), which is the most common way to execute a workflow. In this notebook, we will run workflows programmatically using the `Scheduler` class in order to inspect the execution process more closely. The redun CLI is just a thin wrapper around the `Scheduler`."
   ]
  },
  {
   "cell_type": "code",
   "execution_count": 1,
   "metadata": {},
   "outputs": [],
   "source": [
    "# Imports.\n",
    "import logging, time\n",
    "\n",
    "from redun import Scheduler, task"
   ]
  },
  {
   "cell_type": "code",
   "execution_count": 2,
   "metadata": {},
   "outputs": [
    {
     "name": "stderr",
     "output_type": "stream",
     "text": [
      "[redun] Upgrading db from version -1.0 to 3.1...\n"
     ]
    }
   ],
   "source": [
    "# Create a minimal Scheduler that uses in-memory cache.\n",
    "\n",
    "scheduler = Scheduler()\n",
    "scheduler.logger.setLevel(logging.INFO)"
   ]
  },
  {
   "cell_type": "code",
   "execution_count": 3,
   "metadata": {},
   "outputs": [],
   "source": [
    "# Create a simple redun task.\n",
    "\n",
    "# Tasks will automatically use the global variable `redun_namespace` as their namespace.\n",
    "redun_namespace = \"redun_notebook\"\n",
    "\n",
    "@task()\n",
    "def add(a, b):\n",
    "    return a + b"
   ]
  },
  {
   "cell_type": "code",
   "execution_count": 4,
   "metadata": {},
   "outputs": [
    {
     "data": {
      "text/plain": [
       "Task(fullname=redun_notebook.add, hash=496bc317)"
      ]
     },
     "execution_count": 4,
     "metadata": {},
     "output_type": "execute_result"
    }
   ],
   "source": [
    "# The `@task` decorator turns functions into Task objects.\n",
    "add"
   ]
  },
  {
   "cell_type": "code",
   "execution_count": 5,
   "metadata": {},
   "outputs": [
    {
     "name": "stdout",
     "output_type": "stream",
     "text": [
      "name add\n",
      "hash 496bc31711bb263aa03d3064f2c6939d8cccec42\n",
      "func <function add at 0x7ff1b0e3a310>\n",
      "def add(a, b):\n",
      "    return a + b\n",
      "\n"
     ]
    }
   ],
   "source": [
    "# Tasks have several properties, such as a name, a hash, their source code, and the original wrapped function.\n",
    "print(\"name\", add.name)\n",
    "print(\"hash\", add.hash)\n",
    "print(\"func\", add.func)\n",
    "print(add.source)"
   ]
  },
  {
   "cell_type": "code",
   "execution_count": 6,
   "metadata": {},
   "outputs": [
    {
     "data": {
      "text/plain": [
       "redun_notebook.add(1, 2)"
      ]
     },
     "execution_count": 6,
     "metadata": {},
     "output_type": "execute_result"
    }
   ],
   "source": [
    "# The key trick is that task calls are intercepted and return Expressions.\n",
    "add(1, 2)"
   ]
  },
  {
   "cell_type": "code",
   "execution_count": 7,
   "metadata": {},
   "outputs": [],
   "source": [
    "# The most common Expression is a TaskExpression. The following Expression,\n",
    "#   redun_notebook.add(1, 2)\n",
    "# represents calling the task 'redun_notebook.add' with positional arguments (1, 2)."
   ]
  },
  {
   "cell_type": "code",
   "execution_count": 8,
   "metadata": {},
   "outputs": [
    {
     "name": "stderr",
     "output_type": "stream",
     "text": [
      "[redun] Start Execution 7aed5426-cf0f-427f-9d63-116e227fb48a:  redun 'redun_notebook.add(1, 2)'\n",
      "[redun] Run    Job 7dd95924:  redun_notebook.add(a=1, b=2) on default\n",
      "[redun] \n",
      "[redun] | JOB STATUS 2022/09/22 04:57:11\n",
      "[redun] | TASK               PENDING RUNNING  FAILED  CACHED    DONE   TOTAL\n",
      "[redun] | \n",
      "[redun] | ALL                      0       0       0       0       1       1\n",
      "[redun] | redun_notebook.add       0       0       0       0       1       1\n",
      "[redun] \n",
      "[redun] \n",
      "[redun] Execution duration: 0.03 seconds\n"
     ]
    },
    {
     "data": {
      "text/plain": [
       "3"
      ]
     },
     "execution_count": 8,
     "metadata": {},
     "output_type": "execute_result"
    }
   ],
   "source": [
    "# To evaluate an expression, use scheduler.run():\n",
    "scheduler.run(add(1, 2))"
   ]
  },
  {
   "cell_type": "code",
   "execution_count": 9,
   "metadata": {},
   "outputs": [
    {
     "data": {
      "text/plain": [
       "redun_notebook.add(redun_notebook.add(1, 2), 3)"
      ]
     },
     "execution_count": 9,
     "metadata": {},
     "output_type": "execute_result"
    }
   ],
   "source": [
    "# Expressions can be combined into an expression tree/graph.\n",
    "add(add(1, 2), 3)"
   ]
  },
  {
   "cell_type": "code",
   "execution_count": 10,
   "metadata": {},
   "outputs": [
    {
     "name": "stderr",
     "output_type": "stream",
     "text": [
      "[redun] Start Execution a4b659bd-70c5-4554-b805-939448b89301:  redun 'redun.root_task(QuotedExpression(redun_notebook.add(redun_notebook.add(1, 2), 3)))'\n",
      "[redun] Run    Job 019dc9e4:  redun.root_task(expr=QuotedExpression(redun_notebook.add(redun_notebook.add(1, 2), 3))) on default\n",
      "[redun] Cached Job 6fd11ac6:  redun_notebook.add(a=1, b=2) (eval_hash=a162a83f)\n",
      "[redun] Run    Job 9034dca3:  redun_notebook.add(a=3, b=3) on default\n",
      "[redun] \n",
      "[redun] | JOB STATUS 2022/09/22 04:57:11\n",
      "[redun] | TASK               PENDING RUNNING  FAILED  CACHED    DONE   TOTAL\n",
      "[redun] | \n",
      "[redun] | ALL                      0       0       0       1       2       3\n",
      "[redun] | redun.root_task          0       0       0       0       1       1\n",
      "[redun] | redun_notebook.add       0       0       0       1       1       2\n",
      "[redun] \n",
      "[redun] \n",
      "[redun] Execution duration: 0.05 seconds\n"
     ]
    },
    {
     "data": {
      "text/plain": [
       "6"
      ]
     },
     "execution_count": 10,
     "metadata": {},
     "output_type": "execute_result"
    }
   ],
   "source": [
    "# We can evaluate a whole expression tree using the scheduler:\n",
    "scheduler.run(add(add(1, 2), 3))"
   ]
  },
  {
   "cell_type": "code",
   "execution_count": 11,
   "metadata": {},
   "outputs": [],
   "source": [
    "# We have defined a small workflow/pipeline using what others call \"invocation style\"."
   ]
  },
  {
   "cell_type": "code",
   "execution_count": 12,
   "metadata": {},
   "outputs": [],
   "source": [
    "# Let's redefine the add() task to be artificially slower, so we can more easily see tasks running in parallel.\n",
    "\n",
    "@task(version='1')\n",
    "def add(a, b):\n",
    "    print(f\"start add({a}, {b})\")\n",
    "    time.sleep(1)\n",
    "    print(f\"stop  add({a}, {b})\")\n",
    "    return a + b"
   ]
  },
  {
   "cell_type": "code",
   "execution_count": 13,
   "metadata": {},
   "outputs": [
    {
     "name": "stdout",
     "output_type": "stream",
     "text": [
      "def add(a, b):\n",
      "    print(f\"start add({a}, {b})\")\n",
      "    time.sleep(1)\n",
      "    print(f\"stop  add({a}, {b})\")\n",
      "    return a + b\n",
      "\n"
     ]
    },
    {
     "data": {
      "text/plain": [
       "'037d0e72cc62a8360d7cb321a68135eb790f17cd'"
      ]
     },
     "execution_count": 13,
     "metadata": {},
     "output_type": "execute_result"
    }
   ],
   "source": [
    "# Task source and hash should now be updated.\n",
    "\n",
    "print(add.source)\n",
    "\n",
    "add.hash"
   ]
  },
  {
   "cell_type": "code",
   "execution_count": 14,
   "metadata": {},
   "outputs": [
    {
     "name": "stderr",
     "output_type": "stream",
     "text": [
      "[redun] Upgrading db from version -1.0 to 3.1...\n",
      "[redun] Start Execution bcf4dcac-4ac1-4b34-98c3-ce7f3d0c9b10:  redun 'redun.root_task(QuotedExpression(redun_notebook.add(redun_notebook.add(1, 2), redun_notebook.add(3, 4))))'\n",
      "[redun] Run    Job 2a1339e2:  redun.root_task(expr=QuotedExpression(redun_notebook.add(redun_notebook.add(1, 2), redun_notebook.add(3, 4)))) on default\n",
      "[redun] Run    Job 46fdcfd3:  redun_notebook.add(a=1, b=2) on default\n",
      "[redun] Run    Job 6b57f1f8:  redun_notebook.add(a=3, b=4) on default\n"
     ]
    },
    {
     "name": "stdout",
     "output_type": "stream",
     "text": [
      "start add(1, 2)\n",
      "start add(3, 4)\n"
     ]
    },
    {
     "name": "stderr",
     "output_type": "stream",
     "text": [
      "[redun] Run    Job de859690:  redun_notebook.add(a=3, b=7) on default\n"
     ]
    },
    {
     "name": "stdout",
     "output_type": "stream",
     "text": [
      "stop  add(1, 2)\n",
      "stop  add(3, 4)\n",
      "start add(3, 7)\n"
     ]
    },
    {
     "name": "stderr",
     "output_type": "stream",
     "text": [
      "[redun] \n",
      "[redun] | JOB STATUS 2022/09/22 04:57:14\n",
      "[redun] | TASK               PENDING RUNNING  FAILED  CACHED    DONE   TOTAL\n",
      "[redun] | \n",
      "[redun] | ALL                      0       0       0       0       4       4\n",
      "[redun] | redun.root_task          0       0       0       0       1       1\n",
      "[redun] | redun_notebook.add       0       0       0       0       3       3\n",
      "[redun] \n",
      "[redun] \n",
      "[redun] Execution duration: 2.08 seconds\n"
     ]
    },
    {
     "name": "stdout",
     "output_type": "stream",
     "text": [
      "stop  add(3, 7)\n"
     ]
    },
    {
     "data": {
      "text/plain": [
       "10"
      ]
     },
     "execution_count": 14,
     "metadata": {},
     "output_type": "execute_result"
    }
   ],
   "source": [
    "# Expressions that do not depend on each other (e.g. `add(1, 2)` and `add(3, 4)`) will \n",
    "# automatically run in parallel. Notice how we see two starts and then two stops.\n",
    "scheduler = Scheduler()\n",
    "scheduler.run(add(add(1, 2), add(3, 4)))"
   ]
  },
  {
   "cell_type": "markdown",
   "metadata": {},
   "source": [
    "## Executing workflows with graph reduction\n",
    "\n",
    "The redun scheduler treats the expression `add(add(1, 2), add(3, 4))` as a tree (or DAG more generally). In the figure below, concrete values (anything that's not a subclass of `Expression`) are drawn in grey boxes, and `TaskExpressions` are drawn in blue boxes.\n",
    "\n",
    "<img width=\"50%\" src=\"images/expression-tree.png\">\n",
    "\n",
    "When `scheduler.run()` is applied, it begins to identify subtrees that can be *reduced*, namely tasks with concrete arguments (see red boxes below). The scheduler will perform these reductions by calling tasks (e.g. `add`) with the child nodes as the arguments. These task executions can occur in parallel, which is safe to do because tasks are required to be written as pure functions with no side-effects. The scheduler can also consult the cache before performing each reduction to see if it can skip executing a task and instead just replay the result.\n",
    "\n",
    "<img width=\"50%\" src=\"images/expression-tree2.png\">\n",
    "\n",
    "When a task completes its execution, its result is replaced into the expression tree.\n",
    "\n",
    "<img width=\"25%\" src=\"images/expression-tree3.png\">\n",
    "\n",
    "As reductions complete, additional reductions become possible.\n",
    "\n",
    "<img width=\"25%\" src=\"images/expression-tree4.png\">\n",
    "\n",
    "Eventually the expression graph reduces to a single concrete value and the workflow execution concludes.\n",
    "\n",
    "<img width=\"12%\" src=\"images/expression-tree5.png\">"
   ]
  },
  {
   "cell_type": "code",
   "execution_count": 15,
   "metadata": {},
   "outputs": [],
   "source": [
    "# Let's say we add four numbers a lot. Let's abstract it into its own task.\n",
    "\n",
    "@task()\n",
    "def add4(a, b, c, d):\n",
    "    return add(add(a, b), add(c, d))"
   ]
  },
  {
   "cell_type": "code",
   "execution_count": 16,
   "metadata": {
    "scrolled": true
   },
   "outputs": [
    {
     "name": "stderr",
     "output_type": "stream",
     "text": [
      "[redun] Start Execution 538b1da6-b79d-4102-81c4-e92720516740:  redun 'redun_notebook.add4(5, 6, 7, 8)'\n",
      "[redun] Run    Job 7863dc2a:  redun_notebook.add4(a=5, b=6, c=7, d=8) on default\n",
      "[redun] Run    Job 778b37a6:  redun_notebook.add(a=5, b=6) on default\n",
      "[redun] Run    Job 6c5bab49:  redun_notebook.add(a=7, b=8) on default\n"
     ]
    },
    {
     "name": "stdout",
     "output_type": "stream",
     "text": [
      "start add(5, 6)\n",
      "start add(7, 8)\n"
     ]
    },
    {
     "name": "stderr",
     "output_type": "stream",
     "text": [
      "[redun] Run    Job c07ba7d4:  redun_notebook.add(a=11, b=15) on default\n"
     ]
    },
    {
     "name": "stdout",
     "output_type": "stream",
     "text": [
      "stop  add(5, 6)stop  add(7, 8)\n",
      "\n",
      "start add(11, 15)\n"
     ]
    },
    {
     "name": "stderr",
     "output_type": "stream",
     "text": [
      "[redun] \n",
      "[redun] | JOB STATUS 2022/09/22 04:57:16\n",
      "[redun] | TASK                PENDING RUNNING  FAILED  CACHED    DONE   TOTAL\n",
      "[redun] | \n",
      "[redun] | ALL                       0       0       0       0       4       4\n",
      "[redun] | redun_notebook.add        0       0       0       0       3       3\n",
      "[redun] | redun_notebook.add4       0       0       0       0       1       1\n",
      "[redun] \n",
      "[redun] \n",
      "[redun] Execution duration: 2.08 seconds\n"
     ]
    },
    {
     "name": "stdout",
     "output_type": "stream",
     "text": [
      "stop  add(11, 15)\n"
     ]
    },
    {
     "data": {
      "text/plain": [
       "26"
      ]
     },
     "execution_count": 16,
     "metadata": {},
     "output_type": "execute_result"
    }
   ],
   "source": [
    "scheduler.run(add4(5, 6, 7, 8))"
   ]
  },
  {
   "cell_type": "code",
   "execution_count": 17,
   "metadata": {},
   "outputs": [],
   "source": [
    "# This returns the expected result. If a redun task returns an expression, \n",
    "# the scheduler will perform a follow up evaluation."
   ]
  },
  {
   "cell_type": "markdown",
   "metadata": {},
   "source": [
    "## Graph reductions that return more expressions\n",
    "\n",
    "The expression `add4(5, 6, 7, 8)` would look like the following expression tree.\n",
    "\n",
    "<img width=\"50%\" src=\"images/expression-tree6.png\">\n",
    "\n",
    "As we saw above, instead of returning a concrete value, task `add4` actually returned more expressions. This is a completely valid thing to do, and when it happens, the redun scheduler will simply place those expressions into a expression graph.\n",
    "\n",
    "<img width=\"50%\" src=\"images/expression-tree7.png\">\n",
    "\n",
    "The scheduler will begin to recurse into the new expressions looking for more reductions. \n",
    "\n",
    "In this way, the expression graph can actually expand and contract. Being able to dynamically grow the expression graph is what gives redun its ability to express very dynamic workflows.\n",
    "\n",
    "This process actually follows the implementation of classic functional programming language compilers and interpreters."
   ]
  },
  {
   "cell_type": "code",
   "execution_count": 18,
   "metadata": {},
   "outputs": [],
   "source": [
    "# Let's generalize 'add' to arbitrary number of values.\n",
    "\n",
    "@task()\n",
    "def add_many(values, init=0):\n",
    "    if len(values) == 0:\n",
    "        return init\n",
    "    elif len(values) == 1:\n",
    "        return values[0]\n",
    "    else:\n",
    "        k = len(values) // 2\n",
    "        sum1 = add_many(values[:k])\n",
    "        sum2 = add_many(values[k:])\n",
    "        return add(sum1, sum2)"
   ]
  },
  {
   "cell_type": "code",
   "execution_count": 19,
   "metadata": {
    "scrolled": true
   },
   "outputs": [
    {
     "name": "stderr",
     "output_type": "stream",
     "text": [
      "[redun] Start Execution a5666657-bdcc-45a7-9760-827fa11d5790:  redun 'redun_notebook.add_many([0, 1, 2, 3, 4, 5, 6, 7, 8, 9, 10, 11, 12, 13, 14, 15, 16, 17, 18, 19, 20, 21, 22, 23, 24, 25, 26, 27, 28, 29, 30, 31, 32, 33, 34, 35, 36, 37, 38, 39, 40, 41, 42, 43, 44, 45...'\n",
      "[redun] Run    Job 6662a0ef:  redun_notebook.add_many(values=[0, 1, 2, 3, 4, 5, 6, 7, 8, 9, 10, 11, 12, 13, 14, 15, 16, 17, 18, 19, 20, 21, 22, 23, 24, 25, 26, 27, 28, 29, 30, 31, 32, 33, 34, 35, 36, 37, 38, 39, 40, 41, 42, 43, 44, 45, 46, 47, 48, 49, 50, 51..., init=0) on default\n",
      "[redun] Run    Job e74a1beb:  redun_notebook.add_many(values=[0, 1, 2, 3, 4, 5, 6, 7, 8, 9, 10, 11, 12, 13, 14, 15, 16, 17, 18, 19, 20, 21, 22, 23, 24, 25, 26, 27, 28, 29, 30, 31, 32, 33, 34, 35, 36, 37, 38, 39, 40, 41, 42, 43, 44, 45, 46, 47, 48, 49], init=0) on default\n",
      "[redun] Run    Job 0dcbebf2:  redun_notebook.add_many(values=[50, 51, 52, 53, 54, 55, 56, 57, 58, 59, 60, 61, 62, 63, 64, 65, 66, 67, 68, 69, 70, 71, 72, 73, 74, 75, 76, 77, 78, 79, 80, 81, 82, 83, 84, 85, 86, 87, 88, 89, 90, 91, 92, 93, 94, 95, 96, 97, 98, 99], init=0) on default\n",
      "[redun] Run    Job abd82211:  redun_notebook.add_many(values=[0, 1, 2, 3, 4, 5, 6, 7, 8, 9, 10, 11, 12, 13, 14, 15, 16, 17, 18, 19, 20, 21, 22, 23, 24], init=0) on default\n",
      "[redun] Run    Job f2402ced:  redun_notebook.add_many(values=[25, 26, 27, 28, 29, 30, 31, 32, 33, 34, 35, 36, 37, 38, 39, 40, 41, 42, 43, 44, 45, 46, 47, 48, 49], init=0) on default\n",
      "[redun] Run    Job 0761fceb:  redun_notebook.add_many(values=[50, 51, 52, 53, 54, 55, 56, 57, 58, 59, 60, 61, 62, 63, 64, 65, 66, 67, 68, 69, 70, 71, 72, 73, 74], init=0) on default\n",
      "[redun] Run    Job 24283a5d:  redun_notebook.add_many(values=[75, 76, 77, 78, 79, 80, 81, 82, 83, 84, 85, 86, 87, 88, 89, 90, 91, 92, 93, 94, 95, 96, 97, 98, 99], init=0) on default\n",
      "[redun] Run    Job c4efa8b3:  redun_notebook.add_many(values=[0, 1, 2, 3, 4, 5, 6, 7, 8, 9, 10, 11], init=0) on default\n",
      "[redun] Run    Job e4baffe9:  redun_notebook.add_many(values=[12, 13, 14, 15, 16, 17, 18, 19, 20, 21, 22, 23, 24], init=0) on default\n",
      "[redun] Run    Job 1d8816e7:  redun_notebook.add_many(values=[25, 26, 27, 28, 29, 30, 31, 32, 33, 34, 35, 36], init=0) on default\n",
      "[redun] Run    Job ffd1e3c2:  redun_notebook.add_many(values=[37, 38, 39, 40, 41, 42, 43, 44, 45, 46, 47, 48, 49], init=0) on default\n",
      "[redun] Run    Job cd51311a:  redun_notebook.add_many(values=[50, 51, 52, 53, 54, 55, 56, 57, 58, 59, 60, 61], init=0) on default\n",
      "[redun] Run    Job 2076e8b7:  redun_notebook.add_many(values=[62, 63, 64, 65, 66, 67, 68, 69, 70, 71, 72, 73, 74], init=0) on default\n",
      "[redun] Run    Job 4cdbcdb7:  redun_notebook.add_many(values=[75, 76, 77, 78, 79, 80, 81, 82, 83, 84, 85, 86], init=0) on default\n",
      "[redun] Run    Job 2f278451:  redun_notebook.add_many(values=[87, 88, 89, 90, 91, 92, 93, 94, 95, 96, 97, 98, 99], init=0) on default\n",
      "[redun] Run    Job c49ec820:  redun_notebook.add_many(values=[0, 1, 2, 3, 4, 5], init=0) on default\n",
      "[redun] Run    Job 13830a69:  redun_notebook.add_many(values=[6, 7, 8, 9, 10, 11], init=0) on default\n",
      "[redun] Run    Job 416b07b3:  redun_notebook.add_many(values=[12, 13, 14, 15, 16, 17], init=0) on default\n",
      "[redun] Run    Job b469d70b:  redun_notebook.add_many(values=[18, 19, 20, 21, 22, 23, 24], init=0) on default\n",
      "[redun] Run    Job 8cf6922e:  redun_notebook.add_many(values=[25, 26, 27, 28, 29, 30], init=0) on default\n",
      "[redun] Run    Job c4724cdd:  redun_notebook.add_many(values=[31, 32, 33, 34, 35, 36], init=0) on default\n",
      "[redun] Run    Job a1b846ab:  redun_notebook.add_many(values=[37, 38, 39, 40, 41, 42], init=0) on default\n",
      "[redun] Run    Job 9b44dac9:  redun_notebook.add_many(values=[43, 44, 45, 46, 47, 48, 49], init=0) on default\n",
      "[redun] Run    Job b79e64d4:  redun_notebook.add_many(values=[50, 51, 52, 53, 54, 55], init=0) on default\n",
      "[redun] Run    Job 581a323d:  redun_notebook.add_many(values=[56, 57, 58, 59, 60, 61], init=0) on default\n",
      "[redun] Run    Job f2664a67:  redun_notebook.add_many(values=[62, 63, 64, 65, 66, 67], init=0) on default\n",
      "[redun] Run    Job 9bcfe2fd:  redun_notebook.add_many(values=[68, 69, 70, 71, 72, 73, 74], init=0) on default\n",
      "[redun] Run    Job 0c22abd9:  redun_notebook.add_many(values=[75, 76, 77, 78, 79, 80], init=0) on default\n",
      "[redun] Run    Job d86c353d:  redun_notebook.add_many(values=[81, 82, 83, 84, 85, 86], init=0) on default\n",
      "[redun] Run    Job c490ab46:  redun_notebook.add_many(values=[87, 88, 89, 90, 91, 92], init=0) on default\n",
      "[redun] Run    Job a722aaeb:  redun_notebook.add_many(values=[93, 94, 95, 96, 97, 98, 99], init=0) on default\n",
      "[redun] Run    Job fae52c4f:  redun_notebook.add_many(values=[0, 1, 2], init=0) on default\n",
      "[redun] Run    Job dca91534:  redun_notebook.add_many(values=[3, 4, 5], init=0) on default\n",
      "[redun] Run    Job 755e7988:  redun_notebook.add_many(values=[6, 7, 8], init=0) on default\n",
      "[redun] Run    Job 6c24a297:  redun_notebook.add_many(values=[9, 10, 11], init=0) on default\n",
      "[redun] Run    Job 11b4f46b:  redun_notebook.add_many(values=[12, 13, 14], init=0) on default\n",
      "[redun] Run    Job caa042f5:  redun_notebook.add_many(values=[15, 16, 17], init=0) on default\n",
      "[redun] Run    Job f239934f:  redun_notebook.add_many(values=[18, 19, 20], init=0) on default\n",
      "[redun] Run    Job 740c911b:  redun_notebook.add_many(values=[21, 22, 23, 24], init=0) on default\n",
      "[redun] Run    Job a4a4702d:  redun_notebook.add_many(values=[25, 26, 27], init=0) on default\n",
      "[redun] Run    Job 2be96bbb:  redun_notebook.add_many(values=[28, 29, 30], init=0) on default\n",
      "[redun] Run    Job 6f91390d:  redun_notebook.add_many(values=[31, 32, 33], init=0) on default\n",
      "[redun] Run    Job 0036b91d:  redun_notebook.add_many(values=[34, 35, 36], init=0) on default\n",
      "[redun] Run    Job 56be9896:  redun_notebook.add_many(values=[37, 38, 39], init=0) on default\n",
      "[redun] Run    Job 1ee66299:  redun_notebook.add_many(values=[40, 41, 42], init=0) on default\n",
      "[redun] Run    Job 09b2505e:  redun_notebook.add_many(values=[43, 44, 45], init=0) on default\n",
      "[redun] Run    Job 9b252e5e:  redun_notebook.add_many(values=[46, 47, 48, 49], init=0) on default\n",
      "[redun] Run    Job 318bfe63:  redun_notebook.add_many(values=[50, 51, 52], init=0) on default\n",
      "[redun] Run    Job c24dd43a:  redun_notebook.add_many(values=[53, 54, 55], init=0) on default\n",
      "[redun] Run    Job b270a519:  redun_notebook.add_many(values=[56, 57, 58], init=0) on default\n",
      "[redun] Run    Job f5cadc9e:  redun_notebook.add_many(values=[59, 60, 61], init=0) on default\n",
      "[redun] Run    Job 3a68caf4:  redun_notebook.add_many(values=[62, 63, 64], init=0) on default\n",
      "[redun] Run    Job 20b8b926:  redun_notebook.add_many(values=[65, 66, 67], init=0) on default\n",
      "[redun] Run    Job 4bfb935c:  redun_notebook.add_many(values=[68, 69, 70], init=0) on default\n",
      "[redun] Run    Job 273d585b:  redun_notebook.add_many(values=[71, 72, 73, 74], init=0) on default\n",
      "[redun] Run    Job 00092b86:  redun_notebook.add_many(values=[75, 76, 77], init=0) on default\n",
      "[redun] Run    Job 7a221418:  redun_notebook.add_many(values=[78, 79, 80], init=0) on default\n",
      "[redun] Run    Job ec25d6a7:  redun_notebook.add_many(values=[81, 82, 83], init=0) on default\n",
      "[redun] Run    Job f5fefb06:  redun_notebook.add_many(values=[84, 85, 86], init=0) on default\n",
      "[redun] Run    Job 479aa7ed:  redun_notebook.add_many(values=[87, 88, 89], init=0) on default\n",
      "[redun] Run    Job 86b354df:  redun_notebook.add_many(values=[90, 91, 92], init=0) on default\n",
      "[redun] Run    Job 091529c4:  redun_notebook.add_many(values=[93, 94, 95], init=0) on default\n",
      "[redun] Run    Job 14cab361:  redun_notebook.add_many(values=[96, 97, 98, 99], init=0) on default\n",
      "[redun] Run    Job 3ae47c74:  redun_notebook.add_many(values=[0], init=0) on default\n",
      "[redun] Run    Job 923a6492:  redun_notebook.add_many(values=[1, 2], init=0) on default\n",
      "[redun] Run    Job c875d935:  redun_notebook.add_many(values=[3], init=0) on default\n",
      "[redun] Run    Job 8292e1ab:  redun_notebook.add_many(values=[4, 5], init=0) on default\n",
      "[redun] Run    Job 5a652d85:  redun_notebook.add_many(values=[6], init=0) on default\n",
      "[redun] Run    Job 5c9c3364:  redun_notebook.add_many(values=[7, 8], init=0) on default\n",
      "[redun] Run    Job b32d07e3:  redun_notebook.add_many(values=[9], init=0) on default\n",
      "[redun] Run    Job 9a133d65:  redun_notebook.add_many(values=[10, 11], init=0) on default\n"
     ]
    },
    {
     "name": "stderr",
     "output_type": "stream",
     "text": [
      "[redun] Run    Job ab7a8823:  redun_notebook.add_many(values=[12], init=0) on default\n",
      "[redun] Run    Job 15e26e99:  redun_notebook.add_many(values=[13, 14], init=0) on default\n",
      "[redun] Run    Job c4a422ef:  redun_notebook.add_many(values=[15], init=0) on default\n",
      "[redun] Run    Job c87c0e8e:  redun_notebook.add_many(values=[16, 17], init=0) on default\n",
      "[redun] Run    Job 873b5ba9:  redun_notebook.add_many(values=[18], init=0) on default\n",
      "[redun] Run    Job 5014dae6:  redun_notebook.add_many(values=[19, 20], init=0) on default\n",
      "[redun] Run    Job 26ff76cc:  redun_notebook.add_many(values=[21, 22], init=0) on default\n",
      "[redun] Run    Job 65f0c4a3:  redun_notebook.add_many(values=[23, 24], init=0) on default\n",
      "[redun] Run    Job 15360388:  redun_notebook.add_many(values=[25], init=0) on default\n",
      "[redun] Run    Job 7ec36d7e:  redun_notebook.add_many(values=[26, 27], init=0) on default\n",
      "[redun] Run    Job aef98ac7:  redun_notebook.add_many(values=[28], init=0) on default\n",
      "[redun] Run    Job 02b17256:  redun_notebook.add_many(values=[29, 30], init=0) on default\n",
      "[redun] Run    Job ac15b720:  redun_notebook.add_many(values=[31], init=0) on default\n",
      "[redun] Run    Job b4ff20e0:  redun_notebook.add_many(values=[32, 33], init=0) on default\n",
      "[redun] Run    Job c97633ca:  redun_notebook.add_many(values=[34], init=0) on default\n",
      "[redun] Run    Job 4a72ce5c:  redun_notebook.add_many(values=[35, 36], init=0) on default\n",
      "[redun] Run    Job f22eab28:  redun_notebook.add_many(values=[37], init=0) on default\n",
      "[redun] Run    Job 4dc9cfa0:  redun_notebook.add_many(values=[38, 39], init=0) on default\n",
      "[redun] Run    Job 87d5fd14:  redun_notebook.add_many(values=[40], init=0) on default\n",
      "[redun] Run    Job 92f36938:  redun_notebook.add_many(values=[41, 42], init=0) on default\n",
      "[redun] Run    Job 2b2e44ac:  redun_notebook.add_many(values=[43], init=0) on default\n",
      "[redun] Run    Job 6768f132:  redun_notebook.add_many(values=[44, 45], init=0) on default\n",
      "[redun] Run    Job 7d6eff6e:  redun_notebook.add_many(values=[46, 47], init=0) on default\n",
      "[redun] Run    Job f6e3e3b7:  redun_notebook.add_many(values=[48, 49], init=0) on default\n",
      "[redun] Run    Job e4f7216e:  redun_notebook.add_many(values=[50], init=0) on default\n",
      "[redun] Run    Job e6e46244:  redun_notebook.add_many(values=[51, 52], init=0) on default\n",
      "[redun] Run    Job af96056e:  redun_notebook.add_many(values=[53], init=0) on default\n",
      "[redun] Run    Job 84963dae:  redun_notebook.add_many(values=[54, 55], init=0) on default\n",
      "[redun] Run    Job 54c8021d:  redun_notebook.add_many(values=[56], init=0) on default\n",
      "[redun] Run    Job a43de64b:  redun_notebook.add_many(values=[57, 58], init=0) on default\n",
      "[redun] Run    Job fc562c54:  redun_notebook.add_many(values=[59], init=0) on default\n",
      "[redun] Run    Job 3e55a91d:  redun_notebook.add_many(values=[60, 61], init=0) on default\n",
      "[redun] Run    Job 245b884f:  redun_notebook.add_many(values=[62], init=0) on default\n",
      "[redun] Run    Job c84352a6:  redun_notebook.add_many(values=[63, 64], init=0) on default\n",
      "[redun] Run    Job 8d321a37:  redun_notebook.add_many(values=[65], init=0) on default\n",
      "[redun] Run    Job 70cbe981:  redun_notebook.add_many(values=[66, 67], init=0) on default\n",
      "[redun] Run    Job 24ef4c88:  redun_notebook.add_many(values=[68], init=0) on default\n",
      "[redun] Run    Job 1a762ca7:  redun_notebook.add_many(values=[69, 70], init=0) on default\n",
      "[redun] Run    Job 017e86df:  redun_notebook.add_many(values=[71, 72], init=0) on default\n",
      "[redun] Run    Job c12b001b:  redun_notebook.add_many(values=[73, 74], init=0) on default\n",
      "[redun] Run    Job bd4ec34d:  redun_notebook.add_many(values=[75], init=0) on default\n",
      "[redun] Run    Job df538f6b:  redun_notebook.add_many(values=[76, 77], init=0) on default\n",
      "[redun] Run    Job c1d26e6d:  redun_notebook.add_many(values=[78], init=0) on default\n",
      "[redun] Run    Job 05c82ca0:  redun_notebook.add_many(values=[79, 80], init=0) on default\n",
      "[redun] Run    Job b8fe012a:  redun_notebook.add_many(values=[81], init=0) on default\n",
      "[redun] Run    Job e6cc53d2:  redun_notebook.add_many(values=[82, 83], init=0) on default\n",
      "[redun] Run    Job 15140e7c:  redun_notebook.add_many(values=[84], init=0) on default\n",
      "[redun] Run    Job 2ab90017:  redun_notebook.add_many(values=[85, 86], init=0) on default\n",
      "[redun] Run    Job 35209aac:  redun_notebook.add_many(values=[87], init=0) on default\n",
      "[redun] Run    Job e2fe75c9:  redun_notebook.add_many(values=[88, 89], init=0) on default\n",
      "[redun] Run    Job e7a3d2bd:  redun_notebook.add_many(values=[90], init=0) on default\n",
      "[redun] Run    Job 7040b957:  redun_notebook.add_many(values=[91, 92], init=0) on default\n",
      "[redun] Run    Job 2acf1ed7:  redun_notebook.add_many(values=[93], init=0) on default\n",
      "[redun] Run    Job da062287:  redun_notebook.add_many(values=[94, 95], init=0) on default\n",
      "[redun] Run    Job 6a5ce7d8:  redun_notebook.add_many(values=[96, 97], init=0) on default\n",
      "[redun] Run    Job c2957fa6:  redun_notebook.add_many(values=[98, 99], init=0) on default\n",
      "[redun] Run    Job a3e154d3:  redun_notebook.add_many(values=[1], init=0) on default\n",
      "[redun] Run    Job 1e696c27:  redun_notebook.add_many(values=[2], init=0) on default\n",
      "[redun] Run    Job df86629f:  redun_notebook.add_many(values=[4], init=0) on default\n",
      "[redun] Run    Job 98870fd0:  redun_notebook.add_many(values=[5], init=0) on default\n",
      "[redun] Run    Job de4ebe46:  redun_notebook.add_many(values=[7], init=0) on default\n",
      "[redun] Run    Job f4bb8932:  redun_notebook.add_many(values=[8], init=0) on default\n",
      "[redun] Run    Job 93ab652a:  redun_notebook.add_many(values=[10], init=0) on default\n",
      "[redun] Run    Job f93eb5c9:  redun_notebook.add_many(values=[11], init=0) on default\n",
      "[redun] Run    Job 70326350:  redun_notebook.add_many(values=[13], init=0) on default\n",
      "[redun] Run    Job 3d6fee5a:  redun_notebook.add_many(values=[14], init=0) on default\n",
      "[redun] Run    Job e2a02b8d:  redun_notebook.add_many(values=[16], init=0) on default\n",
      "[redun] Run    Job 24192bef:  redun_notebook.add_many(values=[17], init=0) on default\n",
      "[redun] Run    Job ef2064d5:  redun_notebook.add_many(values=[19], init=0) on default\n",
      "[redun] Run    Job b87470e4:  redun_notebook.add_many(values=[20], init=0) on default\n",
      "[redun] Run    Job 2053bfc7:  redun_notebook.add_many(values=[21], init=0) on default\n",
      "[redun] Run    Job 2e9566dc:  redun_notebook.add_many(values=[22], init=0) on default\n",
      "[redun] Run    Job f0674460:  redun_notebook.add_many(values=[23], init=0) on default\n",
      "[redun] Run    Job 93d46aca:  redun_notebook.add_many(values=[24], init=0) on default\n",
      "[redun] Run    Job fe882792:  redun_notebook.add_many(values=[26], init=0) on default\n",
      "[redun] Run    Job faf5ac23:  redun_notebook.add_many(values=[27], init=0) on default\n",
      "[redun] Run    Job 111cc67c:  redun_notebook.add_many(values=[29], init=0) on default\n",
      "[redun] Run    Job db9b5812:  redun_notebook.add_many(values=[30], init=0) on default\n",
      "[redun] Run    Job e970b6e9:  redun_notebook.add_many(values=[32], init=0) on default\n",
      "[redun] Run    Job 012b28df:  redun_notebook.add_many(values=[33], init=0) on default\n",
      "[redun] Run    Job 66b32398:  redun_notebook.add_many(values=[35], init=0) on default\n",
      "[redun] Run    Job fb27eb7f:  redun_notebook.add_many(values=[36], init=0) on default\n",
      "[redun] Run    Job 7daa65e0:  redun_notebook.add_many(values=[38], init=0) on default\n",
      "[redun] Run    Job c432a4af:  redun_notebook.add_many(values=[39], init=0) on default\n",
      "[redun] Run    Job f4cd8200:  redun_notebook.add_many(values=[41], init=0) on default\n",
      "[redun] Run    Job 4942a0ac:  redun_notebook.add_many(values=[42], init=0) on default\n",
      "[redun] Run    Job e0aad975:  redun_notebook.add_many(values=[44], init=0) on default\n",
      "[redun] Run    Job 20fa64cb:  redun_notebook.add_many(values=[45], init=0) on default\n",
      "[redun] Run    Job f36ba60a:  redun_notebook.add_many(values=[46], init=0) on default\n",
      "[redun] Run    Job 03bac0b5:  redun_notebook.add_many(values=[47], init=0) on default\n",
      "[redun] Run    Job c2e30955:  redun_notebook.add_many(values=[48], init=0) on default\n",
      "[redun] Run    Job 71c9129a:  redun_notebook.add_many(values=[49], init=0) on default\n",
      "[redun] Run    Job 3fddd050:  redun_notebook.add_many(values=[51], init=0) on default\n",
      "[redun] Run    Job c4a947fe:  redun_notebook.add_many(values=[52], init=0) on default\n"
     ]
    },
    {
     "name": "stderr",
     "output_type": "stream",
     "text": [
      "[redun] Run    Job d4f68eca:  redun_notebook.add_many(values=[54], init=0) on default\n",
      "[redun] Run    Job f5191c8f:  redun_notebook.add_many(values=[55], init=0) on default\n",
      "[redun] Run    Job 4c1cb156:  redun_notebook.add_many(values=[57], init=0) on default\n",
      "[redun] Run    Job d4e902e5:  redun_notebook.add_many(values=[58], init=0) on default\n",
      "[redun] Run    Job b59e6c05:  redun_notebook.add_many(values=[60], init=0) on default\n",
      "[redun] Run    Job 82c09638:  redun_notebook.add_many(values=[61], init=0) on default\n",
      "[redun] Run    Job 3c6e0a1b:  redun_notebook.add_many(values=[63], init=0) on default\n",
      "[redun] Run    Job a162a9b1:  redun_notebook.add_many(values=[64], init=0) on default\n",
      "[redun] Run    Job e19909c2:  redun_notebook.add_many(values=[66], init=0) on default\n",
      "[redun] Run    Job 3f247a0d:  redun_notebook.add_many(values=[67], init=0) on default\n",
      "[redun] Run    Job d8eb4998:  redun_notebook.add_many(values=[69], init=0) on default\n",
      "[redun] Run    Job ebc52427:  redun_notebook.add_many(values=[70], init=0) on default\n",
      "[redun] Run    Job a0ae9cf2:  redun_notebook.add_many(values=[71], init=0) on default\n",
      "[redun] Run    Job 0e034636:  redun_notebook.add_many(values=[72], init=0) on default\n",
      "[redun] Run    Job 7cb18b43:  redun_notebook.add_many(values=[73], init=0) on default\n",
      "[redun] Run    Job 7f7acc5a:  redun_notebook.add_many(values=[74], init=0) on default\n",
      "[redun] Run    Job 54ca5dcb:  redun_notebook.add_many(values=[76], init=0) on default\n",
      "[redun] Run    Job b64a36f4:  redun_notebook.add_many(values=[77], init=0) on default\n",
      "[redun] Run    Job 86923617:  redun_notebook.add_many(values=[79], init=0) on default\n",
      "[redun] Run    Job 0aeeda12:  redun_notebook.add_many(values=[80], init=0) on default\n",
      "[redun] Run    Job dbe9d548:  redun_notebook.add_many(values=[82], init=0) on default\n",
      "[redun] Run    Job 9fd01ab4:  redun_notebook.add_many(values=[83], init=0) on default\n",
      "[redun] Run    Job a141ceca:  redun_notebook.add_many(values=[85], init=0) on default\n",
      "[redun] Run    Job d2fba9eb:  redun_notebook.add_many(values=[86], init=0) on default\n",
      "[redun] Run    Job 8b814604:  redun_notebook.add_many(values=[88], init=0) on default\n",
      "[redun] Run    Job fa128f68:  redun_notebook.add_many(values=[89], init=0) on default\n",
      "[redun] Run    Job 66afaa8b:  redun_notebook.add_many(values=[91], init=0) on default\n",
      "[redun] Run    Job 69019ce0:  redun_notebook.add_many(values=[92], init=0) on default\n",
      "[redun] Run    Job a6b6b621:  redun_notebook.add_many(values=[94], init=0) on default\n",
      "[redun] Run    Job 607913ae:  redun_notebook.add_many(values=[95], init=0) on default\n",
      "[redun] Run    Job 4f91f2e1:  redun_notebook.add_many(values=[96], init=0) on default\n",
      "[redun] Run    Job 6ffdfc5c:  redun_notebook.add_many(values=[97], init=0) on default\n",
      "[redun] Run    Job 1305efa6:  redun_notebook.add_many(values=[98], init=0) on default\n",
      "[redun] Run    Job 28b7ab25:  redun_notebook.add_many(values=[99], init=0) on default\n",
      "[redun] Cached Job dca041b2:  redun_notebook.add(a=1, b=2) (eval_hash=6b571a50)\n",
      "[redun] Run    Job 18492d56:  redun_notebook.add(a=4, b=5) on default\n",
      "[redun] Cached Job 60c627dd:  redun_notebook.add(a=7, b=8) (eval_hash=b6ce28ae)\n",
      "[redun] Run    Job 13fb294d:  redun_notebook.add(a=10, b=11) on default\n",
      "[redun] Run    Job cc3e40cd:  redun_notebook.add(a=13, b=14) on default\n",
      "[redun] Run    Job d501b73f:  redun_notebook.add(a=16, b=17) on default\n",
      "[redun] Run    Job 8677521b:  redun_notebook.add(a=19, b=20) on default\n",
      "[redun] Run    Job f86f0822:  redun_notebook.add(a=21, b=22) on default\n",
      "[redun] Run    Job f41940ae:  redun_notebook.add(a=23, b=24) on default\n",
      "[redun] Run    Job b95e5ae4:  redun_notebook.add(a=26, b=27) on default\n",
      "[redun] Run    Job 3df76921:  redun_notebook.add(a=29, b=30) on default\n",
      "[redun] Run    Job 92fc6601:  redun_notebook.add(a=32, b=33) on default\n",
      "[redun] Run    Job e7f1a54d:  redun_notebook.add(a=35, b=36) on default\n",
      "[redun] Run    Job b4cefe5c:  redun_notebook.add(a=38, b=39) on default\n",
      "[redun] Run    Job ffc28a33:  redun_notebook.add(a=41, b=42) on default\n",
      "[redun] Run    Job 114bbd5f:  redun_notebook.add(a=44, b=45) on default\n",
      "[redun] Run    Job 5d8019f2:  redun_notebook.add(a=46, b=47) on default\n",
      "[redun] Run    Job 08894991:  redun_notebook.add(a=48, b=49) on default\n",
      "[redun] Run    Job 47572c42:  redun_notebook.add(a=51, b=52) on default\n",
      "[redun] Run    Job cdb41846:  redun_notebook.add(a=54, b=55) on default\n",
      "[redun] Run    Job d14dc9bd:  redun_notebook.add(a=57, b=58) on default\n",
      "[redun] Run    Job c275bb37:  redun_notebook.add(a=60, b=61) on default\n",
      "[redun] Run    Job 43ddc784:  redun_notebook.add(a=63, b=64) on default\n",
      "[redun] Run    Job 46f11971:  redun_notebook.add(a=66, b=67) on default\n",
      "[redun] Run    Job 6608b35d:  redun_notebook.add(a=69, b=70) on default\n",
      "[redun] Run    Job 76e040c6:  redun_notebook.add(a=71, b=72) on default\n",
      "[redun] Run    Job cb8332f2:  redun_notebook.add(a=73, b=74) on default\n",
      "[redun] Run    Job b32c337a:  redun_notebook.add(a=76, b=77) on default\n",
      "[redun] Run    Job 1e22a446:  redun_notebook.add(a=79, b=80) on default\n",
      "[redun] Run    Job ca57a64f:  redun_notebook.add(a=82, b=83) on default\n",
      "[redun] Run    Job 41441859:  redun_notebook.add(a=85, b=86) on default\n",
      "[redun] Run    Job 45010f6d:  redun_notebook.add(a=88, b=89) on default\n",
      "[redun] Run    Job ca293173:  redun_notebook.add(a=91, b=92) on default\n",
      "[redun] Run    Job 2a4679a2:  redun_notebook.add(a=94, b=95) on default\n",
      "[redun] Run    Job a02b1cea:  redun_notebook.add(a=96, b=97) on default\n",
      "[redun] Run    Job a718b1f1:  redun_notebook.add(a=98, b=99) on default\n",
      "[redun] Run    Job 3a435894:  redun_notebook.add(a=0, b=3) on default\n",
      "[redun] Run    Job dbe6b633:  redun_notebook.add(a=6, b=15) on default\n"
     ]
    },
    {
     "name": "stdout",
     "output_type": "stream",
     "text": [
      "start add(4, 5)\n",
      "start add(10, 11)\n",
      "start add(13, 14)\n",
      "start add(16, 17)\n",
      "start add(19, 20)\n",
      "start add(21, 22)\n",
      "start add(23, 24)\n",
      "start add(26, 27)\n",
      "start add(29, 30)\n",
      "start add(32, 33)\n",
      "start add(35, 36)\n",
      "start add(38, 39)\n",
      "start add(41, 42)\n",
      "start add(44, 45)\n",
      "start add(46, 47)\n",
      "start add(48, 49)\n",
      "start add(51, 52)\n",
      "start add(54, 55)\n",
      "start add(57, 58)\n",
      "start add(60, 61)\n"
     ]
    },
    {
     "name": "stderr",
     "output_type": "stream",
     "text": [
      "[redun] Run    Job abdde0ef:  redun_notebook.add(a=3, b=9) on default\n",
      "[redun] Run    Job 23a760e3:  redun_notebook.add(a=9, b=21) on default\n",
      "[redun] Run    Job 7cf39161:  redun_notebook.add(a=12, b=27) on default\n",
      "[redun] Run    Job 9e8111d4:  redun_notebook.add(a=15, b=33) on default\n"
     ]
    },
    {
     "name": "stdout",
     "output_type": "stream",
     "text": [
      "stop  add(4, 5)\n",
      "start add(63, 64)\n",
      "stop  add(10, 11)\n",
      "start add(66, 67)\n",
      "stop  add(13, 14)\n",
      "start add(69, 70)\n",
      "stop  add(16, 17)\n",
      "start add(71, 72)\n",
      "stop  add(19, 20)\n",
      "start add(73, 74)\n",
      "stop  add(21, 22)\n",
      "start add(76, 77)\n",
      "stop  add(23, 24)\n",
      "start add(79, 80)\n",
      "stop  add(26, 27)\n",
      "start add(82, 83)\n",
      "stop  add(29, 30)\n",
      "start add(85, 86)\n",
      "stop  add(32, 33)\n",
      "start add(88, 89)\n",
      "stop  add(35, 36)\n",
      "start add(91, 92)\n",
      "stop  add(38, 39)\n",
      "start add(94, 95)\n",
      "stop  add(41, 42)\n",
      "start add(96, 97)\n",
      "stop  add(44, 45)\n",
      "start add(98, 99)\n",
      "stop  add(46, 47)\n",
      "start add(0, 3)\n",
      "stop  add(48, 49)\n",
      "start add(6, 15)\n",
      "stop  add(51, 52)\n",
      "start add(3, 9)\n",
      "stop  add(54, 55)\n",
      "stop  add(57, 58)\n",
      "stop  add(60, 61)\n",
      "start add(9, 21)\n",
      "start add(12, 27)\n",
      "start add(15, 33)\n"
     ]
    },
    {
     "name": "stderr",
     "output_type": "stream",
     "text": [
      "[redun] Run    Job d7b55265:  redun_notebook.add(a=18, b=39) on default\n",
      "[redun] Run    Job ab933258:  redun_notebook.add(a=43, b=47) on default\n",
      "[redun] Run    Job 277fe4b8:  redun_notebook.add(a=25, b=53) on default\n",
      "[redun] Run    Job 196c7cad:  redun_notebook.add(a=28, b=59) on default\n",
      "[redun] Run    Job dcccdc30:  redun_notebook.add(a=31, b=65) on default\n",
      "[redun] Run    Job ded7ec04:  redun_notebook.add(a=34, b=71) on default\n",
      "[redun] Run    Job e213e0b3:  redun_notebook.add(a=37, b=77) on default\n",
      "[redun] Run    Job 3737f9a9:  redun_notebook.add(a=40, b=83) on default\n",
      "[redun] Run    Job 3d61feba:  redun_notebook.add(a=43, b=89) on default\n",
      "[redun] Run    Job 3b4126f1:  redun_notebook.add(a=93, b=97) on default\n",
      "[redun] Run    Job f7db7527:  redun_notebook.add(a=50, b=103) on default\n",
      "[redun] Run    Job 343608e8:  redun_notebook.add(a=53, b=109) on default\n",
      "[redun] Run    Job 6704318e:  redun_notebook.add(a=56, b=115) on default\n",
      "[redun] Run    Job 4fbf100c:  redun_notebook.add(a=59, b=121) on default\n",
      "[redun] Run    Job 43e466b1:  redun_notebook.add(a=62, b=127) on default\n",
      "[redun] Run    Job 8eefd4df:  redun_notebook.add(a=65, b=133) on default\n"
     ]
    },
    {
     "name": "stdout",
     "output_type": "stream",
     "text": [
      "stop  add(63, 64)\n",
      "start add(18, 39)\n",
      "stop  add(66, 67)\n",
      "start add(43, 47)\n",
      "stop  add(69, 70)\n",
      "start add(25, 53)\n",
      "stop  add(71, 72)\n",
      "start add(28, 59)\n",
      "stop  add(73, 74)\n",
      "start add(31, 65)\n",
      "stop  add(76, 77)\n",
      "start add(34, 71)\n",
      "stop  add(79, 80)\n",
      "start add(37, 77)\n",
      "stop  add(82, 83)\n",
      "start add(40, 83)\n",
      "stop  add(85, 86)\n",
      "start add(43, 89)\n",
      "stop  add(88, 89)\n",
      "start add(93, 97)\n",
      "stop  add(91, 92)\n",
      "start add(50, 103)\n",
      "stop  add(94, 95)\n",
      "start add(53, 109)\n",
      "stop  add(96, 97)\n",
      "start add(56, 115)\n",
      "stop  add(98, 99)\n",
      "start add(59, 121)\n",
      "stop  add(0, 3)\n",
      "stop  add(6, 15)\n",
      "stop  add(3, 9)\n",
      "start add(62, 127)\n",
      "stop  add(9, 21)\n",
      "stop  add(12, 27)\n",
      "start add(65, 133)\n",
      "stop  add(15, 33)\n"
     ]
    },
    {
     "name": "stderr",
     "output_type": "stream",
     "text": [
      "[redun] Run    Job bea66d73:  redun_notebook.add(a=68, b=139) on default\n",
      "[redun] Run    Job 2940ff46:  redun_notebook.add(a=143, b=147) on default\n",
      "[redun] Run    Job 274ed0d6:  redun_notebook.add(a=75, b=153) on default\n",
      "[redun] Run    Job 42b7f260:  redun_notebook.add(a=78, b=159) on default\n",
      "[redun] Run    Job 4d4d601c:  redun_notebook.add(a=81, b=165) on default\n",
      "[redun] Run    Job ac452413:  redun_notebook.add(a=84, b=171) on default\n",
      "[redun] Run    Job 5f1afa2c:  redun_notebook.add(a=87, b=177) on default\n",
      "[redun] Run    Job 1c9008f8:  redun_notebook.add(a=90, b=183) on default\n",
      "[redun] Run    Job b525db92:  redun_notebook.add(a=93, b=189) on default\n",
      "[redun] Run    Job 4833d67c:  redun_notebook.add(a=193, b=197) on default\n",
      "[redun] Run    Job 59653580:  redun_notebook.add(a=3, b=12) on default\n",
      "[redun] Run    Job 4bbe0666:  redun_notebook.add(a=21, b=30) on default\n",
      "[redun] Run    Job 1cd866f4:  redun_notebook.add(a=39, b=48) on default\n"
     ]
    },
    {
     "name": "stdout",
     "output_type": "stream",
     "text": [
      "start add(68, 139)\n",
      "start add(143, 147)\n",
      "start add(75, 153)\n",
      "start add(78, 159)\n"
     ]
    },
    {
     "name": "stderr",
     "output_type": "stream",
     "text": [
      "[redun] Run    Job e3678fa3:  redun_notebook.add(a=57, b=90) on default\n",
      "[redun] Run    Job ca14d46e:  redun_notebook.add(a=78, b=87) on default\n",
      "[redun] Run    Job 26247fb4:  redun_notebook.add(a=96, b=105) on default\n"
     ]
    },
    {
     "name": "stdout",
     "output_type": "stream",
     "text": [
      "stop  add(18, 39)\n",
      "start add(81, 165)\n",
      "stop  add(43, 47)\n",
      "start add(84, 171)\n",
      "stop  add(25, 53)\n",
      "start add(87, 177)\n",
      "stop  add(28, 59)\n",
      "start add(90, 183)\n",
      "stop  add(31, 65)\n",
      "start add(93, 189)\n",
      "stop  add(34, 71)\n",
      "start add(193, 197)\n",
      "stop  add(40, 83)\n",
      "start add(3, 12)\n",
      "stop  add(37, 77)\n",
      "start add(21, 30)\n",
      "stop  add(43, 89)\n",
      "start add(39, 48)\n",
      "stop  add(93, 97)\n",
      "stop  add(53, 109)\n",
      "stop  add(50, 103)\n",
      "stop  add(56, 115)\n",
      "stop  add(59, 121)\n",
      "stop  add(62, 127)\n",
      "start add(57, 90)\n",
      "stop  add(65, 133)\n",
      "start add(78, 87)\n",
      "start add(96, 105)\n"
     ]
    },
    {
     "name": "stderr",
     "output_type": "stream",
     "text": [
      "[redun] Run    Job 871a406a:  redun_notebook.add(a=114, b=123) on default\n",
      "[redun] Run    Job 83387d44:  redun_notebook.add(a=132, b=190) on default\n",
      "[redun] Run    Job 81766f56:  redun_notebook.add(a=153, b=162) on default\n",
      "[redun] Run    Job e701e110:  redun_notebook.add(a=171, b=180) on default\n",
      "[redun] Run    Job bf8849bb:  redun_notebook.add(a=189, b=198) on default\n",
      "[redun] Run    Job 3d11bc22:  redun_notebook.add(a=207, b=290) on default\n",
      "[redun] Run    Job 47e9c8a0:  redun_notebook.add(a=228, b=237) on default\n"
     ]
    },
    {
     "name": "stdout",
     "output_type": "stream",
     "text": [
      "stop  add(68, 139)\n",
      "stop  add(143, 147)\n",
      "start add(114, 123)\n",
      "stop  add(75, 153)\n",
      "start add(132, 190)\n",
      "start add(153, 162)\n",
      "start add(171, 180)\n",
      "stop  add(78, 159)\n",
      "start add(189, 198)\n",
      "start add(207, 290)\n",
      "start add(228, 237)\n"
     ]
    },
    {
     "name": "stderr",
     "output_type": "stream",
     "text": [
      "[redun] Run    Job 1b3a1354:  redun_notebook.add(a=246, b=255) on default\n",
      "[redun] Run    Job 877ecb25:  redun_notebook.add(a=264, b=273) on default\n",
      "[redun] Run    Job 9b7a93c0:  redun_notebook.add(a=282, b=390) on default\n",
      "[redun] Run    Job 23ea29d8:  redun_notebook.add(a=15, b=51) on default\n",
      "[redun] Run    Job 6065ec81:  redun_notebook.add(a=87, b=147) on default\n"
     ]
    },
    {
     "name": "stdout",
     "output_type": "stream",
     "text": [
      "stop  add(81, 165)\n",
      "stop  add(84, 171)\n",
      "stop  add(93, 189)\n",
      "stop  add(90, 183)\n",
      "stop  add(87, 177)\n",
      "stop  add(193, 197)\n",
      "stop  add(3, 12)\n",
      "stop  add(21, 30)\n",
      "stop  add(39, 48)\n",
      "start add(246, 255)\n",
      "start add(264, 273)\n",
      "start add(282, 390)\n",
      "start add(15, 51)\n",
      "stop  add(57, 90)\n",
      "stop  add(78, 87)\n",
      "start add(87, 147)\n",
      "stop  add(96, 105)\n"
     ]
    },
    {
     "name": "stderr",
     "output_type": "stream",
     "text": [
      "[redun] Run    Job 3ba78d65:  redun_notebook.add(a=165, b=201) on default\n",
      "[redun] Run    Job 23987f9a:  redun_notebook.add(a=237, b=322) on default\n",
      "[redun] Run    Job 8219fb01:  redun_notebook.add(a=315, b=351) on default\n",
      "[redun] Run    Job 76b20fff:  redun_notebook.add(a=387, b=497) on default\n"
     ]
    },
    {
     "name": "stdout",
     "output_type": "stream",
     "text": [
      "start add(165, 201)\n",
      "stop  add(114, 123)\n",
      "stop  add(132, 190)\n",
      "stop  add(153, 162)\n",
      "stop  add(171, 180)\n",
      "start add(237, 322)\n",
      "start add(315, 351)\n",
      "stop  add(189, 198)\n",
      "stop  add(207, 290)\n",
      "stop  add(228, 237)\n",
      "start add(387, 497)\n"
     ]
    },
    {
     "name": "stderr",
     "output_type": "stream",
     "text": [
      "[redun] Run    Job f607ef2f:  redun_notebook.add(a=465, b=501) on default\n",
      "[redun] Run    Job 5298a623:  redun_notebook.add(a=537, b=672) on default\n",
      "[redun] Run    Job a0c62d4c:  redun_notebook.add(a=66, b=234) on default\n"
     ]
    },
    {
     "name": "stdout",
     "output_type": "stream",
     "text": [
      "stop  add(246, 255)\n",
      "stop  add(282, 390)\n",
      "stop  add(264, 273)\n",
      "start add(465, 501)\n",
      "stop  add(15, 51)\n",
      "start add(537, 672)\n",
      "stop  add(87, 147)\n",
      "start add(66, 234)\n",
      "stop  add(165, 201)\n",
      "stop  add(237, 322)\n"
     ]
    },
    {
     "name": "stderr",
     "output_type": "stream",
     "text": [
      "[redun] Run    Job 70304571:  redun_notebook.add(a=366, b=559) on default\n",
      "[redun] Run    Job eb1752ef:  redun_notebook.add(a=666, b=884) on default\n"
     ]
    },
    {
     "name": "stdout",
     "output_type": "stream",
     "text": [
      "start add(366, 559)\n",
      "stop  add(315, 351)\n",
      "stop  add(387, 497)\n",
      "start add(666, 884)\n"
     ]
    },
    {
     "name": "stderr",
     "output_type": "stream",
     "text": [
      "[redun] Run    Job 3da4058f:  redun_notebook.add(a=966, b=1209) on default\n"
     ]
    },
    {
     "name": "stdout",
     "output_type": "stream",
     "text": [
      "stop  add(465, 501)\n",
      "stop  add(537, 672)\n",
      "start add(966, 1209)\n",
      "stop  add(66, 234)\n",
      "stop  add(366, 559)\n"
     ]
    },
    {
     "name": "stderr",
     "output_type": "stream",
     "text": [
      "[redun] Run    Job 1d1b3bb1:  redun_notebook.add(a=300, b=925) on default\n"
     ]
    },
    {
     "name": "stdout",
     "output_type": "stream",
     "text": [
      "start add(300, 925)\n",
      "stop  add(666, 884)\n"
     ]
    },
    {
     "name": "stderr",
     "output_type": "stream",
     "text": [
      "[redun] Run    Job 62cd9bfd:  redun_notebook.add(a=1550, b=2175) on default\n"
     ]
    },
    {
     "name": "stdout",
     "output_type": "stream",
     "text": [
      "stop  add(966, 1209)\n",
      "start add(1550, 2175)\n",
      "stop  add(300, 925)\n"
     ]
    },
    {
     "name": "stderr",
     "output_type": "stream",
     "text": [
      "[redun] Run    Job 479bf2cc:  redun_notebook.add(a=1225, b=3725) on default\n"
     ]
    },
    {
     "name": "stdout",
     "output_type": "stream",
     "text": [
      "stop  add(1550, 2175)\n",
      "start add(1225, 3725)\n"
     ]
    },
    {
     "name": "stderr",
     "output_type": "stream",
     "text": [
      "[redun] \n",
      "[redun] | JOB STATUS 2022/09/22 04:57:27\n",
      "[redun] | TASK                    PENDING RUNNING  FAILED  CACHED    DONE   TOTAL\n",
      "[redun] | \n",
      "[redun] | ALL                           0       0       0       2     296     298\n",
      "[redun] | redun_notebook.add            0       0       0       2      97      99\n",
      "[redun] | redun_notebook.add_many       0       0       0       0     199     199\n",
      "[redun] \n",
      "[redun] \n",
      "[redun] Execution duration: 11.03 seconds\n"
     ]
    },
    {
     "name": "stdout",
     "output_type": "stream",
     "text": [
      "stop  add(1225, 3725)\n"
     ]
    },
    {
     "data": {
      "text/plain": [
       "4950"
      ]
     },
     "execution_count": 19,
     "metadata": {},
     "output_type": "execute_result"
    }
   ],
   "source": [
    "# As this expression is evaluated imagine how the expression tree is expanding and contracting.\n",
    "scheduler.run(add_many(list(range(100))))"
   ]
  },
  {
   "cell_type": "code",
   "execution_count": 20,
   "metadata": {},
   "outputs": [],
   "source": [
    "# Let's suppress the scheduler's logging output.\n",
    "\n",
    "import logging\n",
    "scheduler.logger.setLevel(logging.ERROR)"
   ]
  },
  {
   "cell_type": "code",
   "execution_count": 21,
   "metadata": {},
   "outputs": [
    {
     "name": "stdout",
     "output_type": "stream",
     "text": [
      "start add(0, 1)\n",
      "start add(1, 1)\n",
      "start add(2, 1)\n",
      "start add(3, 1)\n",
      "start add(4, 1)\n",
      "start add(5, 1)\n",
      "start add(6, 1)\n",
      "start add(7, 1)\n",
      "start add(8, 1)\n",
      "start add(9, 1)\n",
      "stop  add(0, 1)stop  add(1, 1)\n",
      "stop  add(2, 1)\n",
      "\n",
      "stop  add(3, 1)\n",
      "stop  add(4, 1)\n",
      "stop  add(5, 1)\n",
      "stop  add(6, 1)\n",
      "stop  add(7, 1)\n",
      "stop  add(8, 1)\n",
      "stop  add(9, 1)\n",
      "start add(6, 7)\n",
      "start add(9, 10)\n",
      "stop  add(6, 7)\n",
      "stop  add(9, 10)\n",
      "start add(8, 19)\n",
      "stop  add(8, 19)\n",
      "start add(13, 27)\n",
      "stop  add(13, 27)\n",
      "start add(15, 40)\n",
      "stop  add(15, 40)\n"
     ]
    },
    {
     "data": {
      "text/plain": [
       "55"
      ]
     },
     "execution_count": 21,
     "metadata": {},
     "output_type": "execute_result"
    }
   ],
   "source": [
    "# Let's try a scatter-gather pipeline.\n",
    "\n",
    "# Scatter (aka map).\n",
    "init_values = list(range(10))\n",
    "values = [add(i, 1) for i in init_values]\n",
    "\n",
    "# Gather (aka reduce).\n",
    "total = add_many(values)\n",
    "scheduler.run(total)"
   ]
  },
  {
   "cell_type": "code",
   "execution_count": 22,
   "metadata": {
    "scrolled": true
   },
   "outputs": [
    {
     "data": {
      "text/plain": [
       "[redun_notebook.add(0, 1),\n",
       " redun_notebook.add(1, 1),\n",
       " redun_notebook.add(2, 1),\n",
       " redun_notebook.add(3, 1),\n",
       " redun_notebook.add(4, 1),\n",
       " redun_notebook.add(5, 1),\n",
       " redun_notebook.add(6, 1),\n",
       " redun_notebook.add(7, 1),\n",
       " redun_notebook.add(8, 1),\n",
       " redun_notebook.add(9, 1)]"
      ]
     },
     "execution_count": 22,
     "metadata": {},
     "output_type": "execute_result"
    }
   ],
   "source": [
    "# Notice `values` was actually a list of Expressions.\n",
    "values"
   ]
  },
  {
   "cell_type": "markdown",
   "metadata": {},
   "source": [
    "redun's primary evaluation rule is:\n",
    "\n",
    "```py\n",
    "eval(TaskExpression(func, arg1, arg2, ...)) => eval(func(eval(arg1), eval(arg2), ...))\n",
    "```\n",
    "\n",
    "In addition, the redun scheduler recurses into \"nested values\", looking for expressions to evaluate.\n",
    "That is achieved using additional evaluation rules:\n",
    "\n",
    "```py\n",
    "# Evaluate list\n",
    "eval([x for x in xs]) => [eval(x) for x in xs]\n",
    "\n",
    "# Evaluate dict\n",
    "eval({k: v for k, v in dct.items()}) => {eval(k): eval(v) for k, v in dct.items()}\n",
    "\n",
    "# Evaluate set\n",
    "eval({x for x in xs}) => {eval(x) for x in xs}\n",
    "\n",
    "# Evaluate tuple\n",
    "eval(tuple(x for x in xs)) => tuple(eval(x) for x in xs)\n",
    "\n",
    "# Evaluate namedtuple\n",
    "eval(MyNamedTuple(x for x in xs)) => MyNamedTuple(eval(x) for x in xs)\n",
    "```"
   ]
  },
  {
   "cell_type": "code",
   "execution_count": 23,
   "metadata": {},
   "outputs": [],
   "source": [
    "# Let's tryout some of these evaluation rules."
   ]
  },
  {
   "cell_type": "code",
   "execution_count": 24,
   "metadata": {},
   "outputs": [
    {
     "name": "stdout",
     "output_type": "stream",
     "text": [
      "{'first': redun_notebook.add(1, 2), 'second': redun_notebook.add(3, 4)}\n"
     ]
    },
    {
     "data": {
      "text/plain": [
       "{'first': 3, 'second': 7}"
      ]
     },
     "execution_count": 24,
     "metadata": {},
     "output_type": "execute_result"
    }
   ],
   "source": [
    "expr = {\"first\": add(1, 2), \"second\": add(3, 4)}\n",
    "print(expr)\n",
    "scheduler.run(expr)"
   ]
  },
  {
   "cell_type": "code",
   "execution_count": 25,
   "metadata": {},
   "outputs": [
    {
     "name": "stdout",
     "output_type": "stream",
     "text": [
      "[{'id': 1, 'price': redun_notebook.add(1, 2)}, {'id': 2, 'price': redun_notebook.add(3, 4)}]\n"
     ]
    },
    {
     "data": {
      "text/plain": [
       "[{'id': 1, 'price': 3}, {'id': 2, 'price': 7}]"
      ]
     },
     "execution_count": 25,
     "metadata": {},
     "output_type": "execute_result"
    }
   ],
   "source": [
    "expr = [\n",
    "    {\n",
    "        \"id\": 1,\n",
    "        \"price\": add(1, 2),\n",
    "    },\n",
    "    {\n",
    "        \"id\": 2,\n",
    "        \"price\": add(3, 4),\n",
    "    }\n",
    "]\n",
    "print(expr)\n",
    "scheduler.run(expr)"
   ]
  },
  {
   "cell_type": "code",
   "execution_count": 26,
   "metadata": {},
   "outputs": [
    {
     "name": "stdout",
     "output_type": "stream",
     "text": [
      "[0, redun_notebook.add(0, 0), redun_notebook.add(redun_notebook.add(0, 0), 1), redun_notebook.add(redun_notebook.add(redun_notebook.add(0, 0), 1), 2), redun_notebook.add(redun_notebook.add(redun_notebook.add(redun_notebook.add(0, 0), 1), 2), 3), redun_notebook.add(redun_notebook.add(redun_notebook.add(redun_notebook.add(redun_notebook.add(0, 0), 1), 2), 3), 4), redun_notebook.add(redun_notebook.add(redun_notebook.add(redun_notebook.add(redun_notebook.add(redun_notebook.add(0, 0), 1), 2), 3), 4), 5), redun_notebook.add(redun_notebook.add(redun_notebook.add(redun_notebook.add(redun_notebook.add(redun_notebook.add(redun_notebook.add(0, 0), 1), 2), 3), 4), 5), 6), redun_notebook.add(redun_notebook.add(redun_notebook.add(redun_notebook.add(redun_notebook.add(redun_notebook.add(redun_notebook.add(redun_notebook.add(0, 0), 1), 2), 3), 4), 5), 6), 7), redun_notebook.add(redun_notebook.add(redun_notebook.add(redun_notebook.add(redun_notebook.add(redun_notebook.add(redun_notebook.add(redun_notebook.add(redun_notebook.add(0, 0), 1), 2), 3), 4), 5), 6), 7), 8), redun_notebook.add(redun_notebook.add(redun_notebook.add(redun_notebook.add(redun_notebook.add(redun_notebook.add(redun_notebook.add(redun_notebook.add(redun_notebook.add(redun_notebook.add(0, 0), 1), 2), 3), 4), 5), 6), 7), 8), 9)]\n",
      "start add(0, 0)\n",
      "stop  add(0, 0)\n",
      "start add(3, 3)\n",
      "stop  add(3, 3)\n",
      "start add(6, 4)\n",
      "stop  add(6, 4)\n",
      "start add(10, 5)\n",
      "stop  add(10, 5)\n",
      "start add(15, 6)\n",
      "stop  add(15, 6)\n",
      "start add(21, 7)\n",
      "stop  add(21, 7)\n",
      "start add(28, 8)\n",
      "stop  add(28, 8)\n",
      "start add(36, 9)\n",
      "stop  add(36, 9)\n"
     ]
    },
    {
     "data": {
      "text/plain": [
       "[0, 0, 1, 3, 6, 10, 15, 21, 28, 36, 45]"
      ]
     },
     "execution_count": 26,
     "metadata": {},
     "output_type": "execute_result"
    }
   ],
   "source": [
    "# Elements of a list do not need to be independent.\n",
    "# For example, here we are doing a cumulative summation where each entry depends on the previous.\n",
    "\n",
    "values = list(range(10))\n",
    "cumsum = [0]\n",
    "for value in values:\n",
    "    cumsum.append(add(cumsum[-1], value))\n",
    "\n",
    "print(cumsum)\n",
    "scheduler.run(cumsum)"
   ]
  },
  {
   "cell_type": "code",
   "execution_count": 27,
   "metadata": {},
   "outputs": [],
   "source": [
    "# Let's implement a task with two outputs. Just use a container type, such as dict, list, namedtuple, etc.\n",
    "# redun has no need for special syntax for multiple outputs.\n",
    "\n",
    "@task()\n",
    "def intdiv(numerator, denominator):\n",
    "    quotient, remainder = divmod(numerator, denominator)\n",
    "    return {\n",
    "        \"quotient\": quotient,\n",
    "        \"remainder\": remainder,\n",
    "    }"
   ]
  },
  {
   "cell_type": "code",
   "execution_count": 28,
   "metadata": {},
   "outputs": [
    {
     "data": {
      "text/plain": [
       "redun_notebook.intdiv(12, 5)['quotient']"
      ]
     },
     "execution_count": 28,
     "metadata": {},
     "output_type": "execute_result"
    }
   ],
   "source": [
    "# Key and attribute access can be done lazily.\n",
    "# This allows us to route just some of the output to another task.\n",
    "intdiv(12, 5)[\"quotient\"]"
   ]
  },
  {
   "cell_type": "code",
   "execution_count": 29,
   "metadata": {},
   "outputs": [
    {
     "name": "stdout",
     "output_type": "stream",
     "text": [
      "start add(2, 2)\n",
      "stop  add(2, 2)\n"
     ]
    },
    {
     "data": {
      "text/plain": [
       "7"
      ]
     },
     "execution_count": 29,
     "metadata": {},
     "output_type": "execute_result"
    }
   ],
   "source": [
    "# Here we route the two outputs to different downstream computations.\n",
    "result = intdiv(12, 5)\n",
    "x = add(result[\"quotient\"], 1)\n",
    "y = add(result[\"remainder\"], 2)\n",
    "scheduler.run(add(x, y))"
   ]
  },
  {
   "cell_type": "code",
   "execution_count": 30,
   "metadata": {},
   "outputs": [
    {
     "data": {
      "text/plain": [
       "redun_notebook.returns_alot().get_friend().name"
      ]
     },
     "execution_count": 30,
     "metadata": {},
     "output_type": "execute_result"
    }
   ],
   "source": [
    "class User:\n",
    "    def __init__(self, name, friend=None):\n",
    "        self.name = name\n",
    "        self.friend = friend\n",
    "    \n",
    "    def get_friend(self):\n",
    "        return self.friend\n",
    "\n",
    "@task()\n",
    "def returns_alot():\n",
    "    return User(\"Alice\", friend=User(\"Bob\"))\n",
    "\n",
    "# Many operations can be chained lazily. For example, attribute access and function calls.\n",
    "expr = returns_alot().get_friend().name\n",
    "expr"
   ]
  },
  {
   "cell_type": "code",
   "execution_count": 31,
   "metadata": {},
   "outputs": [
    {
     "data": {
      "text/plain": [
       "'Bob'"
      ]
     },
     "execution_count": 31,
     "metadata": {},
     "output_type": "execute_result"
    }
   ],
   "source": [
    "scheduler.run(expr)"
   ]
  },
  {
   "cell_type": "code",
   "execution_count": 32,
   "metadata": {},
   "outputs": [
    {
     "name": "stdout",
     "output_type": "stream",
     "text": [
      "((redun_notebook.add(1, 2) + 1) * redun_notebook.add(1, 1))\n"
     ]
    },
    {
     "data": {
      "text/plain": [
       "8"
      ]
     },
     "execution_count": 32,
     "metadata": {},
     "output_type": "execute_result"
    }
   ],
   "source": [
    "# Most operators can be used lazily.\n",
    "expr = (add(1, 2) + 1) * add(1, 1)\n",
    "print(expr)\n",
    "scheduler.run(expr)"
   ]
  },
  {
   "cell_type": "code",
   "execution_count": 33,
   "metadata": {},
   "outputs": [],
   "source": [
    "# Tasks are first-class values and can be used as arguments and return values.\n",
    "# Let's create a higher-order task that performs divide and conquer generically.\n",
    "\n",
    "@task()\n",
    "def divide_and_conquer(a_task, values, init=0):\n",
    "    if len(values) == 0:\n",
    "        return init\n",
    "    elif len(values) == 1:\n",
    "        return values[0]\n",
    "    else:\n",
    "        k = len(values) // 2\n",
    "        sum1 = divide_and_conquer(a_task, values[:k])\n",
    "        sum2 = divide_and_conquer(a_task, values[k:])\n",
    "        return a_task(sum1, sum2)"
   ]
  },
  {
   "cell_type": "code",
   "execution_count": 34,
   "metadata": {},
   "outputs": [
    {
     "name": "stdout",
     "output_type": "stream",
     "text": [
      "start add(8, 9)\n",
      "start add(2, 7)\n",
      "stop  add(8, 9)\n",
      "stop  add(2, 7)\n",
      "start add(7, 17)\n",
      "start add(1, 9)\n",
      "stop  add(7, 17)\n",
      "stop  add(1, 9)\n",
      "start add(11, 24)\n",
      "stop  add(11, 24)\n",
      "start add(10, 35)\n",
      "stop  add(10, 35)\n"
     ]
    },
    {
     "data": {
      "text/plain": [
       "45"
      ]
     },
     "execution_count": 34,
     "metadata": {},
     "output_type": "execute_result"
    }
   ],
   "source": [
    "scheduler.run(divide_and_conquer(add, list(range(10))))"
   ]
  },
  {
   "cell_type": "code",
   "execution_count": 35,
   "metadata": {},
   "outputs": [],
   "source": [
    "# Now we can apply our divide and conquer to other \"reducer\" tasks."
   ]
  },
  {
   "cell_type": "code",
   "execution_count": 36,
   "metadata": {},
   "outputs": [],
   "source": [
    "@task()\n",
    "def mult(a, b):\n",
    "    return a * b"
   ]
  },
  {
   "cell_type": "code",
   "execution_count": 37,
   "metadata": {},
   "outputs": [
    {
     "data": {
      "text/plain": [
       "362880"
      ]
     },
     "execution_count": 37,
     "metadata": {},
     "output_type": "execute_result"
    }
   ],
   "source": [
    "scheduler.run(divide_and_conquer(mult, list(range(1, 10))))"
   ]
  },
  {
   "cell_type": "code",
   "execution_count": 38,
   "metadata": {},
   "outputs": [],
   "source": [
    "@task()\n",
    "def pair(a, b):\n",
    "    return (a, b)"
   ]
  },
  {
   "cell_type": "code",
   "execution_count": 39,
   "metadata": {},
   "outputs": [
    {
     "data": {
      "text/plain": [
       "(((0, 1), (2, (3, 4))), ((5, 6), (7, (8, 9))))"
      ]
     },
     "execution_count": 39,
     "metadata": {},
     "output_type": "execute_result"
    }
   ],
   "source": [
    "scheduler.run(divide_and_conquer(pair, list(range(10))))"
   ]
  },
  {
   "cell_type": "code",
   "execution_count": 40,
   "metadata": {},
   "outputs": [
    {
     "name": "stdout",
     "output_type": "stream",
     "text": [
      "PartialTask(fullname=redun_notebook.add, hash=6c7d07ac, args=(1,), kwargs={})\n",
      "redun_notebook.add(1, 10)\n",
      "start add(1, 10)\n",
      "stop  add(1, 10)\n"
     ]
    },
    {
     "data": {
      "text/plain": [
       "11"
      ]
     },
     "execution_count": 40,
     "metadata": {},
     "output_type": "execute_result"
    }
   ],
   "source": [
    "# Tasks also support partial application.\n",
    "inc = add.partial(1)\n",
    "print(inc)\n",
    "print(inc(10))\n",
    "scheduler.run(inc(10))"
   ]
  },
  {
   "cell_type": "code",
   "execution_count": 41,
   "metadata": {},
   "outputs": [],
   "source": [
    "# We can use task options to modify how tasks are run.\n",
    "# For example, we can turn off caching on a per task-basis.\n",
    "@task(cache=False)\n",
    "def double(x):\n",
    "    print(\"Doubling\", x)\n",
    "    return x * 2"
   ]
  },
  {
   "cell_type": "code",
   "execution_count": 42,
   "metadata": {},
   "outputs": [
    {
     "name": "stdout",
     "output_type": "stream",
     "text": [
      "Doubling 1\n",
      "2\n",
      "Doubling 1\n",
      "2\n"
     ]
    }
   ],
   "source": [
    "# Notice we see the \"Doubling\" print statement occurs twice, so caching is disabled.\n",
    "print(scheduler.run(double(1)))\n",
    "print(scheduler.run(double(1)))"
   ]
  },
  {
   "cell_type": "code",
   "execution_count": 43,
   "metadata": {},
   "outputs": [
    {
     "name": "stdout",
     "output_type": "stream",
     "text": [
      "2\n",
      "2\n"
     ]
    }
   ],
   "source": [
    "# We'll see in later examples, that when running tasks on a remote cluster, we can \n",
    "# specify options such as `memory`, `cpus`, and `gpus`.\n",
    "# We can also override task options at call time.\n",
    "# With caching, we won't see the \"Doubling\" print statements any more.\n",
    "print(scheduler.run(double.options(cache=True)(1)))\n",
    "print(scheduler.run(double.options(cache=True)(1)))"
   ]
  },
  {
   "cell_type": "code",
   "execution_count": 44,
   "metadata": {},
   "outputs": [],
   "source": [
    "# Try your own expressions!"
   ]
  },
  {
   "cell_type": "code",
   "execution_count": null,
   "metadata": {},
   "outputs": [],
   "source": []
  },
  {
   "cell_type": "code",
   "execution_count": null,
   "metadata": {},
   "outputs": [],
   "source": []
  }
 ],
 "metadata": {
  "kernelspec": {
   "display_name": "Python 3 (ipykernel)",
   "language": "python",
   "name": "python3"
  },
  "language_info": {
   "codemirror_mode": {
    "name": "ipython",
    "version": 3
   },
   "file_extension": ".py",
   "mimetype": "text/x-python",
   "name": "python",
   "nbconvert_exporter": "python",
   "pygments_lexer": "ipython3",
   "version": "3.9.5"
  }
 },
 "nbformat": 4,
 "nbformat_minor": 4
}
